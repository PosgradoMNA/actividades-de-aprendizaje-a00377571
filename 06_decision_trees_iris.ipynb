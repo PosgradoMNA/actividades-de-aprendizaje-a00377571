{
  "cells": [
    {
      "cell_type": "markdown",
      "metadata": {
        "id": "fQoqThDrqP7Z"
      },
      "source": [
        "**Chapter 6 – Decision Trees**"
      ]
    },
    {
      "cell_type": "markdown",
      "metadata": {
        "id": "_RRzDV8_qP7l"
      },
      "source": [
        "_This notebook contains all the sample code and solutions to the exercises in chapter 6._"
      ]
    },
    {
      "cell_type": "markdown",
      "metadata": {
        "id": "584auvKgqP7m"
      },
      "source": [
        "<table align=\"left\">\n",
        "  <td>\n",
        "    <a href=\"https://colab.research.google.com/github/ageron/handson-ml3/blob/main/06_decision_trees.ipynb\" target=\"_parent\"><img src=\"https://colab.research.google.com/assets/colab-badge.svg\" alt=\"Open In Colab\"/></a>\n",
        "  </td>\n",
        "  <td>\n",
        "    <a target=\"_blank\" href=\"https://kaggle.com/kernels/welcome?src=https://github.com/ageron/handson-ml3/blob/main/06_decision_trees.ipynb\"><img src=\"https://kaggle.com/static/images/open-in-kaggle.svg\" /></a>\n",
        "  </td>\n",
        "</table>"
      ]
    },
    {
      "cell_type": "markdown",
      "metadata": {
        "tags": [],
        "id": "fVeVz11ZqP7n"
      },
      "source": [
        "# Setup"
      ]
    },
    {
      "cell_type": "markdown",
      "metadata": {
        "id": "BXhjE-rxqP7o"
      },
      "source": [
        "This project requires Python 3.7 or above:"
      ]
    },
    {
      "cell_type": "code",
      "execution_count": 1,
      "metadata": {
        "id": "Mv_tlHhkqP7p"
      },
      "outputs": [],
      "source": [
        "import sys\n",
        "\n",
        "assert sys.version_info >= (3, 7)"
      ]
    },
    {
      "cell_type": "markdown",
      "metadata": {
        "id": "xIr5f37kqP7s"
      },
      "source": [
        "It also requires Scikit-Learn ≥ 1.0.1:"
      ]
    },
    {
      "cell_type": "code",
      "execution_count": 2,
      "metadata": {
        "id": "er5XmXU9qP7t"
      },
      "outputs": [],
      "source": [
        "from packaging import version\n",
        "import sklearn\n",
        "\n",
        "assert version.parse(sklearn.__version__) >= version.parse(\"1.0.1\")"
      ]
    },
    {
      "cell_type": "markdown",
      "metadata": {
        "id": "ajgYSzdyqP7u"
      },
      "source": [
        "As we did in previous chapters, let's define the default font sizes to make the figures prettier:"
      ]
    },
    {
      "cell_type": "code",
      "execution_count": 3,
      "metadata": {
        "id": "jBTedgkfqP7w"
      },
      "outputs": [],
      "source": [
        "import matplotlib.pyplot as plt\n",
        "\n",
        "plt.rc('font', size=14)\n",
        "plt.rc('axes', labelsize=14, titlesize=14)\n",
        "plt.rc('legend', fontsize=14)\n",
        "plt.rc('xtick', labelsize=10)\n",
        "plt.rc('ytick', labelsize=10)"
      ]
    },
    {
      "cell_type": "markdown",
      "metadata": {
        "id": "JNctzYY_qP7x"
      },
      "source": [
        "And let's create the `images/decision_trees` folder (if it doesn't already exist), and define the `save_fig()` function which is used through this notebook to save the figures in high-res for the book:"
      ]
    },
    {
      "cell_type": "code",
      "execution_count": 4,
      "metadata": {
        "id": "iZY10rU_qP70"
      },
      "outputs": [],
      "source": [
        "from pathlib import Path\n",
        "\n",
        "IMAGES_PATH = Path() / \"images\" / \"decision_trees\"\n",
        "IMAGES_PATH.mkdir(parents=True, exist_ok=True)\n",
        "\n",
        "def save_fig(fig_id, tight_layout=True, fig_extension=\"png\", resolution=300):\n",
        "    path = IMAGES_PATH / f\"{fig_id}.{fig_extension}\"\n",
        "    if tight_layout:\n",
        "        plt.tight_layout()\n",
        "    plt.savefig(path, format=fig_extension, dpi=resolution)"
      ]
    },
    {
      "cell_type": "markdown",
      "metadata": {
        "id": "50l2-3yDqP71"
      },
      "source": [
        "# Training and Visualizing a Decision Tree"
      ]
    },
    {
      "cell_type": "code",
      "execution_count": 5,
      "metadata": {
        "id": "0pRtJhulqP72",
        "outputId": "9f490906-8215-49b9-b66f-354f7ea46373",
        "colab": {
          "base_uri": "https://localhost:8080/"
        }
      },
      "outputs": [
        {
          "output_type": "stream",
          "name": "stdout",
          "text": [
            "{'data':      sepal length (cm)  sepal width (cm)  petal length (cm)  petal width (cm)\n",
            "0                  5.1               3.5                1.4               0.2\n",
            "1                  4.9               3.0                1.4               0.2\n",
            "2                  4.7               3.2                1.3               0.2\n",
            "3                  4.6               3.1                1.5               0.2\n",
            "4                  5.0               3.6                1.4               0.2\n",
            "..                 ...               ...                ...               ...\n",
            "145                6.7               3.0                5.2               2.3\n",
            "146                6.3               2.5                5.0               1.9\n",
            "147                6.5               3.0                5.2               2.0\n",
            "148                6.2               3.4                5.4               2.3\n",
            "149                5.9               3.0                5.1               1.8\n",
            "\n",
            "[150 rows x 4 columns], 'target': 0      0\n",
            "1      0\n",
            "2      0\n",
            "3      0\n",
            "4      0\n",
            "      ..\n",
            "145    2\n",
            "146    2\n",
            "147    2\n",
            "148    2\n",
            "149    2\n",
            "Name: target, Length: 150, dtype: int64, 'frame':      sepal length (cm)  sepal width (cm)  petal length (cm)  petal width (cm)  \\\n",
            "0                  5.1               3.5                1.4               0.2   \n",
            "1                  4.9               3.0                1.4               0.2   \n",
            "2                  4.7               3.2                1.3               0.2   \n",
            "3                  4.6               3.1                1.5               0.2   \n",
            "4                  5.0               3.6                1.4               0.2   \n",
            "..                 ...               ...                ...               ...   \n",
            "145                6.7               3.0                5.2               2.3   \n",
            "146                6.3               2.5                5.0               1.9   \n",
            "147                6.5               3.0                5.2               2.0   \n",
            "148                6.2               3.4                5.4               2.3   \n",
            "149                5.9               3.0                5.1               1.8   \n",
            "\n",
            "     target  \n",
            "0         0  \n",
            "1         0  \n",
            "2         0  \n",
            "3         0  \n",
            "4         0  \n",
            "..      ...  \n",
            "145       2  \n",
            "146       2  \n",
            "147       2  \n",
            "148       2  \n",
            "149       2  \n",
            "\n",
            "[150 rows x 5 columns], 'target_names': array(['setosa', 'versicolor', 'virginica'], dtype='<U10'), 'DESCR': '.. _iris_dataset:\\n\\nIris plants dataset\\n--------------------\\n\\n**Data Set Characteristics:**\\n\\n    :Number of Instances: 150 (50 in each of three classes)\\n    :Number of Attributes: 4 numeric, predictive attributes and the class\\n    :Attribute Information:\\n        - sepal length in cm\\n        - sepal width in cm\\n        - petal length in cm\\n        - petal width in cm\\n        - class:\\n                - Iris-Setosa\\n                - Iris-Versicolour\\n                - Iris-Virginica\\n                \\n    :Summary Statistics:\\n\\n    ============== ==== ==== ======= ===== ====================\\n                    Min  Max   Mean    SD   Class Correlation\\n    ============== ==== ==== ======= ===== ====================\\n    sepal length:   4.3  7.9   5.84   0.83    0.7826\\n    sepal width:    2.0  4.4   3.05   0.43   -0.4194\\n    petal length:   1.0  6.9   3.76   1.76    0.9490  (high!)\\n    petal width:    0.1  2.5   1.20   0.76    0.9565  (high!)\\n    ============== ==== ==== ======= ===== ====================\\n\\n    :Missing Attribute Values: None\\n    :Class Distribution: 33.3% for each of 3 classes.\\n    :Creator: R.A. Fisher\\n    :Donor: Michael Marshall (MARSHALL%PLU@io.arc.nasa.gov)\\n    :Date: July, 1988\\n\\nThe famous Iris database, first used by Sir R.A. Fisher. The dataset is taken\\nfrom Fisher\\'s paper. Note that it\\'s the same as in R, but not as in the UCI\\nMachine Learning Repository, which has two wrong data points.\\n\\nThis is perhaps the best known database to be found in the\\npattern recognition literature.  Fisher\\'s paper is a classic in the field and\\nis referenced frequently to this day.  (See Duda & Hart, for example.)  The\\ndata set contains 3 classes of 50 instances each, where each class refers to a\\ntype of iris plant.  One class is linearly separable from the other 2; the\\nlatter are NOT linearly separable from each other.\\n\\n.. topic:: References\\n\\n   - Fisher, R.A. \"The use of multiple measurements in taxonomic problems\"\\n     Annual Eugenics, 7, Part II, 179-188 (1936); also in \"Contributions to\\n     Mathematical Statistics\" (John Wiley, NY, 1950).\\n   - Duda, R.O., & Hart, P.E. (1973) Pattern Classification and Scene Analysis.\\n     (Q327.D83) John Wiley & Sons.  ISBN 0-471-22361-1.  See page 218.\\n   - Dasarathy, B.V. (1980) \"Nosing Around the Neighborhood: A New System\\n     Structure and Classification Rule for Recognition in Partially Exposed\\n     Environments\".  IEEE Transactions on Pattern Analysis and Machine\\n     Intelligence, Vol. PAMI-2, No. 1, 67-71.\\n   - Gates, G.W. (1972) \"The Reduced Nearest Neighbor Rule\".  IEEE Transactions\\n     on Information Theory, May 1972, 431-433.\\n   - See also: 1988 MLC Proceedings, 54-64.  Cheeseman et al\"s AUTOCLASS II\\n     conceptual clustering system finds 3 classes in the data.\\n   - Many, many more ...', 'feature_names': ['sepal length (cm)', 'sepal width (cm)', 'petal length (cm)', 'petal width (cm)'], 'filename': 'iris.csv', 'data_module': 'sklearn.datasets.data'}\n"
          ]
        }
      ],
      "source": [
        "from sklearn.datasets import load_iris\n",
        "from sklearn.tree import DecisionTreeClassifier\n",
        "import pandas as pd\n",
        "\n",
        "\n",
        "iris=load_iris(as_frame=True)\n",
        "\n",
        "print(iris)"
      ]
    },
    {
      "cell_type": "code",
      "source": [
        "X_entrenamiento,X_test,y_entrenamiento,y_test = train_test_split(iris.data , iris.target )\n",
        "print(X_entrenamiento)\n",
        "print('------------------------------------------------------')\n",
        "print(X_test)\n",
        "print('*******************************************************')\n",
        "print(y_entrenamiento)\n",
        "print('++++++++++++++++++++++++++')\n",
        "print(y_test)\n",
        "y_test.describe()"
      ],
      "metadata": {
        "id": "fByQThOfTSlr",
        "outputId": "6db28047-0c05-4cae-d004-6e29b932a054",
        "colab": {
          "base_uri": "https://localhost:8080/"
        }
      },
      "execution_count": 71,
      "outputs": [
        {
          "output_type": "stream",
          "name": "stdout",
          "text": [
            "     sepal length (cm)  sepal width (cm)  petal length (cm)  petal width (cm)\n",
            "121                5.6               2.8                4.9               2.0\n",
            "132                6.4               2.8                5.6               2.2\n",
            "76                 6.8               2.8                4.8               1.4\n",
            "19                 5.1               3.8                1.5               0.3\n",
            "59                 5.2               2.7                3.9               1.4\n",
            "..                 ...               ...                ...               ...\n",
            "139                6.9               3.1                5.4               2.1\n",
            "98                 5.1               2.5                3.0               1.1\n",
            "142                5.8               2.7                5.1               1.9\n",
            "28                 5.2               3.4                1.4               0.2\n",
            "100                6.3               3.3                6.0               2.5\n",
            "\n",
            "[112 rows x 4 columns]\n",
            "------------------------------------------------------\n",
            "     sepal length (cm)  sepal width (cm)  petal length (cm)  petal width (cm)\n",
            "95                 5.7               3.0                4.2               1.2\n",
            "9                  4.9               3.1                1.5               0.1\n",
            "94                 5.6               2.7                4.2               1.3\n",
            "48                 5.3               3.7                1.5               0.2\n",
            "35                 5.0               3.2                1.2               0.2\n",
            "58                 6.6               2.9                4.6               1.3\n",
            "129                7.2               3.0                5.8               1.6\n",
            "122                7.7               2.8                6.7               2.0\n",
            "101                5.8               2.7                5.1               1.9\n",
            "47                 4.6               3.2                1.4               0.2\n",
            "147                6.5               3.0                5.2               2.0\n",
            "117                7.7               3.8                6.7               2.2\n",
            "30                 4.8               3.1                1.6               0.2\n",
            "111                6.4               2.7                5.3               1.9\n",
            "138                6.0               3.0                4.8               1.8\n",
            "71                 6.1               2.8                4.0               1.3\n",
            "90                 5.5               2.6                4.4               1.2\n",
            "93                 5.0               2.3                3.3               1.0\n",
            "89                 5.5               2.5                4.0               1.3\n",
            "18                 5.7               3.8                1.7               0.3\n",
            "65                 6.7               3.1                4.4               1.4\n",
            "109                7.2               3.6                6.1               2.5\n",
            "88                 5.6               3.0                4.1               1.3\n",
            "57                 4.9               2.4                3.3               1.0\n",
            "38                 4.4               3.0                1.3               0.2\n",
            "63                 6.1               2.9                4.7               1.4\n",
            "86                 6.7               3.1                4.7               1.5\n",
            "13                 4.3               3.0                1.1               0.1\n",
            "21                 5.1               3.7                1.5               0.4\n",
            "56                 6.3               3.3                4.7               1.6\n",
            "114                5.8               2.8                5.1               2.4\n",
            "0                  5.1               3.5                1.4               0.2\n",
            "67                 5.8               2.7                4.1               1.0\n",
            "118                7.7               2.6                6.9               2.3\n",
            "32                 5.2               4.1                1.5               0.1\n",
            "87                 6.3               2.3                4.4               1.3\n",
            "22                 4.6               3.6                1.0               0.2\n",
            "128                6.4               2.8                5.6               2.1\n",
            "*******************************************************\n",
            "121    2\n",
            "132    2\n",
            "76     1\n",
            "19     0\n",
            "59     1\n",
            "      ..\n",
            "139    2\n",
            "98     1\n",
            "142    2\n",
            "28     0\n",
            "100    2\n",
            "Name: target, Length: 112, dtype: int64\n",
            "++++++++++++++++++++++++++\n",
            "95     1\n",
            "9      0\n",
            "94     1\n",
            "48     0\n",
            "35     0\n",
            "58     1\n",
            "129    2\n",
            "122    2\n",
            "101    2\n",
            "47     0\n",
            "147    2\n",
            "117    2\n",
            "30     0\n",
            "111    2\n",
            "138    2\n",
            "71     1\n",
            "90     1\n",
            "93     1\n",
            "89     1\n",
            "18     0\n",
            "65     1\n",
            "109    2\n",
            "88     1\n",
            "57     1\n",
            "38     0\n",
            "63     1\n",
            "86     1\n",
            "13     0\n",
            "21     0\n",
            "56     1\n",
            "114    2\n",
            "0      0\n",
            "67     1\n",
            "118    2\n",
            "32     0\n",
            "87     1\n",
            "22     0\n",
            "128    2\n",
            "Name: target, dtype: int64\n"
          ]
        },
        {
          "output_type": "execute_result",
          "data": {
            "text/plain": [
              "count    38.000000\n",
              "mean      0.973684\n",
              "std       0.787979\n",
              "min       0.000000\n",
              "25%       0.000000\n",
              "50%       1.000000\n",
              "75%       2.000000\n",
              "max       2.000000\n",
              "Name: target, dtype: float64"
            ]
          },
          "metadata": {},
          "execution_count": 71
        }
      ]
    },
    {
      "cell_type": "code",
      "source": [
        "arbol=DecisionTreeClassifier()\n",
        "arbol.fit(X_entrenamiento , y_entrenamiento)\n"
      ],
      "metadata": {
        "id": "oWd7m5ImVXXN",
        "outputId": "6ebc3fe6-921c-4f0c-99ef-404b407b498d",
        "colab": {
          "base_uri": "https://localhost:8080/"
        }
      },
      "execution_count": 73,
      "outputs": [
        {
          "output_type": "execute_result",
          "data": {
            "text/plain": [
              "DecisionTreeClassifier()"
            ]
          },
          "metadata": {},
          "execution_count": 73
        }
      ]
    },
    {
      "cell_type": "code",
      "source": [
        "arbol.score(X_test , y_test )"
      ],
      "metadata": {
        "id": "yxGQXmC7VcQY",
        "outputId": "9a789944-4d48-4ff1-bc6b-0a05249a7bc4",
        "colab": {
          "base_uri": "https://localhost:8080/"
        }
      },
      "execution_count": 74,
      "outputs": [
        {
          "output_type": "execute_result",
          "data": {
            "text/plain": [
              "0.9736842105263158"
            ]
          },
          "metadata": {},
          "execution_count": 74
        }
      ]
    },
    {
      "cell_type": "code",
      "source": [
        "import graphviz\n",
        "import matplotlib.pyplot as plt\n",
        "import numpy as np\n"
      ],
      "metadata": {
        "id": "kQlV-MvUV_WS"
      },
      "execution_count": 75,
      "outputs": []
    },
    {
      "cell_type": "code",
      "source": [
        "export_graphviz(arbol, out_file='arbol.dot' , class_names=iris.target_names , \n",
        "                feature_names=iris.feature_names , impurity=False , filled=True)"
      ],
      "metadata": {
        "id": "Ljxlv_9_Z9JZ"
      },
      "execution_count": 77,
      "outputs": []
    },
    {
      "cell_type": "code",
      "source": [
        "with open ('arbol.dot') as f:\n",
        "  dot_graph= f.read()\n",
        "graphviz.Source(dot_graph)"
      ],
      "metadata": {
        "id": "xu3hHHTIbLmu",
        "outputId": "18090693-6883-4a60-9668-6bc7266f6609",
        "colab": {
          "base_uri": "https://localhost:8080/",
          "height": 657
        }
      },
      "execution_count": 78,
      "outputs": [
        {
          "output_type": "execute_result",
          "data": {
            "text/plain": [
              "<graphviz.files.Source at 0x7f307079a490>"
            ],
            "image/svg+xml": "<?xml version=\"1.0\" encoding=\"UTF-8\" standalone=\"no\"?>\n<!DOCTYPE svg PUBLIC \"-//W3C//DTD SVG 1.1//EN\"\n \"http://www.w3.org/Graphics/SVG/1.1/DTD/svg11.dtd\">\n<!-- Generated by graphviz version 2.40.1 (20161225.0304)\n -->\n<!-- Title: Tree Pages: 1 -->\n<svg width=\"860pt\" height=\"477pt\"\n viewBox=\"0.00 0.00 859.50 477.00\" xmlns=\"http://www.w3.org/2000/svg\" xmlns:xlink=\"http://www.w3.org/1999/xlink\">\n<g id=\"graph0\" class=\"graph\" transform=\"scale(1 1) rotate(0) translate(4 473)\">\n<title>Tree</title>\n<polygon fill=\"#ffffff\" stroke=\"transparent\" points=\"-4,4 -4,-473 855.5,-473 855.5,4 -4,4\"/>\n<!-- 0 -->\n<g id=\"node1\" class=\"node\">\n<title>0</title>\n<polygon fill=\"#fdfcff\" stroke=\"#000000\" points=\"525,-469 349,-469 349,-401 525,-401 525,-469\"/>\n<text text-anchor=\"middle\" x=\"437\" y=\"-453.8\" font-family=\"Helvetica,sans-Serif\" font-size=\"14.00\" fill=\"#000000\">petal length (cm) &lt;= 2.45</text>\n<text text-anchor=\"middle\" x=\"437\" y=\"-438.8\" font-family=\"Helvetica,sans-Serif\" font-size=\"14.00\" fill=\"#000000\">samples = 112</text>\n<text text-anchor=\"middle\" x=\"437\" y=\"-423.8\" font-family=\"Helvetica,sans-Serif\" font-size=\"14.00\" fill=\"#000000\">value = [38, 35, 39]</text>\n<text text-anchor=\"middle\" x=\"437\" y=\"-408.8\" font-family=\"Helvetica,sans-Serif\" font-size=\"14.00\" fill=\"#000000\">class = virginica</text>\n</g>\n<!-- 1 -->\n<g id=\"node2\" class=\"node\">\n<title>1</title>\n<polygon fill=\"#e58139\" stroke=\"#000000\" points=\"416.5,-357.5 293.5,-357.5 293.5,-304.5 416.5,-304.5 416.5,-357.5\"/>\n<text text-anchor=\"middle\" x=\"355\" y=\"-342.3\" font-family=\"Helvetica,sans-Serif\" font-size=\"14.00\" fill=\"#000000\">samples = 38</text>\n<text text-anchor=\"middle\" x=\"355\" y=\"-327.3\" font-family=\"Helvetica,sans-Serif\" font-size=\"14.00\" fill=\"#000000\">value = [38, 0, 0]</text>\n<text text-anchor=\"middle\" x=\"355\" y=\"-312.3\" font-family=\"Helvetica,sans-Serif\" font-size=\"14.00\" fill=\"#000000\">class = setosa</text>\n</g>\n<!-- 0&#45;&gt;1 -->\n<g id=\"edge1\" class=\"edge\">\n<title>0&#45;&gt;1</title>\n<path fill=\"none\" stroke=\"#000000\" d=\"M410.1501,-400.9465C401.2048,-389.6012 391.2351,-376.9567 382.259,-365.5724\"/>\n<polygon fill=\"#000000\" stroke=\"#000000\" points=\"384.8675,-363.2278 375.9275,-357.5422 379.3706,-367.5619 384.8675,-363.2278\"/>\n<text text-anchor=\"middle\" x=\"372.991\" y=\"-378.6691\" font-family=\"Helvetica,sans-Serif\" font-size=\"14.00\" fill=\"#000000\">True</text>\n</g>\n<!-- 2 -->\n<g id=\"node3\" class=\"node\">\n<title>2</title>\n<polygon fill=\"#f2ebfc\" stroke=\"#000000\" points=\"605,-365 435,-365 435,-297 605,-297 605,-365\"/>\n<text text-anchor=\"middle\" x=\"520\" y=\"-349.8\" font-family=\"Helvetica,sans-Serif\" font-size=\"14.00\" fill=\"#000000\">petal width (cm) &lt;= 1.75</text>\n<text text-anchor=\"middle\" x=\"520\" y=\"-334.8\" font-family=\"Helvetica,sans-Serif\" font-size=\"14.00\" fill=\"#000000\">samples = 74</text>\n<text text-anchor=\"middle\" x=\"520\" y=\"-319.8\" font-family=\"Helvetica,sans-Serif\" font-size=\"14.00\" fill=\"#000000\">value = [0, 35, 39]</text>\n<text text-anchor=\"middle\" x=\"520\" y=\"-304.8\" font-family=\"Helvetica,sans-Serif\" font-size=\"14.00\" fill=\"#000000\">class = virginica</text>\n</g>\n<!-- 0&#45;&gt;2 -->\n<g id=\"edge2\" class=\"edge\">\n<title>0&#45;&gt;2</title>\n<path fill=\"none\" stroke=\"#000000\" d=\"M464.1773,-400.9465C471.2712,-392.0578 479.0015,-382.3716 486.386,-373.1188\"/>\n<polygon fill=\"#000000\" stroke=\"#000000\" points=\"489.2594,-375.1293 492.7616,-365.13 483.7882,-370.7628 489.2594,-375.1293\"/>\n<text text-anchor=\"middle\" x=\"495.5516\" y=\"-386.2738\" font-family=\"Helvetica,sans-Serif\" font-size=\"14.00\" fill=\"#000000\">False</text>\n</g>\n<!-- 3 -->\n<g id=\"node4\" class=\"node\">\n<title>3</title>\n<polygon fill=\"#50e890\" stroke=\"#000000\" points=\"501,-261 325,-261 325,-193 501,-193 501,-261\"/>\n<text text-anchor=\"middle\" x=\"413\" y=\"-245.8\" font-family=\"Helvetica,sans-Serif\" font-size=\"14.00\" fill=\"#000000\">petal length (cm) &lt;= 4.95</text>\n<text text-anchor=\"middle\" x=\"413\" y=\"-230.8\" font-family=\"Helvetica,sans-Serif\" font-size=\"14.00\" fill=\"#000000\">samples = 38</text>\n<text text-anchor=\"middle\" x=\"413\" y=\"-215.8\" font-family=\"Helvetica,sans-Serif\" font-size=\"14.00\" fill=\"#000000\">value = [0, 34, 4]</text>\n<text text-anchor=\"middle\" x=\"413\" y=\"-200.8\" font-family=\"Helvetica,sans-Serif\" font-size=\"14.00\" fill=\"#000000\">class = versicolor</text>\n</g>\n<!-- 2&#45;&gt;3 -->\n<g id=\"edge3\" class=\"edge\">\n<title>2&#45;&gt;3</title>\n<path fill=\"none\" stroke=\"#000000\" d=\"M484.9642,-296.9465C475.5419,-287.7884 465.2487,-277.7838 455.4696,-268.2788\"/>\n<polygon fill=\"#000000\" stroke=\"#000000\" points=\"457.7249,-265.59 448.1145,-261.13 452.846,-270.6097 457.7249,-265.59\"/>\n</g>\n<!-- 10 -->\n<g id=\"node11\" class=\"node\">\n<title>10</title>\n<polygon fill=\"#853fe6\" stroke=\"#000000\" points=\"715,-261 539,-261 539,-193 715,-193 715,-261\"/>\n<text text-anchor=\"middle\" x=\"627\" y=\"-245.8\" font-family=\"Helvetica,sans-Serif\" font-size=\"14.00\" fill=\"#000000\">petal length (cm) &lt;= 4.85</text>\n<text text-anchor=\"middle\" x=\"627\" y=\"-230.8\" font-family=\"Helvetica,sans-Serif\" font-size=\"14.00\" fill=\"#000000\">samples = 36</text>\n<text text-anchor=\"middle\" x=\"627\" y=\"-215.8\" font-family=\"Helvetica,sans-Serif\" font-size=\"14.00\" fill=\"#000000\">value = [0, 1, 35]</text>\n<text text-anchor=\"middle\" x=\"627\" y=\"-200.8\" font-family=\"Helvetica,sans-Serif\" font-size=\"14.00\" fill=\"#000000\">class = virginica</text>\n</g>\n<!-- 2&#45;&gt;10 -->\n<g id=\"edge10\" class=\"edge\">\n<title>2&#45;&gt;10</title>\n<path fill=\"none\" stroke=\"#000000\" d=\"M555.0358,-296.9465C564.4581,-287.7884 574.7513,-277.7838 584.5304,-268.2788\"/>\n<polygon fill=\"#000000\" stroke=\"#000000\" points=\"587.154,-270.6097 591.8855,-261.13 582.2751,-265.59 587.154,-270.6097\"/>\n</g>\n<!-- 4 -->\n<g id=\"node5\" class=\"node\">\n<title>4</title>\n<polygon fill=\"#3fe685\" stroke=\"#000000\" points=\"291,-157 121,-157 121,-89 291,-89 291,-157\"/>\n<text text-anchor=\"middle\" x=\"206\" y=\"-141.8\" font-family=\"Helvetica,sans-Serif\" font-size=\"14.00\" fill=\"#000000\">petal width (cm) &lt;= 1.65</text>\n<text text-anchor=\"middle\" x=\"206\" y=\"-126.8\" font-family=\"Helvetica,sans-Serif\" font-size=\"14.00\" fill=\"#000000\">samples = 33</text>\n<text text-anchor=\"middle\" x=\"206\" y=\"-111.8\" font-family=\"Helvetica,sans-Serif\" font-size=\"14.00\" fill=\"#000000\">value = [0, 32, 1]</text>\n<text text-anchor=\"middle\" x=\"206\" y=\"-96.8\" font-family=\"Helvetica,sans-Serif\" font-size=\"14.00\" fill=\"#000000\">class = versicolor</text>\n</g>\n<!-- 3&#45;&gt;4 -->\n<g id=\"edge4\" class=\"edge\">\n<title>3&#45;&gt;4</title>\n<path fill=\"none\" stroke=\"#000000\" d=\"M345.2205,-192.9465C325.2946,-182.9354 303.3554,-171.9129 282.9027,-161.6371\"/>\n<polygon fill=\"#000000\" stroke=\"#000000\" points=\"284.4388,-158.492 273.9318,-157.13 281.2961,-164.7469 284.4388,-158.492\"/>\n</g>\n<!-- 7 -->\n<g id=\"node8\" class=\"node\">\n<title>7</title>\n<polygon fill=\"#d5bdf6\" stroke=\"#000000\" points=\"498,-157 328,-157 328,-89 498,-89 498,-157\"/>\n<text text-anchor=\"middle\" x=\"413\" y=\"-141.8\" font-family=\"Helvetica,sans-Serif\" font-size=\"14.00\" fill=\"#000000\">petal width (cm) &lt;= 1.55</text>\n<text text-anchor=\"middle\" x=\"413\" y=\"-126.8\" font-family=\"Helvetica,sans-Serif\" font-size=\"14.00\" fill=\"#000000\">samples = 5</text>\n<text text-anchor=\"middle\" x=\"413\" y=\"-111.8\" font-family=\"Helvetica,sans-Serif\" font-size=\"14.00\" fill=\"#000000\">value = [0, 2, 3]</text>\n<text text-anchor=\"middle\" x=\"413\" y=\"-96.8\" font-family=\"Helvetica,sans-Serif\" font-size=\"14.00\" fill=\"#000000\">class = virginica</text>\n</g>\n<!-- 3&#45;&gt;7 -->\n<g id=\"edge7\" class=\"edge\">\n<title>3&#45;&gt;7</title>\n<path fill=\"none\" stroke=\"#000000\" d=\"M413,-192.9465C413,-184.776 413,-175.9318 413,-167.3697\"/>\n<polygon fill=\"#000000\" stroke=\"#000000\" points=\"416.5001,-167.13 413,-157.13 409.5001,-167.13 416.5001,-167.13\"/>\n</g>\n<!-- 5 -->\n<g id=\"node6\" class=\"node\">\n<title>5</title>\n<polygon fill=\"#39e581\" stroke=\"#000000\" points=\"128,-53 0,-53 0,0 128,0 128,-53\"/>\n<text text-anchor=\"middle\" x=\"64\" y=\"-37.8\" font-family=\"Helvetica,sans-Serif\" font-size=\"14.00\" fill=\"#000000\">samples = 32</text>\n<text text-anchor=\"middle\" x=\"64\" y=\"-22.8\" font-family=\"Helvetica,sans-Serif\" font-size=\"14.00\" fill=\"#000000\">value = [0, 32, 0]</text>\n<text text-anchor=\"middle\" x=\"64\" y=\"-7.8\" font-family=\"Helvetica,sans-Serif\" font-size=\"14.00\" fill=\"#000000\">class = versicolor</text>\n</g>\n<!-- 4&#45;&gt;5 -->\n<g id=\"edge5\" class=\"edge\">\n<title>4&#45;&gt;5</title>\n<path fill=\"none\" stroke=\"#000000\" d=\"M155.9361,-88.9777C141.6531,-79.2713 126.1287,-68.7213 111.9737,-59.1018\"/>\n<polygon fill=\"#000000\" stroke=\"#000000\" points=\"113.5986,-55.9744 103.3605,-53.2485 109.6641,-61.764 113.5986,-55.9744\"/>\n</g>\n<!-- 6 -->\n<g id=\"node7\" class=\"node\">\n<title>6</title>\n<polygon fill=\"#8139e5\" stroke=\"#000000\" points=\"265.5,-53 146.5,-53 146.5,0 265.5,0 265.5,-53\"/>\n<text text-anchor=\"middle\" x=\"206\" y=\"-37.8\" font-family=\"Helvetica,sans-Serif\" font-size=\"14.00\" fill=\"#000000\">samples = 1</text>\n<text text-anchor=\"middle\" x=\"206\" y=\"-22.8\" font-family=\"Helvetica,sans-Serif\" font-size=\"14.00\" fill=\"#000000\">value = [0, 0, 1]</text>\n<text text-anchor=\"middle\" x=\"206\" y=\"-7.8\" font-family=\"Helvetica,sans-Serif\" font-size=\"14.00\" fill=\"#000000\">class = virginica</text>\n</g>\n<!-- 4&#45;&gt;6 -->\n<g id=\"edge6\" class=\"edge\">\n<title>4&#45;&gt;6</title>\n<path fill=\"none\" stroke=\"#000000\" d=\"M206,-88.9777C206,-80.7364 206,-71.887 206,-63.5153\"/>\n<polygon fill=\"#000000\" stroke=\"#000000\" points=\"209.5001,-63.2484 206,-53.2485 202.5001,-63.2485 209.5001,-63.2484\"/>\n</g>\n<!-- 8 -->\n<g id=\"node9\" class=\"node\">\n<title>8</title>\n<polygon fill=\"#8139e5\" stroke=\"#000000\" points=\"402.5,-53 283.5,-53 283.5,0 402.5,0 402.5,-53\"/>\n<text text-anchor=\"middle\" x=\"343\" y=\"-37.8\" font-family=\"Helvetica,sans-Serif\" font-size=\"14.00\" fill=\"#000000\">samples = 3</text>\n<text text-anchor=\"middle\" x=\"343\" y=\"-22.8\" font-family=\"Helvetica,sans-Serif\" font-size=\"14.00\" fill=\"#000000\">value = [0, 0, 3]</text>\n<text text-anchor=\"middle\" x=\"343\" y=\"-7.8\" font-family=\"Helvetica,sans-Serif\" font-size=\"14.00\" fill=\"#000000\">class = virginica</text>\n</g>\n<!-- 7&#45;&gt;8 -->\n<g id=\"edge8\" class=\"edge\">\n<title>7&#45;&gt;8</title>\n<path fill=\"none\" stroke=\"#000000\" d=\"M388.3206,-88.9777C381.8775,-80.0954 374.922,-70.5067 368.4402,-61.5711\"/>\n<polygon fill=\"#000000\" stroke=\"#000000\" points=\"371.1079,-59.288 362.403,-53.2485 365.4417,-63.3982 371.1079,-59.288\"/>\n</g>\n<!-- 9 -->\n<g id=\"node10\" class=\"node\">\n<title>9</title>\n<polygon fill=\"#39e581\" stroke=\"#000000\" points=\"549,-53 421,-53 421,0 549,0 549,-53\"/>\n<text text-anchor=\"middle\" x=\"485\" y=\"-37.8\" font-family=\"Helvetica,sans-Serif\" font-size=\"14.00\" fill=\"#000000\">samples = 2</text>\n<text text-anchor=\"middle\" x=\"485\" y=\"-22.8\" font-family=\"Helvetica,sans-Serif\" font-size=\"14.00\" fill=\"#000000\">value = [0, 2, 0]</text>\n<text text-anchor=\"middle\" x=\"485\" y=\"-7.8\" font-family=\"Helvetica,sans-Serif\" font-size=\"14.00\" fill=\"#000000\">class = versicolor</text>\n</g>\n<!-- 7&#45;&gt;9 -->\n<g id=\"edge9\" class=\"edge\">\n<title>7&#45;&gt;9</title>\n<path fill=\"none\" stroke=\"#000000\" d=\"M438.3845,-88.9777C445.08,-80.0039 452.3135,-70.3089 459.039,-61.295\"/>\n<polygon fill=\"#000000\" stroke=\"#000000\" points=\"461.8677,-63.3565 465.0426,-53.2485 456.2573,-59.1704 461.8677,-63.3565\"/>\n</g>\n<!-- 11 -->\n<g id=\"node12\" class=\"node\">\n<title>11</title>\n<polygon fill=\"#ffffff\" stroke=\"#000000\" points=\"710,-157 544,-157 544,-89 710,-89 710,-157\"/>\n<text text-anchor=\"middle\" x=\"627\" y=\"-141.8\" font-family=\"Helvetica,sans-Serif\" font-size=\"14.00\" fill=\"#000000\">sepal width (cm) &lt;= 3.0</text>\n<text text-anchor=\"middle\" x=\"627\" y=\"-126.8\" font-family=\"Helvetica,sans-Serif\" font-size=\"14.00\" fill=\"#000000\">samples = 2</text>\n<text text-anchor=\"middle\" x=\"627\" y=\"-111.8\" font-family=\"Helvetica,sans-Serif\" font-size=\"14.00\" fill=\"#000000\">value = [0, 1, 1]</text>\n<text text-anchor=\"middle\" x=\"627\" y=\"-96.8\" font-family=\"Helvetica,sans-Serif\" font-size=\"14.00\" fill=\"#000000\">class = versicolor</text>\n</g>\n<!-- 10&#45;&gt;11 -->\n<g id=\"edge11\" class=\"edge\">\n<title>10&#45;&gt;11</title>\n<path fill=\"none\" stroke=\"#000000\" d=\"M627,-192.9465C627,-184.776 627,-175.9318 627,-167.3697\"/>\n<polygon fill=\"#000000\" stroke=\"#000000\" points=\"630.5001,-167.13 627,-157.13 623.5001,-167.13 630.5001,-167.13\"/>\n</g>\n<!-- 14 -->\n<g id=\"node15\" class=\"node\">\n<title>14</title>\n<polygon fill=\"#8139e5\" stroke=\"#000000\" points=\"851.5,-149.5 728.5,-149.5 728.5,-96.5 851.5,-96.5 851.5,-149.5\"/>\n<text text-anchor=\"middle\" x=\"790\" y=\"-134.3\" font-family=\"Helvetica,sans-Serif\" font-size=\"14.00\" fill=\"#000000\">samples = 34</text>\n<text text-anchor=\"middle\" x=\"790\" y=\"-119.3\" font-family=\"Helvetica,sans-Serif\" font-size=\"14.00\" fill=\"#000000\">value = [0, 0, 34]</text>\n<text text-anchor=\"middle\" x=\"790\" y=\"-104.3\" font-family=\"Helvetica,sans-Serif\" font-size=\"14.00\" fill=\"#000000\">class = virginica</text>\n</g>\n<!-- 10&#45;&gt;14 -->\n<g id=\"edge14\" class=\"edge\">\n<title>10&#45;&gt;14</title>\n<path fill=\"none\" stroke=\"#000000\" d=\"M680.3723,-192.9465C699.5351,-180.72 721.0625,-166.9847 739.9343,-154.9437\"/>\n<polygon fill=\"#000000\" stroke=\"#000000\" points=\"741.8526,-157.8716 748.4003,-149.5422 738.0874,-151.9704 741.8526,-157.8716\"/>\n</g>\n<!-- 12 -->\n<g id=\"node13\" class=\"node\">\n<title>12</title>\n<polygon fill=\"#8139e5\" stroke=\"#000000\" points=\"686.5,-53 567.5,-53 567.5,0 686.5,0 686.5,-53\"/>\n<text text-anchor=\"middle\" x=\"627\" y=\"-37.8\" font-family=\"Helvetica,sans-Serif\" font-size=\"14.00\" fill=\"#000000\">samples = 1</text>\n<text text-anchor=\"middle\" x=\"627\" y=\"-22.8\" font-family=\"Helvetica,sans-Serif\" font-size=\"14.00\" fill=\"#000000\">value = [0, 0, 1]</text>\n<text text-anchor=\"middle\" x=\"627\" y=\"-7.8\" font-family=\"Helvetica,sans-Serif\" font-size=\"14.00\" fill=\"#000000\">class = virginica</text>\n</g>\n<!-- 11&#45;&gt;12 -->\n<g id=\"edge12\" class=\"edge\">\n<title>11&#45;&gt;12</title>\n<path fill=\"none\" stroke=\"#000000\" d=\"M627,-88.9777C627,-80.7364 627,-71.887 627,-63.5153\"/>\n<polygon fill=\"#000000\" stroke=\"#000000\" points=\"630.5001,-63.2484 627,-53.2485 623.5001,-63.2485 630.5001,-63.2484\"/>\n</g>\n<!-- 13 -->\n<g id=\"node14\" class=\"node\">\n<title>13</title>\n<polygon fill=\"#39e581\" stroke=\"#000000\" points=\"833,-53 705,-53 705,0 833,0 833,-53\"/>\n<text text-anchor=\"middle\" x=\"769\" y=\"-37.8\" font-family=\"Helvetica,sans-Serif\" font-size=\"14.00\" fill=\"#000000\">samples = 1</text>\n<text text-anchor=\"middle\" x=\"769\" y=\"-22.8\" font-family=\"Helvetica,sans-Serif\" font-size=\"14.00\" fill=\"#000000\">value = [0, 1, 0]</text>\n<text text-anchor=\"middle\" x=\"769\" y=\"-7.8\" font-family=\"Helvetica,sans-Serif\" font-size=\"14.00\" fill=\"#000000\">class = versicolor</text>\n</g>\n<!-- 11&#45;&gt;13 -->\n<g id=\"edge13\" class=\"edge\">\n<title>11&#45;&gt;13</title>\n<path fill=\"none\" stroke=\"#000000\" d=\"M677.0639,-88.9777C691.3469,-79.2713 706.8713,-68.7213 721.0263,-59.1018\"/>\n<polygon fill=\"#000000\" stroke=\"#000000\" points=\"723.3359,-61.764 729.6395,-53.2485 719.4014,-55.9744 723.3359,-61.764\"/>\n</g>\n</g>\n</svg>\n"
          },
          "metadata": {},
          "execution_count": 78
        }
      ]
    },
    {
      "cell_type": "code",
      "source": [
        "arbol.feature_importances_"
      ],
      "metadata": {
        "id": "GanwDBb6fGM9",
        "outputId": "29033110-efd8-4c5e-b275-8cc5be322947",
        "colab": {
          "base_uri": "https://localhost:8080/"
        }
      },
      "execution_count": 84,
      "outputs": [
        {
          "output_type": "execute_result",
          "data": {
            "text/plain": [
              "array([0.        , 0.01340675, 0.55584845, 0.4307448 ])"
            ]
          },
          "metadata": {},
          "execution_count": 84
        }
      ]
    },
    {
      "cell_type": "code",
      "source": [
        "#features important.\n",
        "caract=iris.data.shape[1]\n",
        "caract\n",
        "plt.barh( range(caract) , arbol.feature_importances_ )\n",
        "plt.yticks(np.arange(caract) , iris.feature_names)\n",
        "plt.xlabel('importancia de las características')\n",
        "plt.ylabel('características')\n",
        "plt.show()"
      ],
      "metadata": {
        "id": "j4VbstXldSIE",
        "outputId": "66a52416-0287-4088-fadc-a41801f30dbd",
        "colab": {
          "base_uri": "https://localhost:8080/",
          "height": 284
        }
      },
      "execution_count": 89,
      "outputs": [
        {
          "output_type": "display_data",
          "data": {
            "text/plain": [
              "<Figure size 432x288 with 1 Axes>"
            ],
            "image/png": "[encoded data removed]"
          },
          "metadata": {
            "needs_background": "light"
          }
        }
      ]
    },
    {
      "cell_type": "code",
      "source": [
        "X_iris = iris.data[[\"petal length (cm)\", \"petal width (cm)\"]].values\n",
        "y_iris = iris.target\n",
        "\n",
        "tree_clf = DecisionTreeClassifier(max_depth=2, random_state=42)\n",
        "tree_clf.fit(X_iris, y_iris)"
      ],
      "metadata": {
        "id": "LZZdzKxmjCRo",
        "outputId": "ec08be69-5186-4cd2-e173-123b7ed910bb",
        "colab": {
          "base_uri": "https://localhost:8080/"
        }
      },
      "execution_count": 6,
      "outputs": [
        {
          "output_type": "execute_result",
          "data": {
            "text/plain": [
              "DecisionTreeClassifier(max_depth=2, random_state=42)"
            ]
          },
          "metadata": {},
          "execution_count": 6
        }
      ]
    },
    {
      "cell_type": "markdown",
      "metadata": {
        "id": "5QO-yQLHqP74"
      },
      "source": [
        "**This code example generates Figure 6–1. Iris Decision Tree:**"
      ]
    },
    {
      "cell_type": "code",
      "execution_count": 7,
      "metadata": {
        "id": "Eoiy9T0hqP75"
      },
      "outputs": [],
      "source": [
        "from sklearn.tree import export_graphviz\n",
        "\n",
        "export_graphviz(\n",
        "        tree_clf,\n",
        "        out_file=str(IMAGES_PATH / \"iris_tree.dot\"),  # path differs in the book\n",
        "        feature_names=[\"petal length (cm)\", \"petal width (cm)\"],\n",
        "        class_names=iris.target_names,\n",
        "        rounded=True,\n",
        "        filled=True\n",
        "    )"
      ]
    },
    {
      "cell_type": "code",
      "execution_count": 8,
      "metadata": {
        "id": "fg41xCj1qP76",
        "outputId": "cec642e1-69d3-46c0-fea5-4ea6cdab9b5c",
        "colab": {
          "base_uri": "https://localhost:8080/",
          "height": 440
        }
      },
      "outputs": [
        {
          "output_type": "execute_result",
          "data": {
            "text/plain": [
              "<graphviz.files.Source at 0x7f3074360510>"
            ],
            "image/svg+xml": "<?xml version=\"1.0\" encoding=\"UTF-8\" standalone=\"no\"?>\n<!DOCTYPE svg PUBLIC \"-//W3C//DTD SVG 1.1//EN\"\n \"http://www.w3.org/Graphics/SVG/1.1/DTD/svg11.dtd\">\n<!-- Generated by graphviz version 2.40.1 (20161225.0304)\n -->\n<!-- Title: Tree Pages: 1 -->\n<svg width=\"368pt\" height=\"314pt\"\n viewBox=\"0.00 0.00 368.00 314.00\" xmlns=\"http://www.w3.org/2000/svg\" xmlns:xlink=\"http://www.w3.org/1999/xlink\">\n<g id=\"graph0\" class=\"graph\" transform=\"scale(1 1) rotate(0) translate(4 310)\">\n<title>Tree</title>\n<polygon fill=\"#ffffff\" stroke=\"transparent\" points=\"-4,4 -4,-310 364,-310 364,4 -4,4\"/>\n<!-- 0 -->\n<g id=\"node1\" class=\"node\">\n<title>0</title>\n<path fill=\"#ffffff\" stroke=\"#000000\" d=\"M219.5,-306C219.5,-306 67.5,-306 67.5,-306 61.5,-306 55.5,-300 55.5,-294 55.5,-294 55.5,-235 55.5,-235 55.5,-229 61.5,-223 67.5,-223 67.5,-223 219.5,-223 219.5,-223 225.5,-223 231.5,-229 231.5,-235 231.5,-235 231.5,-294 231.5,-294 231.5,-300 225.5,-306 219.5,-306\"/>\n<text text-anchor=\"middle\" x=\"143.5\" y=\"-290.8\" font-family=\"Helvetica,sans-Serif\" font-size=\"14.00\" fill=\"#000000\">petal length (cm) &lt;= 2.45</text>\n<text text-anchor=\"middle\" x=\"143.5\" y=\"-275.8\" font-family=\"Helvetica,sans-Serif\" font-size=\"14.00\" fill=\"#000000\">gini = 0.667</text>\n<text text-anchor=\"middle\" x=\"143.5\" y=\"-260.8\" font-family=\"Helvetica,sans-Serif\" font-size=\"14.00\" fill=\"#000000\">samples = 150</text>\n<text text-anchor=\"middle\" x=\"143.5\" y=\"-245.8\" font-family=\"Helvetica,sans-Serif\" font-size=\"14.00\" fill=\"#000000\">value = [50, 50, 50]</text>\n<text text-anchor=\"middle\" x=\"143.5\" y=\"-230.8\" font-family=\"Helvetica,sans-Serif\" font-size=\"14.00\" fill=\"#000000\">class = setosa</text>\n</g>\n<!-- 1 -->\n<g id=\"node2\" class=\"node\">\n<title>1</title>\n<path fill=\"#e58139\" stroke=\"#000000\" d=\"M111,-179.5C111,-179.5 12,-179.5 12,-179.5 6,-179.5 0,-173.5 0,-167.5 0,-167.5 0,-123.5 0,-123.5 0,-117.5 6,-111.5 12,-111.5 12,-111.5 111,-111.5 111,-111.5 117,-111.5 123,-117.5 123,-123.5 123,-123.5 123,-167.5 123,-167.5 123,-173.5 117,-179.5 111,-179.5\"/>\n<text text-anchor=\"middle\" x=\"61.5\" y=\"-164.3\" font-family=\"Helvetica,sans-Serif\" font-size=\"14.00\" fill=\"#000000\">gini = 0.0</text>\n<text text-anchor=\"middle\" x=\"61.5\" y=\"-149.3\" font-family=\"Helvetica,sans-Serif\" font-size=\"14.00\" fill=\"#000000\">samples = 50</text>\n<text text-anchor=\"middle\" x=\"61.5\" y=\"-134.3\" font-family=\"Helvetica,sans-Serif\" font-size=\"14.00\" fill=\"#000000\">value = [50, 0, 0]</text>\n<text text-anchor=\"middle\" x=\"61.5\" y=\"-119.3\" font-family=\"Helvetica,sans-Serif\" font-size=\"14.00\" fill=\"#000000\">class = setosa</text>\n</g>\n<!-- 0&#45;&gt;1 -->\n<g id=\"edge1\" class=\"edge\">\n<title>0&#45;&gt;1</title>\n<path fill=\"none\" stroke=\"#000000\" d=\"M114.8204,-222.8796C107.0917,-211.6636 98.7191,-199.5131 90.9492,-188.2372\"/>\n<polygon fill=\"#000000\" stroke=\"#000000\" points=\"93.7018,-186.0634 85.1456,-179.8149 87.9377,-190.0353 93.7018,-186.0634\"/>\n<text text-anchor=\"middle\" x=\"80.6196\" y=\"-200.7018\" font-family=\"Helvetica,sans-Serif\" font-size=\"14.00\" fill=\"#000000\">True</text>\n</g>\n<!-- 2 -->\n<g id=\"node3\" class=\"node\">\n<title>2</title>\n<path fill=\"#ffffff\" stroke=\"#000000\" d=\"M299.5,-187C299.5,-187 153.5,-187 153.5,-187 147.5,-187 141.5,-181 141.5,-175 141.5,-175 141.5,-116 141.5,-116 141.5,-110 147.5,-104 153.5,-104 153.5,-104 299.5,-104 299.5,-104 305.5,-104 311.5,-110 311.5,-116 311.5,-116 311.5,-175 311.5,-175 311.5,-181 305.5,-187 299.5,-187\"/>\n<text text-anchor=\"middle\" x=\"226.5\" y=\"-171.8\" font-family=\"Helvetica,sans-Serif\" font-size=\"14.00\" fill=\"#000000\">petal width (cm) &lt;= 1.75</text>\n<text text-anchor=\"middle\" x=\"226.5\" y=\"-156.8\" font-family=\"Helvetica,sans-Serif\" font-size=\"14.00\" fill=\"#000000\">gini = 0.5</text>\n<text text-anchor=\"middle\" x=\"226.5\" y=\"-141.8\" font-family=\"Helvetica,sans-Serif\" font-size=\"14.00\" fill=\"#000000\">samples = 100</text>\n<text text-anchor=\"middle\" x=\"226.5\" y=\"-126.8\" font-family=\"Helvetica,sans-Serif\" font-size=\"14.00\" fill=\"#000000\">value = [0, 50, 50]</text>\n<text text-anchor=\"middle\" x=\"226.5\" y=\"-111.8\" font-family=\"Helvetica,sans-Serif\" font-size=\"14.00\" fill=\"#000000\">class = versicolor</text>\n</g>\n<!-- 0&#45;&gt;2 -->\n<g id=\"edge2\" class=\"edge\">\n<title>0&#45;&gt;2</title>\n<path fill=\"none\" stroke=\"#000000\" d=\"M172.5294,-222.8796C178.6855,-214.0534 185.2451,-204.6485 191.5936,-195.5466\"/>\n<polygon fill=\"#000000\" stroke=\"#000000\" points=\"194.4967,-197.5024 197.3467,-187.2981 188.7552,-193.4978 194.4967,-197.5024\"/>\n<text text-anchor=\"middle\" x=\"201.7331\" y=\"-208.2103\" font-family=\"Helvetica,sans-Serif\" font-size=\"14.00\" fill=\"#000000\">False</text>\n</g>\n<!-- 3 -->\n<g id=\"node4\" class=\"node\">\n<title>3</title>\n<path fill=\"#4de88e\" stroke=\"#000000\" d=\"M206.5,-68C206.5,-68 102.5,-68 102.5,-68 96.5,-68 90.5,-62 90.5,-56 90.5,-56 90.5,-12 90.5,-12 90.5,-6 96.5,0 102.5,0 102.5,0 206.5,0 206.5,0 212.5,0 218.5,-6 218.5,-12 218.5,-12 218.5,-56 218.5,-56 218.5,-62 212.5,-68 206.5,-68\"/>\n<text text-anchor=\"middle\" x=\"154.5\" y=\"-52.8\" font-family=\"Helvetica,sans-Serif\" font-size=\"14.00\" fill=\"#000000\">gini = 0.168</text>\n<text text-anchor=\"middle\" x=\"154.5\" y=\"-37.8\" font-family=\"Helvetica,sans-Serif\" font-size=\"14.00\" fill=\"#000000\">samples = 54</text>\n<text text-anchor=\"middle\" x=\"154.5\" y=\"-22.8\" font-family=\"Helvetica,sans-Serif\" font-size=\"14.00\" fill=\"#000000\">value = [0, 49, 5]</text>\n<text text-anchor=\"middle\" x=\"154.5\" y=\"-7.8\" font-family=\"Helvetica,sans-Serif\" font-size=\"14.00\" fill=\"#000000\">class = versicolor</text>\n</g>\n<!-- 2&#45;&gt;3 -->\n<g id=\"edge3\" class=\"edge\">\n<title>2&#45;&gt;3</title>\n<path fill=\"none\" stroke=\"#000000\" d=\"M199.6899,-103.9815C193.9331,-95.0666 187.8404,-85.6313 182.0559,-76.6734\"/>\n<polygon fill=\"#000000\" stroke=\"#000000\" points=\"184.9904,-74.7658 176.6254,-68.2637 179.1099,-78.5631 184.9904,-74.7658\"/>\n</g>\n<!-- 4 -->\n<g id=\"node5\" class=\"node\">\n<title>4</title>\n<path fill=\"#843de6\" stroke=\"#000000\" d=\"M348,-68C348,-68 249,-68 249,-68 243,-68 237,-62 237,-56 237,-56 237,-12 237,-12 237,-6 243,0 249,0 249,0 348,0 348,0 354,0 360,-6 360,-12 360,-12 360,-56 360,-56 360,-62 354,-68 348,-68\"/>\n<text text-anchor=\"middle\" x=\"298.5\" y=\"-52.8\" font-family=\"Helvetica,sans-Serif\" font-size=\"14.00\" fill=\"#000000\">gini = 0.043</text>\n<text text-anchor=\"middle\" x=\"298.5\" y=\"-37.8\" font-family=\"Helvetica,sans-Serif\" font-size=\"14.00\" fill=\"#000000\">samples = 46</text>\n<text text-anchor=\"middle\" x=\"298.5\" y=\"-22.8\" font-family=\"Helvetica,sans-Serif\" font-size=\"14.00\" fill=\"#000000\">value = [0, 1, 45]</text>\n<text text-anchor=\"middle\" x=\"298.5\" y=\"-7.8\" font-family=\"Helvetica,sans-Serif\" font-size=\"14.00\" fill=\"#000000\">class = virginica</text>\n</g>\n<!-- 2&#45;&gt;4 -->\n<g id=\"edge4\" class=\"edge\">\n<title>2&#45;&gt;4</title>\n<path fill=\"none\" stroke=\"#000000\" d=\"M253.3101,-103.9815C259.0669,-95.0666 265.1596,-85.6313 270.9441,-76.6734\"/>\n<polygon fill=\"#000000\" stroke=\"#000000\" points=\"273.8901,-78.5631 276.3746,-68.2637 268.0096,-74.7658 273.8901,-78.5631\"/>\n</g>\n</g>\n</svg>\n"
          },
          "metadata": {},
          "execution_count": 8
        }
      ],
      "source": [
        "from graphviz import Source\n",
        "\n",
        "Source.from_file(IMAGES_PATH / \"iris_tree.dot\")  # path differs in the book"
      ]
    },
    {
      "cell_type": "markdown",
      "metadata": {
        "id": "U9rdp2OgqP77"
      },
      "source": [
        "Graphviz also provides the `dot` command line tool to convert `.dot` files to a variety of formats. The following command converts the dot file to a png image:"
      ]
    },
    {
      "cell_type": "code",
      "execution_count": 9,
      "metadata": {
        "id": "CMSm0vwZqP77"
      },
      "outputs": [],
      "source": [
        "# extra code\n",
        "!dot -Tpng {IMAGES_PATH / \"iris_tree.dot\"} -o {IMAGES_PATH / \"iris_tree.png\"}"
      ]
    },
    {
      "cell_type": "markdown",
      "metadata": {
        "id": "6DUQ360fqP78"
      },
      "source": [
        "# Making Predictions"
      ]
    },
    {
      "cell_type": "code",
      "execution_count": 10,
      "metadata": {
        "id": "sktFNyxzqP78",
        "outputId": "f31b3831-5b27-49c3-95a6-f8cd7ad3b1a6",
        "colab": {
          "base_uri": "https://localhost:8080/",
          "height": 289
        }
      },
      "outputs": [
        {
          "output_type": "display_data",
          "data": {
            "text/plain": [
              "<Figure size 576x288 with 1 Axes>"
            ],
            "image/png": "[encoded data removed]"
          },
          "metadata": {
            "needs_background": "light"
          }
        }
      ],
      "source": [
        "import numpy as np\n",
        "import matplotlib.pyplot as plt\n",
        "\n",
        "# extra code – just formatting details\n",
        "from matplotlib.colors import ListedColormap\n",
        "custom_cmap = ListedColormap(['#fafab0', '#9898ff', '#a0faa0'])\n",
        "plt.figure(figsize=(8, 4))\n",
        "\n",
        "lengths, widths = np.meshgrid(np.linspace(0, 7.2, 100), np.linspace(0, 3, 100))\n",
        "X_iris_all = np.c_[lengths.ravel(), widths.ravel()]\n",
        "y_pred = tree_clf.predict(X_iris_all).reshape(lengths.shape)\n",
        "plt.contourf(lengths, widths, y_pred, alpha=0.3, cmap=custom_cmap)\n",
        "for idx, (name, style) in enumerate(zip(iris.target_names, (\"yo\", \"bs\", \"g^\"))):\n",
        "    plt.plot(X_iris[:, 0][y_iris == idx], X_iris[:, 1][y_iris == idx],\n",
        "             style, label=f\"Iris {name}\")\n",
        "\n",
        "# extra code – this section beautifies and saves Figure 6–2\n",
        "tree_clf_deeper = DecisionTreeClassifier(max_depth=3, random_state=42)\n",
        "tree_clf_deeper.fit(X_iris, y_iris)\n",
        "th0, th1, th2a, th2b = tree_clf_deeper.tree_.threshold[[0, 2, 3, 6]]\n",
        "plt.xlabel(\"Petal length (cm)\")\n",
        "plt.ylabel(\"Petal width (cm)\")\n",
        "plt.plot([th0, th0], [0, 3], \"k-\", linewidth=2)\n",
        "plt.plot([th0, 7.2], [th1, th1], \"k--\", linewidth=2)\n",
        "plt.plot([th2a, th2a], [0, th1], \"k:\", linewidth=2)\n",
        "plt.plot([th2b, th2b], [th1, 3], \"k:\", linewidth=2)\n",
        "plt.text(th0 - 0.05, 1.0, \"Depth=0\", horizontalalignment=\"right\", fontsize=15)\n",
        "plt.text(3.2, th1 + 0.02, \"Depth=1\", verticalalignment=\"bottom\", fontsize=13)\n",
        "plt.text(th2a + 0.05, 0.5, \"(Depth=2)\", fontsize=11)\n",
        "plt.axis([0, 7.2, 0, 3])\n",
        "plt.legend()\n",
        "save_fig(\"decision_tree_decision_boundaries_plot\")\n",
        "\n",
        "plt.show()"
      ]
    },
    {
      "cell_type": "markdown",
      "metadata": {
        "id": "g_wbC8fIqP79"
      },
      "source": [
        "You can access the tree structure via the `tree_` attribute:"
      ]
    },
    {
      "cell_type": "code",
      "execution_count": 11,
      "metadata": {
        "id": "5nuZoF1hqP7-",
        "outputId": "a4788882-12d0-4bcc-9b87-92e58a356675",
        "colab": {
          "base_uri": "https://localhost:8080/"
        }
      },
      "outputs": [
        {
          "output_type": "execute_result",
          "data": {
            "text/plain": [
              "<sklearn.tree._tree.Tree at 0x7f30743523b0>"
            ]
          },
          "metadata": {},
          "execution_count": 11
        }
      ],
      "source": [
        "tree_clf.tree_"
      ]
    },
    {
      "cell_type": "markdown",
      "metadata": {
        "id": "0l0q-2UfqP7-"
      },
      "source": [
        "For more information, check out this class's documentation:"
      ]
    },
    {
      "cell_type": "code",
      "execution_count": 12,
      "metadata": {
        "tags": [],
        "id": "PQr4gybkqP7_"
      },
      "outputs": [],
      "source": [
        "# help(sklearn.tree._tree.Tree)"
      ]
    },
    {
      "cell_type": "markdown",
      "metadata": {
        "id": "8oMAsycOqP7_"
      },
      "source": [
        "See the extra material section below for an example."
      ]
    },
    {
      "cell_type": "markdown",
      "metadata": {
        "id": "JH2Qyw4dqP7_"
      },
      "source": [
        "# Estimating Class Probabilities"
      ]
    },
    {
      "cell_type": "code",
      "execution_count": 13,
      "metadata": {
        "id": "LEBxFE-YqP8A",
        "outputId": "631017d1-5d27-46e3-fb3d-af2b5946d0bc",
        "colab": {
          "base_uri": "https://localhost:8080/"
        }
      },
      "outputs": [
        {
          "output_type": "execute_result",
          "data": {
            "text/plain": [
              "array([[0.   , 0.907, 0.093]])"
            ]
          },
          "metadata": {},
          "execution_count": 13
        }
      ],
      "source": [
        "tree_clf.predict_proba([[5, 1.5]]).round(3)"
      ]
    },
    {
      "cell_type": "code",
      "execution_count": 14,
      "metadata": {
        "id": "5bwqv-M1qP8A",
        "outputId": "90c1f86b-df7e-4161-fe9a-855c6042fcdf",
        "colab": {
          "base_uri": "https://localhost:8080/"
        }
      },
      "outputs": [
        {
          "output_type": "execute_result",
          "data": {
            "text/plain": [
              "array([1])"
            ]
          },
          "metadata": {},
          "execution_count": 14
        }
      ],
      "source": [
        "tree_clf.predict([[5, 1.5]])"
      ]
    },
    {
      "cell_type": "markdown",
      "metadata": {
        "id": "CuoWeI1lqP8A"
      },
      "source": [
        "# Regularization Hyperparameters"
      ]
    },
    {
      "cell_type": "code",
      "execution_count": 15,
      "metadata": {
        "id": "rP2xkpKhqP8B",
        "outputId": "ac64072f-1558-4ca1-bcc7-4c444f0c0ff9",
        "colab": {
          "base_uri": "https://localhost:8080/"
        }
      },
      "outputs": [
        {
          "output_type": "execute_result",
          "data": {
            "text/plain": [
              "DecisionTreeClassifier(min_samples_leaf=5, random_state=42)"
            ]
          },
          "metadata": {},
          "execution_count": 15
        }
      ],
      "source": [
        "from sklearn.datasets import make_moons\n",
        "\n",
        "X_moons, y_moons = make_moons(n_samples=100, noise=0.2, random_state=42)\n",
        "\n",
        "tree_clf1 = DecisionTreeClassifier(random_state=42)\n",
        "tree_clf2 = DecisionTreeClassifier(min_samples_leaf=5, random_state=42)\n",
        "tree_clf1.fit(X_moons, y_moons)\n",
        "tree_clf2.fit(X_moons, y_moons)"
      ]
    },
    {
      "cell_type": "code",
      "execution_count": 16,
      "metadata": {
        "id": "cKw-VPFLqP8B",
        "outputId": "c454416a-ff3c-4d4d-f293-980c5a4e014d",
        "colab": {
          "base_uri": "https://localhost:8080/",
          "height": 289
        }
      },
      "outputs": [
        {
          "output_type": "display_data",
          "data": {
            "text/plain": [
              "<Figure size 720x288 with 2 Axes>"
            ],
            "image/png": "[encoded data removed]"
          },
          "metadata": {
            "needs_background": "light"
          }
        }
      ],
      "source": [
        "# extra code – this cell generates and saves Figure 6–3\n",
        "\n",
        "def plot_decision_boundary(clf, X, y, axes, cmap):\n",
        "    x1, x2 = np.meshgrid(np.linspace(axes[0], axes[1], 100),\n",
        "                         np.linspace(axes[2], axes[3], 100))\n",
        "    X_new = np.c_[x1.ravel(), x2.ravel()]\n",
        "    y_pred = clf.predict(X_new).reshape(x1.shape)\n",
        "    \n",
        "    plt.contourf(x1, x2, y_pred, alpha=0.3, cmap=cmap)\n",
        "    plt.contour(x1, x2, y_pred, cmap=\"Greys\", alpha=0.8)\n",
        "    colors = {\"Wistia\": [\"#78785c\", \"#c47b27\"], \"Pastel1\": [\"red\", \"blue\"]}\n",
        "    markers = (\"o\", \"^\")\n",
        "    for idx in (0, 1):\n",
        "        plt.plot(X[:, 0][y == idx], X[:, 1][y == idx],\n",
        "                 color=colors[cmap][idx], marker=markers[idx], linestyle=\"none\")\n",
        "    plt.axis(axes)\n",
        "    plt.xlabel(r\"$x_1$\")\n",
        "    plt.ylabel(r\"$x_2$\", rotation=0)\n",
        "\n",
        "fig, axes = plt.subplots(ncols=2, figsize=(10, 4), sharey=True)\n",
        "plt.sca(axes[0])\n",
        "plot_decision_boundary(tree_clf1, X_moons, y_moons,\n",
        "                       axes=[-1.5, 2.4, -1, 1.5], cmap=\"Wistia\")\n",
        "plt.title(\"No restrictions\")\n",
        "plt.sca(axes[1])\n",
        "plot_decision_boundary(tree_clf2, X_moons, y_moons,\n",
        "                       axes=[-1.5, 2.4, -1, 1.5], cmap=\"Wistia\")\n",
        "plt.title(f\"min_samples_leaf = {tree_clf2.min_samples_leaf}\")\n",
        "plt.ylabel(\"\")\n",
        "save_fig(\"min_samples_leaf_plot\")\n",
        "plt.show()"
      ]
    },
    {
      "cell_type": "code",
      "execution_count": 17,
      "metadata": {
        "id": "BWjWn_ybqP8C",
        "outputId": "05a7b14d-8267-44b7-9afa-b7288b6473cc",
        "colab": {
          "base_uri": "https://localhost:8080/"
        }
      },
      "outputs": [
        {
          "output_type": "execute_result",
          "data": {
            "text/plain": [
              "0.947"
            ]
          },
          "metadata": {},
          "execution_count": 17
        }
      ],
      "source": [
        "X_moons_test, y_moons_test = make_moons(n_samples=1000, noise=0.2,\n",
        "                                        random_state=43)\n",
        "tree_clf1.score(X_moons_test, y_moons_test)"
      ]
    },
    {
      "cell_type": "code",
      "execution_count": 18,
      "metadata": {
        "id": "vVy-7X9QqP8C",
        "outputId": "c0d1cef9-a4b5-4a43-d489-99f6c9b75324",
        "colab": {
          "base_uri": "https://localhost:8080/"
        }
      },
      "outputs": [
        {
          "output_type": "execute_result",
          "data": {
            "text/plain": [
              "0.954"
            ]
          },
          "metadata": {},
          "execution_count": 18
        }
      ],
      "source": [
        "tree_clf2.score(X_moons_test, y_moons_test)"
      ]
    },
    {
      "cell_type": "markdown",
      "metadata": {
        "id": "J-mlAJ5gqP8D"
      },
      "source": [
        "# Regression"
      ]
    },
    {
      "cell_type": "markdown",
      "metadata": {
        "id": "88lNwOlOqP8D"
      },
      "source": [
        "Let's prepare a simple quadratic training set:"
      ]
    },
    {
      "cell_type": "markdown",
      "metadata": {
        "id": "aUjzl9SaqP8D"
      },
      "source": [
        "**Code example:**"
      ]
    },
    {
      "cell_type": "code",
      "execution_count": 19,
      "metadata": {
        "id": "tmcVfco8qP8E",
        "outputId": "c0b943b7-501c-4216-e902-e8709d6685b0",
        "colab": {
          "base_uri": "https://localhost:8080/"
        }
      },
      "outputs": [
        {
          "output_type": "execute_result",
          "data": {
            "text/plain": [
              "DecisionTreeRegressor(max_depth=2, random_state=42)"
            ]
          },
          "metadata": {},
          "execution_count": 19
        }
      ],
      "source": [
        "from sklearn.tree import DecisionTreeRegressor\n",
        "\n",
        "np.random.seed(42)\n",
        "X_quad = np.random.rand(200, 1) - 0.5  # a single random input feature\n",
        "y_quad = X_quad ** 2 + 0.025 * np.random.randn(200, 1)\n",
        "\n",
        "tree_reg = DecisionTreeRegressor(max_depth=2, random_state=42)\n",
        "tree_reg.fit(X_quad, y_quad)"
      ]
    },
    {
      "cell_type": "code",
      "execution_count": 20,
      "metadata": {
        "id": "qOTIbo3TqP8F",
        "outputId": "a169ca21-d3f1-4aaf-daf3-30ff2355847e",
        "colab": {
          "base_uri": "https://localhost:8080/",
          "height": 380
        }
      },
      "outputs": [
        {
          "output_type": "execute_result",
          "data": {
            "text/plain": [
              "<graphviz.files.Source at 0x7f3074329810>"
            ],
            "image/svg+xml": "<?xml version=\"1.0\" encoding=\"UTF-8\" standalone=\"no\"?>\n<!DOCTYPE svg PUBLIC \"-//W3C//DTD SVG 1.1//EN\"\n \"http://www.w3.org/Graphics/SVG/1.1/DTD/svg11.dtd\">\n<!-- Generated by graphviz version 2.40.1 (20161225.0304)\n -->\n<!-- Title: Tree Pages: 1 -->\n<svg width=\"706pt\" height=\"269pt\"\n viewBox=\"0.00 0.00 706.00 269.00\" xmlns=\"http://www.w3.org/2000/svg\" xmlns:xlink=\"http://www.w3.org/1999/xlink\">\n<g id=\"graph0\" class=\"graph\" transform=\"scale(1 1) rotate(0) translate(4 265)\">\n<title>Tree</title>\n<polygon fill=\"#ffffff\" stroke=\"transparent\" points=\"-4,4 -4,-265 702,-265 702,4 -4,4\"/>\n<!-- 0 -->\n<g id=\"node1\" class=\"node\">\n<title>0</title>\n<path fill=\"#f6d6be\" stroke=\"#000000\" d=\"M417,-261C417,-261 280,-261 280,-261 274,-261 268,-255 268,-249 268,-249 268,-205 268,-205 268,-199 274,-193 280,-193 280,-193 417,-193 417,-193 423,-193 429,-199 429,-205 429,-205 429,-249 429,-249 429,-255 423,-261 417,-261\"/>\n<text text-anchor=\"middle\" x=\"348.5\" y=\"-245.8\" font-family=\"Helvetica,sans-Serif\" font-size=\"14.00\" fill=\"#000000\">x1 &lt;= &#45;0.303</text>\n<text text-anchor=\"middle\" x=\"348.5\" y=\"-230.8\" font-family=\"Helvetica,sans-Serif\" font-size=\"14.00\" fill=\"#000000\">squared_error = 0.006</text>\n<text text-anchor=\"middle\" x=\"348.5\" y=\"-215.8\" font-family=\"Helvetica,sans-Serif\" font-size=\"14.00\" fill=\"#000000\">samples = 200</text>\n<text text-anchor=\"middle\" x=\"348.5\" y=\"-200.8\" font-family=\"Helvetica,sans-Serif\" font-size=\"14.00\" fill=\"#000000\">value = 0.088</text>\n</g>\n<!-- 1 -->\n<g id=\"node2\" class=\"node\">\n<title>1</title>\n<path fill=\"#eb9d65\" stroke=\"#000000\" d=\"M328,-157C328,-157 191,-157 191,-157 185,-157 179,-151 179,-145 179,-145 179,-101 179,-101 179,-95 185,-89 191,-89 191,-89 328,-89 328,-89 334,-89 340,-95 340,-101 340,-101 340,-145 340,-145 340,-151 334,-157 328,-157\"/>\n<text text-anchor=\"middle\" x=\"259.5\" y=\"-141.8\" font-family=\"Helvetica,sans-Serif\" font-size=\"14.00\" fill=\"#000000\">x1 &lt;= &#45;0.408</text>\n<text text-anchor=\"middle\" x=\"259.5\" y=\"-126.8\" font-family=\"Helvetica,sans-Serif\" font-size=\"14.00\" fill=\"#000000\">squared_error = 0.002</text>\n<text text-anchor=\"middle\" x=\"259.5\" y=\"-111.8\" font-family=\"Helvetica,sans-Serif\" font-size=\"14.00\" fill=\"#000000\">samples = 44</text>\n<text text-anchor=\"middle\" x=\"259.5\" y=\"-96.8\" font-family=\"Helvetica,sans-Serif\" font-size=\"14.00\" fill=\"#000000\">value = 0.172</text>\n</g>\n<!-- 0&#45;&gt;1 -->\n<g id=\"edge1\" class=\"edge\">\n<title>0&#45;&gt;1</title>\n<path fill=\"none\" stroke=\"#000000\" d=\"M319.3581,-192.9465C311.6745,-183.968 303.2947,-174.1758 295.3041,-164.8385\"/>\n<polygon fill=\"#000000\" stroke=\"#000000\" points=\"297.8685,-162.4521 288.7074,-157.13 292.5501,-167.0034 297.8685,-162.4521\"/>\n<text text-anchor=\"middle\" x=\"286.7702\" y=\"-178.3548\" font-family=\"Helvetica,sans-Serif\" font-size=\"14.00\" fill=\"#000000\">True</text>\n</g>\n<!-- 4 -->\n<g id=\"node5\" class=\"node\">\n<title>4</title>\n<path fill=\"#fae6d7\" stroke=\"#000000\" d=\"M507,-157C507,-157 370,-157 370,-157 364,-157 358,-151 358,-145 358,-145 358,-101 358,-101 358,-95 364,-89 370,-89 370,-89 507,-89 507,-89 513,-89 519,-95 519,-101 519,-101 519,-145 519,-145 519,-151 513,-157 507,-157\"/>\n<text text-anchor=\"middle\" x=\"438.5\" y=\"-141.8\" font-family=\"Helvetica,sans-Serif\" font-size=\"14.00\" fill=\"#000000\">x1 &lt;= 0.272</text>\n<text text-anchor=\"middle\" x=\"438.5\" y=\"-126.8\" font-family=\"Helvetica,sans-Serif\" font-size=\"14.00\" fill=\"#000000\">squared_error = 0.005</text>\n<text text-anchor=\"middle\" x=\"438.5\" y=\"-111.8\" font-family=\"Helvetica,sans-Serif\" font-size=\"14.00\" fill=\"#000000\">samples = 156</text>\n<text text-anchor=\"middle\" x=\"438.5\" y=\"-96.8\" font-family=\"Helvetica,sans-Serif\" font-size=\"14.00\" fill=\"#000000\">value = 0.065</text>\n</g>\n<!-- 0&#45;&gt;4 -->\n<g id=\"edge4\" class=\"edge\">\n<title>0&#45;&gt;4</title>\n<path fill=\"none\" stroke=\"#000000\" d=\"M377.9694,-192.9465C385.7393,-183.968 394.2132,-174.1758 402.2936,-164.8385\"/>\n<polygon fill=\"#000000\" stroke=\"#000000\" points=\"405.0672,-166.982 408.9644,-157.13 399.774,-162.4014 405.0672,-166.982\"/>\n<text text-anchor=\"middle\" x=\"410.7639\" y=\"-178.3652\" font-family=\"Helvetica,sans-Serif\" font-size=\"14.00\" fill=\"#000000\">False</text>\n</g>\n<!-- 2 -->\n<g id=\"node3\" class=\"node\">\n<title>2</title>\n<path fill=\"#e58139\" stroke=\"#000000\" d=\"M149,-53C149,-53 12,-53 12,-53 6,-53 0,-47 0,-41 0,-41 0,-12 0,-12 0,-6 6,0 12,0 12,0 149,0 149,0 155,0 161,-6 161,-12 161,-12 161,-41 161,-41 161,-47 155,-53 149,-53\"/>\n<text text-anchor=\"middle\" x=\"80.5\" y=\"-37.8\" font-family=\"Helvetica,sans-Serif\" font-size=\"14.00\" fill=\"#000000\">squared_error = 0.001</text>\n<text text-anchor=\"middle\" x=\"80.5\" y=\"-22.8\" font-family=\"Helvetica,sans-Serif\" font-size=\"14.00\" fill=\"#000000\">samples = 20</text>\n<text text-anchor=\"middle\" x=\"80.5\" y=\"-7.8\" font-family=\"Helvetica,sans-Serif\" font-size=\"14.00\" fill=\"#000000\">value = 0.213</text>\n</g>\n<!-- 1&#45;&gt;2 -->\n<g id=\"edge2\" class=\"edge\">\n<title>1&#45;&gt;2</title>\n<path fill=\"none\" stroke=\"#000000\" d=\"M196.3913,-88.9777C177.6208,-78.8584 157.1494,-67.8222 138.7063,-57.8794\"/>\n<polygon fill=\"#000000\" stroke=\"#000000\" points=\"140.295,-54.7597 129.8317,-53.095 136.9732,-60.9213 140.295,-54.7597\"/>\n</g>\n<!-- 3 -->\n<g id=\"node4\" class=\"node\">\n<title>3</title>\n<path fill=\"#f0b489\" stroke=\"#000000\" d=\"M328,-53C328,-53 191,-53 191,-53 185,-53 179,-47 179,-41 179,-41 179,-12 179,-12 179,-6 185,0 191,0 191,0 328,0 328,0 334,0 340,-6 340,-12 340,-12 340,-41 340,-41 340,-47 334,-53 328,-53\"/>\n<text text-anchor=\"middle\" x=\"259.5\" y=\"-37.8\" font-family=\"Helvetica,sans-Serif\" font-size=\"14.00\" fill=\"#000000\">squared_error = 0.001</text>\n<text text-anchor=\"middle\" x=\"259.5\" y=\"-22.8\" font-family=\"Helvetica,sans-Serif\" font-size=\"14.00\" fill=\"#000000\">samples = 24</text>\n<text text-anchor=\"middle\" x=\"259.5\" y=\"-7.8\" font-family=\"Helvetica,sans-Serif\" font-size=\"14.00\" fill=\"#000000\">value = 0.138</text>\n</g>\n<!-- 1&#45;&gt;3 -->\n<g id=\"edge3\" class=\"edge\">\n<title>1&#45;&gt;3</title>\n<path fill=\"none\" stroke=\"#000000\" d=\"M259.5,-88.9777C259.5,-80.7364 259.5,-71.887 259.5,-63.5153\"/>\n<polygon fill=\"#000000\" stroke=\"#000000\" points=\"263.0001,-63.2484 259.5,-53.2485 256.0001,-63.2485 263.0001,-63.2484\"/>\n</g>\n<!-- 5 -->\n<g id=\"node6\" class=\"node\">\n<title>5</title>\n<path fill=\"#ffffff\" stroke=\"#000000\" d=\"M507,-53C507,-53 370,-53 370,-53 364,-53 358,-47 358,-41 358,-41 358,-12 358,-12 358,-6 364,0 370,0 370,0 507,0 507,0 513,0 519,-6 519,-12 519,-12 519,-41 519,-41 519,-47 513,-53 507,-53\"/>\n<text text-anchor=\"middle\" x=\"438.5\" y=\"-37.8\" font-family=\"Helvetica,sans-Serif\" font-size=\"14.00\" fill=\"#000000\">squared_error = 0.001</text>\n<text text-anchor=\"middle\" x=\"438.5\" y=\"-22.8\" font-family=\"Helvetica,sans-Serif\" font-size=\"14.00\" fill=\"#000000\">samples = 110</text>\n<text text-anchor=\"middle\" x=\"438.5\" y=\"-7.8\" font-family=\"Helvetica,sans-Serif\" font-size=\"14.00\" fill=\"#000000\">value = 0.028</text>\n</g>\n<!-- 4&#45;&gt;5 -->\n<g id=\"edge5\" class=\"edge\">\n<title>4&#45;&gt;5</title>\n<path fill=\"none\" stroke=\"#000000\" d=\"M438.5,-88.9777C438.5,-80.7364 438.5,-71.887 438.5,-63.5153\"/>\n<polygon fill=\"#000000\" stroke=\"#000000\" points=\"442.0001,-63.2484 438.5,-53.2485 435.0001,-63.2485 442.0001,-63.2484\"/>\n</g>\n<!-- 6 -->\n<g id=\"node7\" class=\"node\">\n<title>6</title>\n<path fill=\"#edaa79\" stroke=\"#000000\" d=\"M686,-53C686,-53 549,-53 549,-53 543,-53 537,-47 537,-41 537,-41 537,-12 537,-12 537,-6 543,0 549,0 549,0 686,0 686,0 692,0 698,-6 698,-12 698,-12 698,-41 698,-41 698,-47 692,-53 686,-53\"/>\n<text text-anchor=\"middle\" x=\"617.5\" y=\"-37.8\" font-family=\"Helvetica,sans-Serif\" font-size=\"14.00\" fill=\"#000000\">squared_error = 0.002</text>\n<text text-anchor=\"middle\" x=\"617.5\" y=\"-22.8\" font-family=\"Helvetica,sans-Serif\" font-size=\"14.00\" fill=\"#000000\">samples = 46</text>\n<text text-anchor=\"middle\" x=\"617.5\" y=\"-7.8\" font-family=\"Helvetica,sans-Serif\" font-size=\"14.00\" fill=\"#000000\">value = 0.154</text>\n</g>\n<!-- 4&#45;&gt;6 -->\n<g id=\"edge6\" class=\"edge\">\n<title>4&#45;&gt;6</title>\n<path fill=\"none\" stroke=\"#000000\" d=\"M501.6087,-88.9777C520.3792,-78.8584 540.8506,-67.8222 559.2937,-57.8794\"/>\n<polygon fill=\"#000000\" stroke=\"#000000\" points=\"561.0268,-60.9213 568.1683,-53.095 557.705,-54.7597 561.0268,-60.9213\"/>\n</g>\n</g>\n</svg>\n"
          },
          "metadata": {},
          "execution_count": 20
        }
      ],
      "source": [
        "# extra code – we've already seen how to use export_graphviz()\n",
        "export_graphviz(\n",
        "    tree_reg,\n",
        "    out_file=str(IMAGES_PATH / \"regression_tree.dot\"),\n",
        "    feature_names=[\"x1\"],\n",
        "    rounded=True,\n",
        "    filled=True\n",
        ")\n",
        "Source.from_file(IMAGES_PATH / \"regression_tree.dot\")"
      ]
    },
    {
      "cell_type": "code",
      "execution_count": 21,
      "metadata": {
        "id": "4iUuNBhYqP8F",
        "outputId": "a5835440-ee90-40d7-af6c-1ca2d52f2130",
        "colab": {
          "base_uri": "https://localhost:8080/"
        }
      },
      "outputs": [
        {
          "output_type": "execute_result",
          "data": {
            "text/plain": [
              "DecisionTreeRegressor(max_depth=3, random_state=42)"
            ]
          },
          "metadata": {},
          "execution_count": 21
        }
      ],
      "source": [
        "tree_reg2 = DecisionTreeRegressor(max_depth=3, random_state=42)\n",
        "tree_reg2.fit(X_quad, y_quad)"
      ]
    },
    {
      "cell_type": "code",
      "execution_count": 22,
      "metadata": {
        "id": "bFj7tzP2qP8F",
        "outputId": "fba67839-c517-42df-934f-000c5ce34695",
        "colab": {
          "base_uri": "https://localhost:8080/"
        }
      },
      "outputs": [
        {
          "output_type": "execute_result",
          "data": {
            "text/plain": [
              "array([-0.30265072, -0.40830374, -2.        , -2.        ,  0.27175756,\n",
              "       -2.        , -2.        ])"
            ]
          },
          "metadata": {},
          "execution_count": 22
        }
      ],
      "source": [
        "tree_reg.tree_.threshold"
      ]
    },
    {
      "cell_type": "code",
      "execution_count": 23,
      "metadata": {
        "id": "y6kvyW6zqP8G",
        "outputId": "e7356ab9-f3bd-4a37-c305-936a0de1135f",
        "colab": {
          "base_uri": "https://localhost:8080/"
        }
      },
      "outputs": [
        {
          "output_type": "execute_result",
          "data": {
            "text/plain": [
              "array([-0.30265072, -0.40830374, -0.45416115, -2.        , -2.        ,\n",
              "       -0.37022041, -2.        , -2.        ,  0.27175756, -0.21270403,\n",
              "       -2.        , -2.        ,  0.40399227, -2.        , -2.        ])"
            ]
          },
          "metadata": {},
          "execution_count": 23
        }
      ],
      "source": [
        "tree_reg2.tree_.threshold"
      ]
    },
    {
      "cell_type": "code",
      "execution_count": 24,
      "metadata": {
        "id": "K3YYO1YqqP8G",
        "outputId": "604275ba-78c5-4ce1-e35d-40b80180a053",
        "colab": {
          "base_uri": "https://localhost:8080/",
          "height": 289
        }
      },
      "outputs": [
        {
          "output_type": "display_data",
          "data": {
            "text/plain": [
              "<Figure size 720x288 with 2 Axes>"
            ],
            "image/png": "[encoded data removed]"
          },
          "metadata": {
            "needs_background": "light"
          }
        }
      ],
      "source": [
        "# extra code – this cell generates and saves Figure 6–5\n",
        "\n",
        "def plot_regression_predictions(tree_reg, X, y, axes=[-0.5, 0.5, -0.05, 0.25]):\n",
        "    x1 = np.linspace(axes[0], axes[1], 500).reshape(-1, 1)\n",
        "    y_pred = tree_reg.predict(x1)\n",
        "    plt.axis(axes)\n",
        "    plt.xlabel(\"$x_1$\")\n",
        "    plt.plot(X, y, \"b.\")\n",
        "    plt.plot(x1, y_pred, \"r.-\", linewidth=2, label=r\"$\\hat{y}$\")\n",
        "\n",
        "fig, axes = plt.subplots(ncols=2, figsize=(10, 4), sharey=True)\n",
        "plt.sca(axes[0])\n",
        "plot_regression_predictions(tree_reg, X_quad, y_quad)\n",
        "\n",
        "th0, th1a, th1b = tree_reg.tree_.threshold[[0, 1, 4]]\n",
        "for split, style in ((th0, \"k-\"), (th1a, \"k--\"), (th1b, \"k--\")):\n",
        "    plt.plot([split, split], [-0.05, 0.25], style, linewidth=2)\n",
        "plt.text(th0, 0.16, \"Depth=0\", fontsize=15)\n",
        "plt.text(th1a + 0.01, -0.01, \"Depth=1\", horizontalalignment=\"center\", fontsize=13)\n",
        "plt.text(th1b + 0.01, -0.01, \"Depth=1\", fontsize=13)\n",
        "plt.ylabel(\"$y$\", rotation=0)\n",
        "plt.legend(loc=\"upper center\", fontsize=16)\n",
        "plt.title(\"max_depth=2\")\n",
        "\n",
        "plt.sca(axes[1])\n",
        "th2s = tree_reg2.tree_.threshold[[2, 5, 9, 12]]\n",
        "plot_regression_predictions(tree_reg2, X_quad, y_quad)\n",
        "for split, style in ((th0, \"k-\"), (th1a, \"k--\"), (th1b, \"k--\")):\n",
        "    plt.plot([split, split], [-0.05, 0.25], style, linewidth=2)\n",
        "for split in th2s:\n",
        "    plt.plot([split, split], [-0.05, 0.25], \"k:\", linewidth=1)\n",
        "plt.text(th2s[2] + 0.01, 0.15, \"Depth=2\", fontsize=13)\n",
        "plt.title(\"max_depth=3\")\n",
        "\n",
        "save_fig(\"tree_regression_plot\")\n",
        "plt.show()"
      ]
    },
    {
      "cell_type": "code",
      "execution_count": 25,
      "metadata": {
        "id": "T3A85NLvqP8H",
        "outputId": "b4b913dc-5368-4023-90dd-e4d6345a3894",
        "colab": {
          "base_uri": "https://localhost:8080/",
          "height": 289
        }
      },
      "outputs": [
        {
          "output_type": "display_data",
          "data": {
            "text/plain": [
              "<Figure size 720x288 with 2 Axes>"
            ],
            "image/png": "[encoded data removed]"
          },
          "metadata": {
            "needs_background": "light"
          }
        }
      ],
      "source": [
        "# extra code – this cell generates and saves Figure 6–6\n",
        "\n",
        "tree_reg1 = DecisionTreeRegressor(random_state=42)\n",
        "tree_reg2 = DecisionTreeRegressor(random_state=42, min_samples_leaf=10)\n",
        "tree_reg1.fit(X_quad, y_quad)\n",
        "tree_reg2.fit(X_quad, y_quad)\n",
        "\n",
        "x1 = np.linspace(-0.5, 0.5, 500).reshape(-1, 1)\n",
        "y_pred1 = tree_reg1.predict(x1)\n",
        "y_pred2 = tree_reg2.predict(x1)\n",
        "\n",
        "fig, axes = plt.subplots(ncols=2, figsize=(10, 4), sharey=True)\n",
        "\n",
        "plt.sca(axes[0])\n",
        "plt.plot(X_quad, y_quad, \"b.\")\n",
        "plt.plot(x1, y_pred1, \"r.-\", linewidth=2, label=r\"$\\hat{y}$\")\n",
        "plt.axis([-0.5, 0.5, -0.05, 0.25])\n",
        "plt.xlabel(\"$x_1$\")\n",
        "plt.ylabel(\"$y$\", rotation=0)\n",
        "plt.legend(loc=\"upper center\")\n",
        "plt.title(\"No restrictions\")\n",
        "\n",
        "plt.sca(axes[1])\n",
        "plt.plot(X_quad, y_quad, \"b.\")\n",
        "plt.plot(x1, y_pred2, \"r.-\", linewidth=2, label=r\"$\\hat{y}$\")\n",
        "plt.axis([-0.5, 0.5, -0.05, 0.25])\n",
        "plt.xlabel(\"$x_1$\")\n",
        "plt.title(f\"min_samples_leaf={tree_reg2.min_samples_leaf}\")\n",
        "\n",
        "save_fig(\"tree_regression_regularization_plot\")\n",
        "plt.show()"
      ]
    },
    {
      "cell_type": "markdown",
      "metadata": {
        "id": "yDMTP3QWqP8H"
      },
      "source": [
        "# Sensitivity to axis orientation"
      ]
    },
    {
      "cell_type": "markdown",
      "metadata": {
        "id": "13zmzWBtqP8I"
      },
      "source": [
        "Rotating the dataset also leads to completely different decision boundaries:"
      ]
    },
    {
      "cell_type": "code",
      "execution_count": 26,
      "metadata": {
        "id": "0JYic8RpqP8I",
        "outputId": "49dfe4d9-4bcc-4c54-daf6-0f3ace4d972f",
        "colab": {
          "base_uri": "https://localhost:8080/",
          "height": 289
        }
      },
      "outputs": [
        {
          "output_type": "display_data",
          "data": {
            "text/plain": [
              "<Figure size 720x288 with 2 Axes>"
            ],
            "image/png": "[encoded data removed]"
          },
          "metadata": {
            "needs_background": "light"
          }
        }
      ],
      "source": [
        "# extra code – this cell generates and saves Figure 6–7\n",
        "\n",
        "np.random.seed(6)\n",
        "X_square = np.random.rand(100, 2) - 0.5\n",
        "y_square = (X_square[:, 0] > 0).astype(np.int64)\n",
        "\n",
        "angle = np.pi / 4  # 45 degrees\n",
        "rotation_matrix = np.array([[np.cos(angle), -np.sin(angle)],\n",
        "                            [np.sin(angle), np.cos(angle)]])\n",
        "X_rotated_square = X_square.dot(rotation_matrix)\n",
        "\n",
        "tree_clf_square = DecisionTreeClassifier(random_state=42)\n",
        "tree_clf_square.fit(X_square, y_square)\n",
        "tree_clf_rotated_square = DecisionTreeClassifier(random_state=42)\n",
        "tree_clf_rotated_square.fit(X_rotated_square, y_square)\n",
        "\n",
        "fig, axes = plt.subplots(ncols=2, figsize=(10, 4), sharey=True)\n",
        "plt.sca(axes[0])\n",
        "plot_decision_boundary(tree_clf_square, X_square, y_square,\n",
        "                       axes=[-0.7, 0.7, -0.7, 0.7], cmap=\"Pastel1\")\n",
        "plt.sca(axes[1])\n",
        "plot_decision_boundary(tree_clf_rotated_square, X_rotated_square, y_square,\n",
        "                       axes=[-0.7, 0.7, -0.7, 0.7], cmap=\"Pastel1\")\n",
        "plt.ylabel(\"\")\n",
        "\n",
        "save_fig(\"sensitivity_to_rotation_plot\")\n",
        "plt.show()"
      ]
    },
    {
      "cell_type": "code",
      "execution_count": 27,
      "metadata": {
        "id": "JAa7H9VkqP8I",
        "outputId": "8ac730fd-424e-4046-b068-94a2cc3de994",
        "colab": {
          "base_uri": "https://localhost:8080/"
        }
      },
      "outputs": [
        {
          "output_type": "execute_result",
          "data": {
            "text/plain": [
              "DecisionTreeClassifier(max_depth=2, random_state=42)"
            ]
          },
          "metadata": {},
          "execution_count": 27
        }
      ],
      "source": [
        "from sklearn.decomposition import PCA\n",
        "from sklearn.pipeline import make_pipeline\n",
        "from sklearn.preprocessing import StandardScaler\n",
        "\n",
        "pca_pipeline = make_pipeline(StandardScaler(), PCA())\n",
        "X_iris_rotated = pca_pipeline.fit_transform(X_iris)\n",
        "tree_clf_pca = DecisionTreeClassifier(max_depth=2, random_state=42)\n",
        "tree_clf_pca.fit(X_iris_rotated, y_iris)"
      ]
    },
    {
      "cell_type": "code",
      "execution_count": 28,
      "metadata": {
        "id": "uTzIFDpUqP8J",
        "outputId": "7bf3a3a0-af2b-4339-ad77-d98f3b2191b9",
        "colab": {
          "base_uri": "https://localhost:8080/",
          "height": 289
        }
      },
      "outputs": [
        {
          "output_type": "display_data",
          "data": {
            "text/plain": [
              "<Figure size 576x288 with 1 Axes>"
            ],
            "image/png": "[encoded data removed]"
          },
          "metadata": {
            "needs_background": "light"
          }
        }
      ],
      "source": [
        "# extra code – this cell generates and saves Figure 6–8\n",
        "\n",
        "plt.figure(figsize=(8, 4))\n",
        "\n",
        "axes = [-2.2, 2.4, -0.6, 0.7]\n",
        "z0s, z1s = np.meshgrid(np.linspace(axes[0], axes[1], 100),\n",
        "                       np.linspace(axes[2], axes[3], 100))\n",
        "X_iris_pca_all = np.c_[z0s.ravel(), z1s.ravel()]\n",
        "y_pred = tree_clf_pca.predict(X_iris_pca_all).reshape(z0s.shape)\n",
        "\n",
        "plt.contourf(z0s, z1s, y_pred, alpha=0.3, cmap=custom_cmap)\n",
        "for idx, (name, style) in enumerate(zip(iris.target_names, (\"yo\", \"bs\", \"g^\"))):\n",
        "    plt.plot(X_iris_rotated[:, 0][y_iris == idx],\n",
        "             X_iris_rotated[:, 1][y_iris == idx],\n",
        "             style, label=f\"Iris {name}\")\n",
        "\n",
        "plt.xlabel(\"$z_1$\")\n",
        "plt.ylabel(\"$z_2$\", rotation=0)\n",
        "th1, th2 = tree_clf_pca.tree_.threshold[[0, 2]]\n",
        "plt.plot([th1, th1], axes[2:], \"k-\", linewidth=2)\n",
        "plt.plot([th2, th2], axes[2:], \"k--\", linewidth=2)\n",
        "plt.text(th1 - 0.01, axes[2] + 0.05, \"Depth=0\",\n",
        "         horizontalalignment=\"right\", fontsize=15)\n",
        "plt.text(th2 - 0.01, axes[2] + 0.05, \"Depth=1\",\n",
        "         horizontalalignment=\"right\", fontsize=13)\n",
        "plt.axis(axes)\n",
        "plt.legend(loc=(0.32, 0.67))\n",
        "save_fig(\"pca_preprocessing_plot\")\n",
        "\n",
        "plt.show()"
      ]
    },
    {
      "cell_type": "markdown",
      "metadata": {
        "id": "vgHLKYb1qP8J"
      },
      "source": [
        "# Decision Trees Have High Variance"
      ]
    },
    {
      "cell_type": "markdown",
      "metadata": {
        "id": "1oYdGoWAqP8K"
      },
      "source": [
        "We've seen that small changes in the dataset (such as a rotation) may produce a very different Decision Tree.\n",
        "Now let's show that training the same model on the same data may produce a very different model every time, since the CART training algorithm used by Scikit-Learn is stochastic. To show this, we will set `random_state` to a different value than earlier:"
      ]
    },
    {
      "cell_type": "code",
      "execution_count": 29,
      "metadata": {
        "id": "akL5BkHMqP8K",
        "outputId": "f25ca7df-5dd1-44df-8381-b68efaa3413d",
        "colab": {
          "base_uri": "https://localhost:8080/"
        }
      },
      "outputs": [
        {
          "output_type": "execute_result",
          "data": {
            "text/plain": [
              "DecisionTreeClassifier(max_depth=2, random_state=40)"
            ]
          },
          "metadata": {},
          "execution_count": 29
        }
      ],
      "source": [
        "tree_clf_tweaked = DecisionTreeClassifier(max_depth=2, random_state=40)\n",
        "tree_clf_tweaked.fit(X_iris, y_iris)"
      ]
    },
    {
      "cell_type": "code",
      "execution_count": 30,
      "metadata": {
        "id": "Q7pIwNG-qP8K",
        "outputId": "8ec223fa-6e01-466f-92c1-df2e5a8135f2",
        "colab": {
          "base_uri": "https://localhost:8080/",
          "height": 0
        }
      },
      "outputs": [
        {
          "output_type": "display_data",
          "data": {
            "text/plain": [
              "<Figure size 576x288 with 1 Axes>"
            ],
            "image/png": "[encoded data removed]"
          },
          "metadata": {
            "needs_background": "light"
          }
        }
      ],
      "source": [
        "# extra code – this cell generates and saves Figure 6–9\n",
        "\n",
        "plt.figure(figsize=(8, 4))\n",
        "y_pred = tree_clf_tweaked.predict(X_iris_all).reshape(lengths.shape)\n",
        "plt.contourf(lengths, widths, y_pred, alpha=0.3, cmap=custom_cmap)\n",
        "\n",
        "for idx, (name, style) in enumerate(zip(iris.target_names, (\"yo\", \"bs\", \"g^\"))):\n",
        "    plt.plot(X_iris[:, 0][y_iris == idx], X_iris[:, 1][y_iris == idx],\n",
        "             style, label=f\"Iris {name}\")\n",
        "\n",
        "th0, th1 = tree_clf_tweaked.tree_.threshold[[0, 2]]\n",
        "plt.plot([0, 7.2], [th0, th0], \"k-\", linewidth=2)\n",
        "plt.plot([0, 7.2], [th1, th1], \"k--\", linewidth=2)\n",
        "plt.text(1.8, th0 + 0.05, \"Depth=0\", verticalalignment=\"bottom\", fontsize=15)\n",
        "plt.text(2.3, th1 + 0.05, \"Depth=1\", verticalalignment=\"bottom\", fontsize=13)\n",
        "plt.xlabel(\"Petal length (cm)\")\n",
        "plt.ylabel(\"Petal width (cm)\")\n",
        "plt.axis([0, 7.2, 0, 3])\n",
        "plt.legend()\n",
        "save_fig(\"decision_tree_high_variance_plot\")\n",
        "\n",
        "plt.show()"
      ]
    },
    {
      "cell_type": "markdown",
      "metadata": {
        "id": "SajbwMu8qP8L"
      },
      "source": [
        "# Extra Material – Accessing the tree structure"
      ]
    },
    {
      "cell_type": "markdown",
      "metadata": {
        "id": "kUWvSkPVqP8L"
      },
      "source": [
        "A trained `DecisionTreeClassifier` has a `tree_` attribute that stores the tree's structure:"
      ]
    },
    {
      "cell_type": "code",
      "execution_count": 31,
      "metadata": {
        "id": "XoAwzNuoqP8L",
        "outputId": "bcfcff8f-8720-4d2c-c501-3019993a0d43",
        "colab": {
          "base_uri": "https://localhost:8080/"
        }
      },
      "outputs": [
        {
          "output_type": "execute_result",
          "data": {
            "text/plain": [
              "<sklearn.tree._tree.Tree at 0x7f30743523b0>"
            ]
          },
          "metadata": {},
          "execution_count": 31
        }
      ],
      "source": [
        "tree = tree_clf.tree_\n",
        "tree"
      ]
    },
    {
      "cell_type": "markdown",
      "metadata": {
        "id": "ReiOcN_RqP8M"
      },
      "source": [
        "You can get the total number of nodes in the tree:"
      ]
    },
    {
      "cell_type": "code",
      "execution_count": 32,
      "metadata": {
        "id": "ask2ZYpBqP8M",
        "outputId": "65c5939b-6e74-48c5-c8c8-9e15f8e70ff8",
        "colab": {
          "base_uri": "https://localhost:8080/"
        }
      },
      "outputs": [
        {
          "output_type": "execute_result",
          "data": {
            "text/plain": [
              "5"
            ]
          },
          "metadata": {},
          "execution_count": 32
        }
      ],
      "source": [
        "tree.node_count"
      ]
    },
    {
      "cell_type": "markdown",
      "metadata": {
        "id": "hT9rECCJqP8M"
      },
      "source": [
        "And other self-explanatory attributes are available:"
      ]
    },
    {
      "cell_type": "code",
      "execution_count": 33,
      "metadata": {
        "id": "347RdWiTqP8N",
        "outputId": "ec7b5c21-d01a-4137-b470-bde036802e1e",
        "colab": {
          "base_uri": "https://localhost:8080/"
        }
      },
      "outputs": [
        {
          "output_type": "execute_result",
          "data": {
            "text/plain": [
              "2"
            ]
          },
          "metadata": {},
          "execution_count": 33
        }
      ],
      "source": [
        "tree.max_depth"
      ]
    },
    {
      "cell_type": "code",
      "execution_count": 34,
      "metadata": {
        "id": "z1ZH6naLqP8N",
        "outputId": "687d2d09-449b-4711-b904-2809d1178e1e",
        "colab": {
          "base_uri": "https://localhost:8080/"
        }
      },
      "outputs": [
        {
          "output_type": "execute_result",
          "data": {
            "text/plain": [
              "3"
            ]
          },
          "metadata": {},
          "execution_count": 34
        }
      ],
      "source": [
        "tree.max_n_classes"
      ]
    },
    {
      "cell_type": "code",
      "execution_count": 35,
      "metadata": {
        "id": "I8sQK0yPqP8N",
        "outputId": "f445913c-81d0-4eb6-cbe3-7cbc3b74c5cb",
        "colab": {
          "base_uri": "https://localhost:8080/"
        }
      },
      "outputs": [
        {
          "output_type": "execute_result",
          "data": {
            "text/plain": [
              "2"
            ]
          },
          "metadata": {},
          "execution_count": 35
        }
      ],
      "source": [
        "tree.n_features"
      ]
    },
    {
      "cell_type": "code",
      "execution_count": 36,
      "metadata": {
        "id": "-tHJolFTqP8O",
        "outputId": "7b44aa1b-9a16-4177-e594-fb60d5678bed",
        "colab": {
          "base_uri": "https://localhost:8080/"
        }
      },
      "outputs": [
        {
          "output_type": "execute_result",
          "data": {
            "text/plain": [
              "1"
            ]
          },
          "metadata": {},
          "execution_count": 36
        }
      ],
      "source": [
        "tree.n_outputs"
      ]
    },
    {
      "cell_type": "code",
      "execution_count": 37,
      "metadata": {
        "id": "zRCTPv_LqP8O",
        "outputId": "724a0210-9809-4599-a374-1ea8d0300662",
        "colab": {
          "base_uri": "https://localhost:8080/"
        }
      },
      "outputs": [
        {
          "output_type": "execute_result",
          "data": {
            "text/plain": [
              "3"
            ]
          },
          "metadata": {},
          "execution_count": 37
        }
      ],
      "source": [
        "tree.n_leaves"
      ]
    },
    {
      "cell_type": "markdown",
      "metadata": {
        "id": "x3axlPJsqP8P"
      },
      "source": [
        "All the information about the nodes is stored in NumPy arrays. For example, the impurity of each node:"
      ]
    },
    {
      "cell_type": "code",
      "execution_count": 38,
      "metadata": {
        "id": "XUTD-1wZqP8P",
        "outputId": "4ac0bc14-dd36-4c42-d26e-e8e2c63c7d98",
        "colab": {
          "base_uri": "https://localhost:8080/"
        }
      },
      "outputs": [
        {
          "output_type": "execute_result",
          "data": {
            "text/plain": [
              "array([0.66666667, 0.        , 0.5       , 0.16803841, 0.04253308])"
            ]
          },
          "metadata": {},
          "execution_count": 38
        }
      ],
      "source": [
        "tree.impurity"
      ]
    },
    {
      "cell_type": "markdown",
      "metadata": {
        "id": "dZKIVJ3AqP8P"
      },
      "source": [
        "The root node is at index 0. The left and right children nodes of node _i_ are `tree.children_left[i]` and `tree.children_right[i]`. For example, the children of the root node are:"
      ]
    },
    {
      "cell_type": "code",
      "execution_count": 39,
      "metadata": {
        "id": "0JCkzA6UqP8Q",
        "outputId": "2f9cdbd3-c760-4e61-8313-ec8e8653a72a",
        "colab": {
          "base_uri": "https://localhost:8080/"
        }
      },
      "outputs": [
        {
          "output_type": "execute_result",
          "data": {
            "text/plain": [
              "(1, 2)"
            ]
          },
          "metadata": {},
          "execution_count": 39
        }
      ],
      "source": [
        "tree.children_left[0], tree.children_right[0]"
      ]
    },
    {
      "cell_type": "markdown",
      "metadata": {
        "id": "-dPGt3qUqP8R"
      },
      "source": [
        "When the left and right nodes are equal, it means this is a leaf node (and the children node ids are arbitrary):"
      ]
    },
    {
      "cell_type": "code",
      "execution_count": 40,
      "metadata": {
        "id": "j9UTDCj0qP8R",
        "outputId": "e98a635e-0ba0-4c81-99c2-4c266732d235",
        "colab": {
          "base_uri": "https://localhost:8080/"
        }
      },
      "outputs": [
        {
          "output_type": "execute_result",
          "data": {
            "text/plain": [
              "(-1, -1)"
            ]
          },
          "metadata": {},
          "execution_count": 40
        }
      ],
      "source": [
        "tree.children_left[3], tree.children_right[3]"
      ]
    },
    {
      "cell_type": "markdown",
      "metadata": {
        "id": "8y_Yhk4BqP8R"
      },
      "source": [
        "So you can get the leaf node ids like this:"
      ]
    },
    {
      "cell_type": "code",
      "execution_count": 41,
      "metadata": {
        "id": "csY-crFjqP8S",
        "outputId": "3f31042c-22ca-4d0e-8974-35d6b72a4980",
        "colab": {
          "base_uri": "https://localhost:8080/"
        }
      },
      "outputs": [
        {
          "output_type": "execute_result",
          "data": {
            "text/plain": [
              "array([1, 3, 4])"
            ]
          },
          "metadata": {},
          "execution_count": 41
        }
      ],
      "source": [
        "is_leaf = (tree.children_left == tree.children_right)\n",
        "np.arange(tree.node_count)[is_leaf]"
      ]
    },
    {
      "cell_type": "markdown",
      "metadata": {
        "id": "ZSZTw82XqP8S"
      },
      "source": [
        "Non-leaf nodes are called _split nodes_. The feature they split is available via the `feature` array. Values for leaf nodes should be ignored:"
      ]
    },
    {
      "cell_type": "code",
      "execution_count": 42,
      "metadata": {
        "id": "WONlbkCIqP8S",
        "outputId": "08a1b39d-2b22-4064-f446-c31535dcb66e",
        "colab": {
          "base_uri": "https://localhost:8080/"
        }
      },
      "outputs": [
        {
          "output_type": "execute_result",
          "data": {
            "text/plain": [
              "array([ 0, -2,  1, -2, -2], dtype=int64)"
            ]
          },
          "metadata": {},
          "execution_count": 42
        }
      ],
      "source": [
        "tree.feature"
      ]
    },
    {
      "cell_type": "markdown",
      "metadata": {
        "id": "2YudD8biqP8T"
      },
      "source": [
        "And the corresponding thresholds are:"
      ]
    },
    {
      "cell_type": "code",
      "execution_count": 43,
      "metadata": {
        "id": "5lF-kkoTqP8U",
        "outputId": "68ee941b-cc31-4f76-cc6d-740bd3f1214b",
        "colab": {
          "base_uri": "https://localhost:8080/"
        }
      },
      "outputs": [
        {
          "output_type": "execute_result",
          "data": {
            "text/plain": [
              "array([ 2.44999999, -2.        ,  1.75      , -2.        , -2.        ])"
            ]
          },
          "metadata": {},
          "execution_count": 43
        }
      ],
      "source": [
        "tree.threshold"
      ]
    },
    {
      "cell_type": "markdown",
      "metadata": {
        "id": "VkOPzT0GqP8V"
      },
      "source": [
        "And the number of instances per class that reached each node is available too:"
      ]
    },
    {
      "cell_type": "code",
      "execution_count": 44,
      "metadata": {
        "id": "V919uZNJqP8V",
        "outputId": "ce55e778-ef46-4507-a292-75e1ba9bbf38",
        "colab": {
          "base_uri": "https://localhost:8080/"
        }
      },
      "outputs": [
        {
          "output_type": "execute_result",
          "data": {
            "text/plain": [
              "array([[[50., 50., 50.]],\n",
              "\n",
              "       [[50.,  0.,  0.]],\n",
              "\n",
              "       [[ 0., 50., 50.]],\n",
              "\n",
              "       [[ 0., 49.,  5.]],\n",
              "\n",
              "       [[ 0.,  1., 45.]]])"
            ]
          },
          "metadata": {},
          "execution_count": 44
        }
      ],
      "source": [
        "tree.value"
      ]
    },
    {
      "cell_type": "code",
      "execution_count": 45,
      "metadata": {
        "id": "9bWJDdKCqP8V",
        "outputId": "d6383724-b43b-43ea-9277-8e5a69297760",
        "colab": {
          "base_uri": "https://localhost:8080/"
        }
      },
      "outputs": [
        {
          "output_type": "execute_result",
          "data": {
            "text/plain": [
              "array([150,  50, 100,  54,  46], dtype=int64)"
            ]
          },
          "metadata": {},
          "execution_count": 45
        }
      ],
      "source": [
        "tree.n_node_samples"
      ]
    },
    {
      "cell_type": "code",
      "execution_count": 46,
      "metadata": {
        "id": "N1bhPpO7qP8W",
        "outputId": "2a50bbae-7cdb-4d44-cf2e-940171861049",
        "colab": {
          "base_uri": "https://localhost:8080/"
        }
      },
      "outputs": [
        {
          "output_type": "execute_result",
          "data": {
            "text/plain": [
              "True"
            ]
          },
          "metadata": {},
          "execution_count": 46
        }
      ],
      "source": [
        "np.all(tree.value.sum(axis=(1, 2)) == tree.n_node_samples)"
      ]
    },
    {
      "cell_type": "markdown",
      "metadata": {
        "id": "0LbrzMI7qP8W"
      },
      "source": [
        "Here's how you can compute the depth of each node:"
      ]
    },
    {
      "cell_type": "code",
      "execution_count": 47,
      "metadata": {
        "id": "R0NhO3z1qP8W",
        "outputId": "20b0f8fc-7c39-4716-b4a7-cfe570a3af7c",
        "colab": {
          "base_uri": "https://localhost:8080/"
        }
      },
      "outputs": [
        {
          "output_type": "execute_result",
          "data": {
            "text/plain": [
              "array([0., 1., 1., 2., 2.])"
            ]
          },
          "metadata": {},
          "execution_count": 47
        }
      ],
      "source": [
        "def compute_depth(tree_clf):\n",
        "    tree = tree_clf.tree_\n",
        "    depth = np.zeros(tree.node_count)\n",
        "    stack = [(0, 0)]\n",
        "    while stack:\n",
        "        node, node_depth = stack.pop()\n",
        "        depth[node] = node_depth\n",
        "        if tree.children_left[node] != tree.children_right[node]:\n",
        "            stack.append((tree.children_left[node], node_depth + 1))\n",
        "            stack.append((tree.children_right[node], node_depth + 1))\n",
        "    return depth\n",
        "\n",
        "depth = compute_depth(tree_clf)\n",
        "depth"
      ]
    },
    {
      "cell_type": "markdown",
      "metadata": {
        "id": "9Oiu0NCyqP8X"
      },
      "source": [
        "Here's how to get the thresholds of all split nodes at depth 1:"
      ]
    },
    {
      "cell_type": "code",
      "execution_count": 48,
      "metadata": {
        "id": "rGkOkhzRqP8X",
        "outputId": "6f8453fc-4da2-470b-fc45-20402cdb3b42",
        "colab": {
          "base_uri": "https://localhost:8080/"
        }
      },
      "outputs": [
        {
          "output_type": "execute_result",
          "data": {
            "text/plain": [
              "array([1], dtype=int64)"
            ]
          },
          "metadata": {},
          "execution_count": 48
        }
      ],
      "source": [
        "tree_clf.tree_.feature[(depth == 1) & (~is_leaf)]"
      ]
    },
    {
      "cell_type": "code",
      "execution_count": 49,
      "metadata": {
        "id": "CuxEFUHwqP8X",
        "outputId": "60fd6e13-18e9-49e0-f140-1409a3b6a953",
        "colab": {
          "base_uri": "https://localhost:8080/"
        }
      },
      "outputs": [
        {
          "output_type": "execute_result",
          "data": {
            "text/plain": [
              "array([1.75])"
            ]
          },
          "metadata": {},
          "execution_count": 49
        }
      ],
      "source": [
        "tree_clf.tree_.threshold[(depth == 1) & (~is_leaf)]"
      ]
    },
    {
      "cell_type": "markdown",
      "metadata": {
        "id": "eXpCljadqP8Y"
      },
      "source": [
        "# Exercise solutions"
      ]
    },
    {
      "cell_type": "markdown",
      "metadata": {
        "id": "AxI7xp6DqP8Y"
      },
      "source": [
        "## 1. to 6."
      ]
    },
    {
      "cell_type": "markdown",
      "metadata": {
        "id": "GqT45sj-qP8Y"
      },
      "source": [
        "1. The depth of a well-balanced binary tree containing _m_ leaves is equal to log₂(_m_), rounded up. log₂ is the binary log; log₂(_m_) = log(_m_) / log(2). A binary Decision Tree (one that makes only binary decisions, as is the case with all trees in Scikit-Learn) will end up more or less well balanced at the end of training, with one leaf per training instance if it is trained without restrictions. Thus, if the training set contains one million instances, the Decision Tree will have a depth of log₂(10<sup>6</sup>) ≈ 20 (actually a bit more since the tree will generally not be perfectly well balanced).\n",
        "2. A node's Gini impurity is generally lower than its parent's. This is due to the CART training algorithm's cost function, which splits each node in a way that minimizes the weighted sum of its children's Gini impurities. However, it is possible for a node to have a higher Gini impurity than its parent, as long as this increase is more than compensated for by a decrease in the other child's impurity. For example, consider a node containing four instances of class A and one of class B. Its Gini impurity is 1 – (1/5)² – (4/5)² = 0.32. Now suppose the dataset is one-dimensional and the instances are lined up in the following order: A, B, A, A, A. You can verify that the algorithm will split this node after the second instance, producing one child node with instances A, B, and the other child node with instances A, A, A. The first child node's Gini impurity is 1 – (1/2)² – (1/2)² = 0.5, which is higher than its parent's. This is compensated for by the fact that the other node is pure, so its overall weighted Gini impurity is 2/5 × 0.5 + 3/5 × 0 = 0.2, which is lower than the parent's Gini impurity.\n",
        "3. If a Decision Tree is overfitting the training set, it may be a good idea to decrease `max_depth`, since this will constrain the model, regularizing it.\n",
        "4. Decision Trees don't care whether or not the training data is scaled or centered; that's one of the nice things about them. So if a Decision Tree underfits the training set, scaling the input features will just be a waste of time.\n",
        "5. The computational complexity of training a Decision Tree is _O_(_n_ × _m_ log₂(_m_)). So if you multiply the training set size by 10, the training time will be multiplied by _K_ = (_n_ × 10 _m_ × log₂(10 _m_)) / (_n_ × _m_ × log₂(_m_)) = 10 × log₂(10 _m_) / log₂(_m_). If _m_ = 10<sup>6</sup>, then _K_ ≈ 11.7, so you can expect the training time to be roughly 11.7 hours.\n",
        "6. If the number of features doubles, then the training time will also roughly double."
      ]
    },
    {
      "cell_type": "markdown",
      "metadata": {
        "id": "wsMTwd0ZqP8Y"
      },
      "source": [
        "## 7."
      ]
    },
    {
      "cell_type": "markdown",
      "metadata": {
        "id": "Yb3MPzeUqP8Z"
      },
      "source": [
        "_Exercise: train and fine-tune a Decision Tree for the moons dataset._"
      ]
    },
    {
      "cell_type": "markdown",
      "metadata": {
        "id": "mDtyFdTnqP8Z"
      },
      "source": [
        "a. Generate a moons dataset using `make_moons(n_samples=10000, noise=0.4)`."
      ]
    },
    {
      "cell_type": "markdown",
      "metadata": {
        "id": "OTEY5nKGqP8Z"
      },
      "source": [
        "Adding `random_state=42` to make this notebook's output constant:"
      ]
    },
    {
      "cell_type": "code",
      "execution_count": 50,
      "metadata": {
        "id": "TLp-O7wtqP8Z"
      },
      "outputs": [],
      "source": [
        "from sklearn.datasets import make_moons\n",
        "\n",
        "X_moons, y_moons = make_moons(n_samples=10000, noise=0.4, random_state=42)"
      ]
    },
    {
      "cell_type": "markdown",
      "metadata": {
        "id": "FqgXgpyCqP8a"
      },
      "source": [
        "b. Split it into a training set and a test set using `train_test_split()`."
      ]
    },
    {
      "cell_type": "code",
      "execution_count": 51,
      "metadata": {
        "id": "VTQ3i1FLqP8a"
      },
      "outputs": [],
      "source": [
        "from sklearn.model_selection import train_test_split\n",
        "\n",
        "X_train, X_test, y_train, y_test = train_test_split(X_moons, y_moons,\n",
        "                                                    test_size=0.2,\n",
        "                                                    random_state=42)"
      ]
    },
    {
      "cell_type": "markdown",
      "metadata": {
        "id": "rujISwtcqP8b"
      },
      "source": [
        "c. Use grid search with cross-validation (with the help of the `GridSearchCV` class) to find good hyperparameter values for a `DecisionTreeClassifier`. Hint: try various values for `max_leaf_nodes`."
      ]
    },
    {
      "cell_type": "code",
      "execution_count": 52,
      "metadata": {
        "id": "EbheBS2AqP8b",
        "outputId": "f20e600e-7776-449d-f21a-a7cd12d1a447",
        "colab": {
          "base_uri": "https://localhost:8080/"
        }
      },
      "outputs": [
        {
          "output_type": "execute_result",
          "data": {
            "text/plain": [
              "GridSearchCV(cv=3, estimator=DecisionTreeClassifier(random_state=42),\n",
              "             param_grid={'max_depth': [1, 2, 3, 4, 5, 6],\n",
              "                         'max_leaf_nodes': [2, 3, 4, 5, 6, 7, 8, 9, 10, 11, 12,\n",
              "                                            13, 14, 15, 16, 17, 18, 19, 20, 21,\n",
              "                                            22, 23, 24, 25, 26, 27, 28, 29, 30,\n",
              "                                            31, ...],\n",
              "                         'min_samples_split': [2, 3, 4]})"
            ]
          },
          "metadata": {},
          "execution_count": 52
        }
      ],
      "source": [
        "from sklearn.model_selection import GridSearchCV\n",
        "\n",
        "params = {\n",
        "    'max_leaf_nodes': list(range(2, 100)),\n",
        "    'max_depth': list(range(1, 7)),\n",
        "    'min_samples_split': [2, 3, 4]\n",
        "}\n",
        "grid_search_cv = GridSearchCV(DecisionTreeClassifier(random_state=42),\n",
        "                              params,\n",
        "                              cv=3)\n",
        "\n",
        "grid_search_cv.fit(X_train, y_train)"
      ]
    },
    {
      "cell_type": "code",
      "execution_count": 53,
      "metadata": {
        "id": "L4jPAas_qP8b",
        "outputId": "976b769c-45b8-4e2a-9a8d-c184f1c140bd",
        "colab": {
          "base_uri": "https://localhost:8080/"
        }
      },
      "outputs": [
        {
          "output_type": "execute_result",
          "data": {
            "text/plain": [
              "DecisionTreeClassifier(max_depth=6, max_leaf_nodes=17, random_state=42)"
            ]
          },
          "metadata": {},
          "execution_count": 53
        }
      ],
      "source": [
        "grid_search_cv.best_estimator_"
      ]
    },
    {
      "cell_type": "markdown",
      "metadata": {
        "id": "mvjdcN9bqP8c"
      },
      "source": [
        "d. Train it on the full training set using these hyperparameters, and measure your model's performance on the test set. You should get roughly 85% to 87% accuracy."
      ]
    },
    {
      "cell_type": "markdown",
      "metadata": {
        "id": "uarrMOq5qP8c"
      },
      "source": [
        "By default, `GridSearchCV` trains the best model found on the whole training set (you can change this by setting `refit=False`), so we don't need to do it again. We can simply evaluate the model's accuracy:"
      ]
    },
    {
      "cell_type": "code",
      "execution_count": 54,
      "metadata": {
        "id": "e6gGxNR1qP8c",
        "outputId": "ff85f47a-7c5e-476d-8e12-6e2607f1d6e9",
        "colab": {
          "base_uri": "https://localhost:8080/"
        }
      },
      "outputs": [
        {
          "output_type": "execute_result",
          "data": {
            "text/plain": [
              "0.8595"
            ]
          },
          "metadata": {},
          "execution_count": 54
        }
      ],
      "source": [
        "from sklearn.metrics import accuracy_score\n",
        "\n",
        "y_pred = grid_search_cv.predict(X_test)\n",
        "accuracy_score(y_test, y_pred)"
      ]
    },
    {
      "cell_type": "markdown",
      "metadata": {
        "id": "tCpy66xNqP8d"
      },
      "source": [
        "## 8."
      ]
    },
    {
      "cell_type": "markdown",
      "metadata": {
        "id": "BCb4yGudqP8d"
      },
      "source": [
        "_Exercise: Grow a forest._"
      ]
    },
    {
      "cell_type": "markdown",
      "metadata": {
        "id": "gAtnpbv7qP8d"
      },
      "source": [
        "a. Continuing the previous exercise, generate 1,000 subsets of the training set, each containing 100 instances selected randomly. Hint: you can use Scikit-Learn's `ShuffleSplit` class for this."
      ]
    },
    {
      "cell_type": "code",
      "execution_count": 55,
      "metadata": {
        "id": "YLFouJWiqP8d"
      },
      "outputs": [],
      "source": [
        "from sklearn.model_selection import ShuffleSplit\n",
        "\n",
        "n_trees = 1000\n",
        "n_instances = 100\n",
        "\n",
        "mini_sets = []\n",
        "\n",
        "rs = ShuffleSplit(n_splits=n_trees, test_size=len(X_train) - n_instances,\n",
        "                  random_state=42)\n",
        "\n",
        "for mini_train_index, mini_test_index in rs.split(X_train):\n",
        "    X_mini_train = X_train[mini_train_index]\n",
        "    y_mini_train = y_train[mini_train_index]\n",
        "    mini_sets.append((X_mini_train, y_mini_train))"
      ]
    },
    {
      "cell_type": "markdown",
      "metadata": {
        "id": "XwIi8pd7qP8e"
      },
      "source": [
        "b. Train one Decision Tree on each subset, using the best hyperparameter values found above. Evaluate these 1,000 Decision Trees on the test set. Since they were trained on smaller sets, these Decision Trees will likely perform worse than the first Decision Tree, achieving only about 80% accuracy."
      ]
    },
    {
      "cell_type": "code",
      "execution_count": 56,
      "metadata": {
        "id": "9SaZ8lphqP8e",
        "outputId": "6678b33d-8829-4947-d20b-90bd02a6d091",
        "colab": {
          "base_uri": "https://localhost:8080/"
        }
      },
      "outputs": [
        {
          "output_type": "execute_result",
          "data": {
            "text/plain": [
              "0.805671"
            ]
          },
          "metadata": {},
          "execution_count": 56
        }
      ],
      "source": [
        "from sklearn.base import clone\n",
        "\n",
        "forest = [clone(grid_search_cv.best_estimator_) for _ in range(n_trees)]\n",
        "\n",
        "accuracy_scores = []\n",
        "\n",
        "for tree, (X_mini_train, y_mini_train) in zip(forest, mini_sets):\n",
        "    tree.fit(X_mini_train, y_mini_train)\n",
        "    \n",
        "    y_pred = tree.predict(X_test)\n",
        "    accuracy_scores.append(accuracy_score(y_test, y_pred))\n",
        "\n",
        "np.mean(accuracy_scores)"
      ]
    },
    {
      "cell_type": "markdown",
      "metadata": {
        "id": "PBV2k7UNqP8e"
      },
      "source": [
        "c. Now comes the magic. For each test set instance, generate the predictions of the 1,000 Decision Trees, and keep only the most frequent prediction (you can use SciPy's `mode()` function for this). This gives you _majority-vote predictions_ over the test set."
      ]
    },
    {
      "cell_type": "code",
      "execution_count": 57,
      "metadata": {
        "id": "yadtfonwqP8e"
      },
      "outputs": [],
      "source": [
        "Y_pred = np.empty([n_trees, len(X_test)], dtype=np.uint8)\n",
        "\n",
        "for tree_index, tree in enumerate(forest):\n",
        "    Y_pred[tree_index] = tree.predict(X_test)"
      ]
    },
    {
      "cell_type": "code",
      "execution_count": 58,
      "metadata": {
        "id": "suGjaOMnqP8f"
      },
      "outputs": [],
      "source": [
        "from scipy.stats import mode\n",
        "\n",
        "y_pred_majority_votes, n_votes = mode(Y_pred, axis=0)"
      ]
    },
    {
      "cell_type": "markdown",
      "metadata": {
        "id": "6pzNhPxxqP8f"
      },
      "source": [
        "d. Evaluate these predictions on the test set: you should obtain a slightly higher accuracy than your first model (about 0.5 to 1.5% higher). Congratulations, you have trained a Random Forest classifier!"
      ]
    },
    {
      "cell_type": "code",
      "execution_count": 59,
      "metadata": {
        "id": "BouS2XJTqP8g",
        "outputId": "7d7f0dee-861c-4259-cce2-4da51efa0fe3",
        "colab": {
          "base_uri": "https://localhost:8080/"
        }
      },
      "outputs": [
        {
          "output_type": "execute_result",
          "data": {
            "text/plain": [
              "0.873"
            ]
          },
          "metadata": {},
          "execution_count": 59
        }
      ],
      "source": [
        "accuracy_score(y_test, y_pred_majority_votes.reshape([-1]))"
      ]
    },
    {
      "cell_type": "code",
      "execution_count": 59,
      "metadata": {
        "id": "RDsGvU4OqP8g"
      },
      "outputs": [],
      "source": []
    }
  ],
  "metadata": {
    "kernelspec": {
      "display_name": "Python 3",
      "language": "python",
      "name": "python3"
    },
    "language_info": {
      "codemirror_mode": {
        "name": "ipython",
        "version": 3
      },
      "file_extension": ".py",
      "mimetype": "text/x-python",
      "name": "python",
      "nbconvert_exporter": "python",
      "pygments_lexer": "ipython3",
      "version": "3.10.6"
    },
    "nav_menu": {
      "height": "309px",
      "width": "468px"
    },
    "toc": {
      "navigate_menu": true,
      "number_sections": true,
      "sideBar": true,
      "threshold": 6,
      "toc_cell": false,
      "toc_section_display": "block",
      "toc_window_display": false
    },
    "colab": {
      "provenance": []
    }
  },
  "nbformat": 4,
  "nbformat_minor": 0
}