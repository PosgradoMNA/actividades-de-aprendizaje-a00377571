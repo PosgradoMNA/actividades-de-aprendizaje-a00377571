{
  "nbformat": 4,
  "nbformat_minor": 0,
  "metadata": {
    "colab": {
      "name": "assignment01.ipynb",
      "provenance": [],
      "include_colab_link": true
    },
    "kernelspec": {
      "name": "python3",
      "display_name": "Python 3"
    },
    "language_info": {
      "name": "python"
    }
  },
  "cells": [
    {
      "cell_type": "markdown",
      "metadata": {
        "id": "view-in-github",
        "colab_type": "text"
      },
      "source": [
        "<a href=\"https://colab.research.google.com/github/PosgradoMNA/actividades-de-aprendizaje-a00377571/blob/main/Modulo4.ipynb\" target=\"_parent\"><img src=\"https://colab.research.google.com/assets/colab-badge.svg\" alt=\"Open In Colab\"/></a>"
      ]
    },
    {
      "cell_type": "code",
      "execution_count": null,
      "metadata": {
        "id": "LzUSMM79NR9P",
        "outputId": "0e6cb421-1096-426a-b31a-f61d059def81",
        "colab": {
          "base_uri": "https://localhost:8080/"
        }
      },
      "outputs": [
        {
          "output_type": "stream",
          "name": "stdout",
          "text": [
            "assignment01 for GitJobish03 and edited in git, and 18\n"
          ]
        }
      ],
      "source": [
        "print('assignment01 for GitJobish03 and edited in git, and 18')"
      ]
    },
    {
      "cell_type": "markdown",
      "source": [
        "MARCO ANTONIO ARELLANO HERNÁNDEZ.\n",
        "A00377571\n",
        "\n",
        "\n",
        "\n",
        "\n",
        "==**=============MODULO 4===============**\n"
      ],
      "metadata": {
        "id": "oWUaYDYPGFHx"
      }
    },
    {
      "cell_type": "code",
      "source": [],
      "metadata": {
        "id": "mxM_WppZPMFx"
      },
      "execution_count": null,
      "outputs": []
    },
    {
      "cell_type": "markdown",
      "source": [
        "*** Leer archivo con OPEN"
      ],
      "metadata": {
        "id": "YLvoqDUxHGSx"
      }
    },
    {
      "cell_type": "code",
      "source": [
        "#Descargando las librerías.\n",
        "import urllib.request\n",
        "filename='Example1.txt'\n",
        "#from pyodide.http import pyfetch\n",
        "import pandas as pd"
      ],
      "metadata": {
        "id": "ead10SCyHQD2"
      },
      "execution_count": 9,
      "outputs": []
    },
    {
      "cell_type": "code",
      "source": [
        "#Leer el archivo Example1.txt despues de descargarlo de internet y cargarlo en colab\n",
        "example1=\"/content/sample_data/Example1.txt\"\n",
        "file1= open(example1,\"r\")\n"
      ],
      "metadata": {
        "id": "j_0mM7tGM5z0"
      },
      "execution_count": 74,
      "outputs": []
    },
    {
      "cell_type": "code",
      "source": [
        "#Imprime el nombre del archivo\n",
        "file1.name"
      ],
      "metadata": {
        "colab": {
          "base_uri": "https://localhost:8080/",
          "height": 35
        },
        "id": "2bDGwDZCL-ss",
        "outputId": "44f8409e-e3d9-457a-d481-180c066478d1"
      },
      "execution_count": 55,
      "outputs": [
        {
          "output_type": "execute_result",
          "data": {
            "text/plain": [
              "'/content/sample_data/Example1.txt'"
            ],
            "application/vnd.google.colaboratory.intrinsic+json": {
              "type": "string"
            }
          },
          "metadata": {},
          "execution_count": 55
        }
      ]
    },
    {
      "cell_type": "code",
      "source": [
        "#tambien se puede abrir el archivo utilizando la siguiente sintaxis.\n",
        "with open(\"/content/sample_data/Example1.txt\") as f:\n",
        "  bird_text=f.read() #<---- Aqui debe llevar parentesis. se asigna a una variable"
      ],
      "metadata": {
        "id": "yI30p7wczeHv"
      },
      "execution_count": 67,
      "outputs": []
    },
    {
      "cell_type": "code",
      "source": [
        "bird_list = bird_text.split(\" \") #<--- aqui se pone un espacion entre comillas.\n",
        "len(bird_list)\n"
      ],
      "metadata": {
        "id": "Uwuo66hV1Hur",
        "outputId": "0b607a94-c40f-421a-d875-3fd65c2bfd11",
        "colab": {
          "base_uri": "https://localhost:8080/"
        }
      },
      "execution_count": 60,
      "outputs": [
        {
          "output_type": "execute_result",
          "data": {
            "text/plain": [
              "11"
            ]
          },
          "metadata": {},
          "execution_count": 60
        }
      ]
    },
    {
      "cell_type": "code",
      "source": [
        "#imprime el modeo del archivo 'r' o 'w'\n",
        "file1.mode"
      ],
      "metadata": {
        "id": "0DDTyUJU2DoM",
        "outputId": "7c4fe548-6742-43b0-ad72-0b27d6725798",
        "colab": {
          "base_uri": "https://localhost:8080/",
          "height": 35
        }
      },
      "execution_count": 61,
      "outputs": [
        {
          "output_type": "execute_result",
          "data": {
            "text/plain": [
              "'r'"
            ],
            "application/vnd.google.colaboratory.intrinsic+json": {
              "type": "string"
            }
          },
          "metadata": {},
          "execution_count": 61
        }
      ]
    },
    {
      "cell_type": "code",
      "source": [
        "f.mode\n"
      ],
      "metadata": {
        "id": "hV2IBlwS4wLn",
        "outputId": "c0fc4260-f3d7-4f7c-8529-8bdefd823ba9",
        "colab": {
          "base_uri": "https://localhost:8080/",
          "height": 35
        }
      },
      "execution_count": 62,
      "outputs": [
        {
          "output_type": "execute_result",
          "data": {
            "text/plain": [
              "'r'"
            ],
            "application/vnd.google.colaboratory.intrinsic+json": {
              "type": "string"
            }
          },
          "metadata": {},
          "execution_count": 62
        }
      ]
    },
    {
      "cell_type": "markdown",
      "source": [
        "Podemos leer el archivo y asignarlo a una variable."
      ],
      "metadata": {
        "id": "YwSj4TmL491A"
      }
    },
    {
      "cell_type": "code",
      "source": [
        "FileContent=file1.read()\n",
        "print(FileContent)"
      ],
      "metadata": {
        "id": "Bechld3D4zHI",
        "outputId": "16e5e096-c78c-4ba0-fa87-3774931aaba2",
        "colab": {
          "base_uri": "https://localhost:8080/"
        }
      },
      "execution_count": 75,
      "outputs": [
        {
          "output_type": "stream",
          "name": "stdout",
          "text": [
            "This is line 1 \n",
            "This is line 2\n",
            "This is line 3\n"
          ]
        }
      ]
    },
    {
      "cell_type": "code",
      "source": [
        "FileContent"
      ],
      "metadata": {
        "id": "v_UH6Hvl5ZSz",
        "outputId": "5d0584a0-7a17-47a0-c320-879bd2fe0f34",
        "colab": {
          "base_uri": "https://localhost:8080/",
          "height": 35
        }
      },
      "execution_count": 76,
      "outputs": [
        {
          "output_type": "execute_result",
          "data": {
            "text/plain": [
              "'This is line 1 \\nThis is line 2\\nThis is line 3'"
            ],
            "application/vnd.google.colaboratory.intrinsic+json": {
              "type": "string"
            }
          },
          "metadata": {},
          "execution_count": 76
        }
      ]
    },
    {
      "cell_type": "code",
      "source": [],
      "metadata": {
        "id": "A3LdYHB-6UyQ"
      },
      "execution_count": null,
      "outputs": []
    }
  ]
}