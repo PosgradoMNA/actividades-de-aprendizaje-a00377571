{
  "nbformat": 4,
  "nbformat_minor": 0,
  "metadata": {
    "colab": {
      "name": "assignment01.ipynb",
      "provenance": [],
      "include_colab_link": true
    },
    "kernelspec": {
      "name": "python3",
      "display_name": "Python 3"
    },
    "language_info": {
      "name": "python"
    }
  },
  "cells": [
    {
      "cell_type": "markdown",
      "metadata": {
        "id": "view-in-github",
        "colab_type": "text"
      },
      "source": [
        "<a href=\"https://colab.research.google.com/github/PosgradoMNA/actividades-de-aprendizaje-a00377571/blob/main/Modulo4.ipynb\" target=\"_parent\"><img src=\"https://colab.research.google.com/assets/colab-badge.svg\" alt=\"Open In Colab\"/></a>"
      ]
    },
    {
      "cell_type": "code",
      "execution_count": null,
      "metadata": {
        "id": "LzUSMM79NR9P",
        "outputId": "0e6cb421-1096-426a-b31a-f61d059def81",
        "colab": {
          "base_uri": "https://localhost:8080/"
        }
      },
      "outputs": [
        {
          "output_type": "stream",
          "name": "stdout",
          "text": [
            "assignment01 for GitJobish03 and edited in git, and 18\n"
          ]
        }
      ],
      "source": [
        "print('assignment01 for GitJobish03 and edited in git, and 18')"
      ]
    },
    {
      "cell_type": "markdown",
      "source": [
        "MARCO ANTONIO ARELLANO HERNÁNDEZ.\n",
        "A00377571\n",
        "\n",
        "\n",
        "\n",
        "\n",
        "==**=============MODULO 4===============**\n"
      ],
      "metadata": {
        "id": "oWUaYDYPGFHx"
      }
    },
    {
      "cell_type": "code",
      "source": [],
      "metadata": {
        "id": "mxM_WppZPMFx"
      },
      "execution_count": null,
      "outputs": []
    },
    {
      "cell_type": "markdown",
      "source": [
        "*** Leer archivo con OPEN"
      ],
      "metadata": {
        "id": "YLvoqDUxHGSx"
      }
    },
    {
      "cell_type": "code",
      "source": [
        "#Descargando las librerías.\n",
        "import urllib.request\n",
        "filename='example1.txt'\n",
        "#from pyodide.http import pyfetch\n",
        "import pandas as pd"
      ],
      "metadata": {
        "id": "ead10SCyHQD2"
      },
      "execution_count": 13,
      "outputs": []
    },
    {
      "cell_type": "code",
      "source": [
        "#Leer el archivo Example1.txt despues de descargarlo de internet y cargarlo en colab\n",
        "example1=\"/content/sample_data/example1.txt\"\n",
        "file1= open(example1,\"r\")\n"
      ],
      "metadata": {
        "id": "j_0mM7tGM5z0"
      },
      "execution_count": 14,
      "outputs": []
    },
    {
      "cell_type": "code",
      "source": [
        "#Imprime el nombre del archivo\n",
        "file1.name"
      ],
      "metadata": {
        "colab": {
          "base_uri": "https://localhost:8080/",
          "height": 35
        },
        "id": "2bDGwDZCL-ss",
        "outputId": "53b9fb1b-1337-436c-9c95-35970df4b5f4"
      },
      "execution_count": 15,
      "outputs": [
        {
          "output_type": "execute_result",
          "data": {
            "text/plain": [
              "'/content/sample_data/example1.txt'"
            ],
            "application/vnd.google.colaboratory.intrinsic+json": {
              "type": "string"
            }
          },
          "metadata": {},
          "execution_count": 15
        }
      ]
    },
    {
      "cell_type": "code",
      "source": [
        "#tambien se puede abrir el archivo utilizando la siguiente sintaxis.\n",
        "with open(\"/content/sample_data/example1.txt\") as f:\n",
        "  bird_text=f.read() #<---- Aqui debe llevar parentesis. se asigna a una variable"
      ],
      "metadata": {
        "id": "yI30p7wczeHv"
      },
      "execution_count": null,
      "outputs": []
    },
    {
      "cell_type": "code",
      "source": [
        "bird_list = bird_text.split(\" \") #<--- aqui se pone un espacion entre comillas.\n",
        "len(bird_list)\n"
      ],
      "metadata": {
        "colab": {
          "base_uri": "https://localhost:8080/"
        },
        "id": "Uwuo66hV1Hur",
        "outputId": "0b607a94-c40f-421a-d875-3fd65c2bfd11"
      },
      "execution_count": null,
      "outputs": [
        {
          "output_type": "execute_result",
          "data": {
            "text/plain": [
              "11"
            ]
          },
          "metadata": {},
          "execution_count": 60
        }
      ]
    },
    {
      "cell_type": "code",
      "source": [
        "#imprime el modeo del archivo 'r' o 'w'\n",
        "file1.mode"
      ],
      "metadata": {
        "colab": {
          "base_uri": "https://localhost:8080/",
          "height": 35
        },
        "id": "0DDTyUJU2DoM",
        "outputId": "db1d9a03-dcc4-457e-d049-3da310a04221"
      },
      "execution_count": 16,
      "outputs": [
        {
          "output_type": "execute_result",
          "data": {
            "text/plain": [
              "'r'"
            ],
            "application/vnd.google.colaboratory.intrinsic+json": {
              "type": "string"
            }
          },
          "metadata": {},
          "execution_count": 16
        }
      ]
    },
    {
      "cell_type": "code",
      "source": [
        "f.mode\n"
      ],
      "metadata": {
        "colab": {
          "base_uri": "https://localhost:8080/",
          "height": 166
        },
        "id": "hV2IBlwS4wLn",
        "outputId": "477bba87-c0cd-4a27-93cd-9b2a8f413db7"
      },
      "execution_count": 17,
      "outputs": [
        {
          "output_type": "error",
          "ename": "NameError",
          "evalue": "ignored",
          "traceback": [
            "\u001b[0;31m---------------------------------------------------------------------------\u001b[0m",
            "\u001b[0;31mNameError\u001b[0m                                 Traceback (most recent call last)",
            "\u001b[0;32m<ipython-input-17-672332b0a367>\u001b[0m in \u001b[0;36m<module>\u001b[0;34m\u001b[0m\n\u001b[0;32m----> 1\u001b[0;31m \u001b[0mf\u001b[0m\u001b[0;34m.\u001b[0m\u001b[0mmode\u001b[0m\u001b[0;34m\u001b[0m\u001b[0;34m\u001b[0m\u001b[0m\n\u001b[0m",
            "\u001b[0;31mNameError\u001b[0m: name 'f' is not defined"
          ]
        }
      ]
    },
    {
      "cell_type": "markdown",
      "source": [
        "Podemos leer el archivo y asignarlo a una variable."
      ],
      "metadata": {
        "id": "YwSj4TmL491A"
      }
    },
    {
      "cell_type": "code",
      "source": [
        "FileContent=file1.read()\n",
        "print(FileContent)"
      ],
      "metadata": {
        "colab": {
          "base_uri": "https://localhost:8080/"
        },
        "id": "Bechld3D4zHI",
        "outputId": "047c1714-409d-4538-dd28-27654e8255b9"
      },
      "execution_count": 18,
      "outputs": [
        {
          "output_type": "stream",
          "name": "stdout",
          "text": [
            "This is line 1 \n",
            "This is line 2\n",
            "This is line 3\n"
          ]
        }
      ]
    },
    {
      "cell_type": "code",
      "source": [
        "FileContent"
      ],
      "metadata": {
        "colab": {
          "base_uri": "https://localhost:8080/",
          "height": 35
        },
        "id": "v_UH6Hvl5ZSz",
        "outputId": "48c0cd6f-77c6-447f-e71b-9fdcb4679c30"
      },
      "execution_count": 19,
      "outputs": [
        {
          "output_type": "execute_result",
          "data": {
            "text/plain": [
              "'This is line 1 \\nThis is line 2\\nThis is line 3'"
            ],
            "application/vnd.google.colaboratory.intrinsic+json": {
              "type": "string"
            }
          },
          "metadata": {},
          "execution_count": 19
        }
      ]
    },
    {
      "cell_type": "markdown",
      "source": [
        "Leer el tipo del contenido del archivo\n",
        "# **LABORATORIO DE LECTURA DE ARCHIVOS (read)**"
      ],
      "metadata": {
        "id": "1T-ztVrV6uIs"
      }
    },
    {
      "cell_type": "code",
      "source": [
        "type(FileContent)"
      ],
      "metadata": {
        "colab": {
          "base_uri": "https://localhost:8080/"
        },
        "id": "A3LdYHB-6UyQ",
        "outputId": "6da333fc-86d4-44c1-a5e3-6c58c8df79e7"
      },
      "execution_count": 20,
      "outputs": [
        {
          "output_type": "execute_result",
          "data": {
            "text/plain": [
              "str"
            ]
          },
          "metadata": {},
          "execution_count": 20
        }
      ]
    },
    {
      "cell_type": "code",
      "source": [
        "#UNA MEJOR FORMA DE LEER UN ARCHIVO.\n",
        "#Utilizando la función \"with open\" que cierra automáticamente el archivo después de usarlo.\n",
        "with open(example1,'r')as file1:\n",
        "  FileContent=file1.read() #Lee el contenido del archivo y lo pone en la variable FileContent\n",
        "  print(FileContent) #imprime la variable que guarda la lectura del archivo."
      ],
      "metadata": {
        "colab": {
          "base_uri": "https://localhost:8080/"
        },
        "id": "GQpfFZ7kpJM3",
        "outputId": "19be9c04-b907-4099-fbea-48b667555149"
      },
      "execution_count": 22,
      "outputs": [
        {
          "output_type": "stream",
          "name": "stdout",
          "text": [
            "This is line 1 \n",
            "This is line 2\n",
            "This is line 3\n"
          ]
        }
      ]
    },
    {
      "cell_type": "code",
      "source": [
        "# el archivo objeto fue cerrado, se demuestra con la siguiente sentencia.\n",
        "file1.closed # y respondera que sí está cerrado."
      ],
      "metadata": {
        "colab": {
          "base_uri": "https://localhost:8080/"
        },
        "id": "2kStuQx0qaJr",
        "outputId": "bc7ef8b4-bfc3-4429-c2f6-f6c3779dc43b"
      },
      "execution_count": 23,
      "outputs": [
        {
          "output_type": "execute_result",
          "data": {
            "text/plain": [
              "True"
            ]
          },
          "metadata": {},
          "execution_count": 23
        }
      ]
    },
    {
      "cell_type": "code",
      "source": [
        "# Ver el contenido del rchivo se imprimer la variable donde guardamos la lectura.\n",
        "print(FileContent)"
      ],
      "metadata": {
        "colab": {
          "base_uri": "https://localhost:8080/"
        },
        "id": "c1in3l8Oqn4g",
        "outputId": "a736226b-8ed2-4cb8-d98c-94fab7b9b7cd"
      },
      "execution_count": 24,
      "outputs": [
        {
          "output_type": "stream",
          "name": "stdout",
          "text": [
            "This is line 1 \n",
            "This is line 2\n",
            "This is line 3\n"
          ]
        }
      ]
    },
    {
      "cell_type": "markdown",
      "source": [
        "Aqui una explicación de la forma que trabaja ésta sintaxis.\n",
        "\n",
        "![Captura de pantalla 2022-10-01 a la(s) 17.32.30.png](data:image/png;base64,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)\n",
        "\n",
        "\n",
        "Finalmente se debe cerrar el archivo después de usarlo.\n"
      ],
      "metadata": {
        "id": "e7fQyaKh69nJ"
      }
    },
    {
      "cell_type": "code",
      "source": [
        "#Podemos leer sólo algunos caráteres del archivo utilizando le argumenteo de read()\n",
        "#leer los primeros 4 carácteres del archivo.\n",
        "with open(\"/content/sample_data/Example1.txt\",'r')as file1:\n",
        "  print(file1.read(4))\n",
        "#si se llama de nuevo el metodo read(4) imprimirá los siguiente 4 caractéres del archivo.\n",
        "  print(file1.read(4))\n",
        "  print(file1.read(7))\n",
        "  print(file1.read(14))\n",
        "  print(file1.read(10))"
      ],
      "metadata": {
        "colab": {
          "base_uri": "https://localhost:8080/"
        },
        "id": "cxR_PaaVr_HH",
        "outputId": "1cab61bd-8e1b-4c4c-fbf2-12c8d4193cd6"
      },
      "execution_count": 36,
      "outputs": [
        {
          "output_type": "stream",
          "name": "stdout",
          "text": [
            "This\n",
            " is \n",
            "line 1 \n",
            "\n",
            "This is line \n",
            "2\n",
            "This is \n"
          ]
        }
      ]
    },
    {
      "cell_type": "code",
      "source": [
        "#También podemos leer una sóla línea usando la función \"readline()\"\n",
        "with open(\"/content/sample_data/Example1.txt\",'r')as File1:\n",
        "       print(\"Ésta es la primer linea del archivo: \\n\"+ File1.readline())\n"
      ],
      "metadata": {
        "colab": {
          "base_uri": "https://localhost:8080/"
        },
        "id": "UgJtrXsxs_1G",
        "outputId": "a3873a8d-f7fe-4c26-dd6c-6bdf937ff696"
      },
      "execution_count": 43,
      "outputs": [
        {
          "output_type": "stream",
          "name": "stdout",
          "text": [
            "Ésta es la primer linea del archivo: \n",
            "This is line 1 \n",
            "\n"
          ]
        }
      ]
    },
    {
      "cell_type": "code",
      "source": [
        "#usando \"loop\" para iterar a trevéz de cada línea del archivo.\n",
        "with open (\"/content/sample_data/Example1.txt\",'r')as file1:\n",
        "  i=0;\n",
        "  for line in file1:\n",
        "    print(\"Iteración\", str(i),\"del archivo:\",line)\n",
        "    i=i+1\n",
        "\n",
        "\n",
        "\n"
      ],
      "metadata": {
        "colab": {
          "base_uri": "https://localhost:8080/"
        },
        "id": "U3U538CdvQoc",
        "outputId": "5771dbf5-eeea-4ee7-cf77-424b77db4609"
      },
      "execution_count": 46,
      "outputs": [
        {
          "output_type": "stream",
          "name": "stdout",
          "text": [
            "Iteración 0 del archivo: This is line 1 \n",
            "\n",
            "Iteración 1 del archivo: This is line 2\n",
            "\n",
            "Iteración 2 del archivo: This is line \n",
            "\n",
            "Iteración 3 del archivo: Marco Antonio\n",
            "\n",
            "Iteración 4 del archivo: Arellano \n",
            "\n",
            "Iteración 5 del archivo: Hernández\n"
          ]
        }
      ]
    },
    {
      "cell_type": "code",
      "source": [
        "#podemos usar el método \"readline()\" para guardar el archivo de texto a una lista.\n",
        "#lee todas las lineas y guarda en una lista.\n",
        "with open(\"/content/sample_data/Example1.txt\",\"r\")as file1:\n",
        "  FileasList=file1.readlines()\n",
        "  "
      ],
      "metadata": {
        "id": "RRIJGD0vxNvL"
      },
      "execution_count": 48,
      "outputs": []
    },
    {
      "cell_type": "code",
      "source": [
        "#imprime la posición 0 de la lista\n",
        "print(FileasList[0])\n",
        "FileasList[3]\n",
        "\n"
      ],
      "metadata": {
        "colab": {
          "base_uri": "https://localhost:8080/",
          "height": 70
        },
        "id": "y1B3dgOwyI-o",
        "outputId": "fa1b9340-061d-4cab-e2d6-aa8c4602d498"
      },
      "execution_count": 51,
      "outputs": [
        {
          "output_type": "stream",
          "name": "stdout",
          "text": [
            "This is line 1 \n",
            "\n"
          ]
        },
        {
          "output_type": "execute_result",
          "data": {
            "text/plain": [
              "'Marco Antonio\\n'"
            ],
            "application/vnd.google.colaboratory.intrinsic+json": {
              "type": "string"
            }
          },
          "metadata": {},
          "execution_count": 51
        }
      ]
    },
    {
      "cell_type": "code",
      "source": [],
      "metadata": {
        "id": "wvNLa9Iz11EN"
      },
      "execution_count": null,
      "outputs": []
    },
    {
      "cell_type": "markdown",
      "source": [
        "# **LABORATORIO DE ESCRITURA DE ARCHIVOS (write)**\n",
        "\n",
        "Usando librerías de Python."
      ],
      "metadata": {
        "id": "lR05zYzx1zad"
      }
    },
    {
      "cell_type": "code",
      "source": [
        "#podemos abrir el archivo objeto usando el metodo (write), \n",
        "#para escribir al archivo se fija el argunmento en \"w\"\n",
        "\n",
        "#Escribir una línea a un archivo.\n",
        "#vamos a escribir en el archivo \"example2.txt\" la línea \"This line A\"\n",
        "exmp2=\"Example2.txt\"\n",
        "with open (exmp2,\"w\")as writefile:\n",
        "     writefile.write(\"This is line A\")"
      ],
      "metadata": {
        "id": "BHPd_haByhAG"
      },
      "execution_count": 1,
      "outputs": []
    },
    {
      "cell_type": "code",
      "source": [
        "#Leer el archivo\n",
        "with open(\"/content/Example2.txt\",'r') as testwritefile:\n",
        "  print(testwritefile.read())"
      ],
      "metadata": {
        "id": "Y15x7uOJ69Eo",
        "colab": {
          "base_uri": "https://localhost:8080/"
        },
        "outputId": "763d9874-f2bc-45e2-8785-2d5f6b5b58e9"
      },
      "execution_count": 2,
      "outputs": [
        {
          "output_type": "stream",
          "name": "stdout",
          "text": [
            "This is line A\n"
          ]
        }
      ]
    },
    {
      "cell_type": "code",
      "source": [
        "#podemos escribir multiples lineas\n",
        "with open(exmp2,'w')as writefile:\n",
        "  writefile.write('This is line A\\n')\n",
        "  writefile.write('This is line B\\n')"
      ],
      "metadata": {
        "id": "NhF_BYNV7ILy"
      },
      "execution_count": 3,
      "outputs": []
    },
    {
      "cell_type": "code",
      "source": [
        "#leer el archivo para confirmar lo escrito.\n",
        "with open(exmp2,'r') as testwritefile:\n",
        "  print(testwritefile.read())"
      ],
      "metadata": {
        "id": "3YD-hw1_7PlM",
        "colab": {
          "base_uri": "https://localhost:8080/"
        },
        "outputId": "a77ac74a-68e7-4946-8867-560ba99b7e0a"
      },
      "execution_count": 5,
      "outputs": [
        {
          "output_type": "stream",
          "name": "stdout",
          "text": [
            "This is line A\n",
            "This is line B\n",
            "\n"
          ]
        }
      ]
    },
    {
      "cell_type": "code",
      "source": [
        "#Escribiendo una lista en un archivo.\n",
        "lines=[\"This is line A\\n\",\"This is line B\\n\",\"This is line C\\n\"]\n",
        "lines"
      ],
      "metadata": {
        "id": "Y48bP7WlHID_",
        "outputId": "13734011-a287-49d9-d102-4469dbc0e00c",
        "colab": {
          "base_uri": "https://localhost:8080/"
        }
      },
      "execution_count": 10,
      "outputs": [
        {
          "output_type": "execute_result",
          "data": {
            "text/plain": [
              "['This is line A\\n', 'This is line B\\n', 'This is line C\\n']"
            ]
          },
          "metadata": {},
          "execution_count": 10
        }
      ]
    },
    {
      "cell_type": "code",
      "source": [
        "with open(\"Example2.txt\",'w')as writefile:\n",
        "  for line in lines:\n",
        "    print(line)\n",
        "    writefile.write(line)\n"
      ],
      "metadata": {
        "id": "pYSYtq01Hj7Z",
        "outputId": "35e091a4-c76b-44ba-e104-e23b17160d6e",
        "colab": {
          "base_uri": "https://localhost:8080/"
        }
      },
      "execution_count": 11,
      "outputs": [
        {
          "output_type": "stream",
          "name": "stdout",
          "text": [
            "This is line A\n",
            "\n",
            "This is line B\n",
            "\n",
            "This is line C\n",
            "\n"
          ]
        }
      ]
    },
    {
      "cell_type": "markdown",
      "source": [
        "Es importante mencionar que lo escrito con el modo \"write\" sobre escrbirá lo anteriormente escrito en el archivo. "
      ],
      "metadata": {
        "id": "QWMx6inVJOSr"
      }
    },
    {
      "cell_type": "code",
      "source": [],
      "metadata": {
        "id": "eQavHjuDIrW3"
      },
      "execution_count": null,
      "outputs": []
    }
  ]
}