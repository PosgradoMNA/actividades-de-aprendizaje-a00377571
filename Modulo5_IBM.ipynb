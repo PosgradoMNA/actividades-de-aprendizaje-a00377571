{
  "nbformat": 4,
  "nbformat_minor": 0,
  "metadata": {
    "colab": {
      "name": "assignment01.ipynb",
      "provenance": [],
      "include_colab_link": true
    },
    "kernelspec": {
      "name": "python3",
      "display_name": "Python 3"
    },
    "language_info": {
      "name": "python"
    }
  },
  "cells": [
    {
      "cell_type": "markdown",
      "metadata": {
        "id": "view-in-github",
        "colab_type": "text"
      },
      "source": [
        "<a href=\"https://colab.research.google.com/github/PosgradoMNA/actividades-de-aprendizaje-a00377571/blob/main/Modulo5_IBM.ipynb\" target=\"_parent\"><img src=\"https://colab.research.google.com/assets/colab-badge.svg\" alt=\"Open In Colab\"/></a>"
      ]
    },
    {
      "cell_type": "code",
      "execution_count": null,
      "metadata": {
        "id": "LzUSMM79NR9P",
        "outputId": "0e6cb421-1096-426a-b31a-f61d059def81",
        "colab": {
          "base_uri": "https://localhost:8080/"
        }
      },
      "outputs": [
        {
          "output_type": "stream",
          "name": "stdout",
          "text": [
            "assignment01 for GitJobish03 and edited in git, and 18\n"
          ]
        }
      ],
      "source": [
        "print('assignment01 for GitJobish03 and edited in git, and 18')"
      ]
    },
    {
      "cell_type": "markdown",
      "source": [
        "MARCO ANTONIO ARELLANO HERNÁNDEZ.\n",
        "A00377571 \n",
        "\n",
        "\n",
        "\n",
        "\n",
        "\n",
        "##            **Arreglos Numpy y API's**\n",
        "\n",
        "\n",
        "\n",
        "\n",
        "\n",
        "\n",
        "\n",
        "\n",
        "\n",
        "**MODULO 5**\n"
      ],
      "metadata": {
        "id": "oWUaYDYPGFHx"
      }
    },
    {
      "cell_type": "markdown",
      "source": [
        "# **Laboratorio de Arreglos Numpy de una dimensión.**\n",
        "\n",
        "Objetivos:\n",
        "Importar y usar la libreria \"numpy\" y hacer operaciones con numpy de 1D una dimensión.\n"
      ],
      "metadata": {
        "id": "rr29d50JVnu5"
      }
    },
    {
      "cell_type": "code",
      "source": [
        "#Crear una lista de python.\n",
        "a=[\"0\",1,\"two\",\"3\",4] \n",
        "#podemos accesar a los elementos con los indices y corchetes.\n",
        "print(a[0])\n",
        "print(a[1])\n",
        "print(a[2])\n",
        "print(a[3])\n",
        "print(a[4])\n",
        "\n",
        "#"
      ],
      "metadata": {
        "id": "mxM_WppZPMFx",
        "colab": {
          "base_uri": "https://localhost:8080/"
        },
        "outputId": "0cea38aa-cfba-4cc0-f927-1493c1c71c43"
      },
      "execution_count": 4,
      "outputs": [
        {
          "output_type": "stream",
          "name": "stdout",
          "text": [
            "0\n",
            "1\n",
            "two\n",
            "3\n",
            "4\n"
          ]
        }
      ]
    },
    {
      "cell_type": "markdown",
      "source": [
        "¿Qué es un numpy?\n",
        "Es una librería usada para trabajar con arreglos, algebra linear, transformada de furier y matrices. Un arreglo numpy, es similar a una lista, pero con soporte para python numérico y es un de código abierto. El objeto arreglo en Numpy es llamada \"nDarray\" y provee un gran cantidad de funciones de soporte para trabajar con arreglos \"ndarray\" muy facil.\n",
        "\n",
        "Los arreglos son frecuentemente usados en ciencia de datos, donde la velocidad y recursos son muy importantes.\n",
        "\n",
        "Normalmente la libreria numpy es importada con el alias \"np\".\n",
        "\n"
      ],
      "metadata": {
        "id": "5q9Zog2EXRkJ"
      }
    },
    {
      "cell_type": "code",
      "source": [
        "#Importanto la librería numpy.\n",
        "import numpy as np\n"
      ],
      "metadata": {
        "id": "TsOyHyq5W4s_"
      },
      "execution_count": 5,
      "outputs": []
    },
    {
      "cell_type": "code",
      "source": [
        "# entonces enviamos a un arreglo numpy la lista \"a\".\n",
        "\n",
        "a= np.array([0,1,2,3])\n",
        "print(a) #todos los arreglos numpy deben tener el mismo tipo de elementos.\n"
      ],
      "metadata": {
        "id": "D7TnyWu5aYXw",
        "outputId": "45bc674c-38eb-4acb-bc94-64831e217239",
        "colab": {
          "base_uri": "https://localhost:8080/"
        }
      },
      "execution_count": 7,
      "outputs": [
        {
          "output_type": "stream",
          "name": "stdout",
          "text": [
            "[0 1 2 3]\n"
          ]
        }
      ]
    },
    {
      "cell_type": "code",
      "source": [
        "#así como la lista todos los elementos pueden ser\n",
        "#accesados por el indice en el corchete.\n",
        "a[3]"
      ],
      "metadata": {
        "id": "ifDKQstKawLV",
        "outputId": "4f10cfdb-83d0-4e0f-946e-a219124ead5d",
        "colab": {
          "base_uri": "https://localhost:8080/"
        }
      },
      "execution_count": 9,
      "outputs": [
        {
          "output_type": "execute_result",
          "data": {
            "text/plain": [
              "3"
            ]
          },
          "metadata": {},
          "execution_count": 9
        }
      ]
    },
    {
      "cell_type": "code",
      "source": [
        "# el arreglo es guardado bajo una versión de atributo.\n",
        "print(np.__version__) # esta versión servirá para "
      ],
      "metadata": {
        "id": "O0baQtlYbWki",
        "outputId": "88ecee81-926c-4acf-fe23-7a31dfaa8644",
        "colab": {
          "base_uri": "https://localhost:8080/"
        }
      },
      "execution_count": 10,
      "outputs": [
        {
          "output_type": "stream",
          "name": "stdout",
          "text": [
            "1.21.6\n"
          ]
        }
      ]
    },
    {
      "cell_type": "code",
      "source": [
        "#TYPE. obtener el tipo de archivo en el nparray\n",
        "type(a)"
      ],
      "metadata": {
        "id": "dnacNS_kbv_-",
        "outputId": "2d0d3a70-157e-4585-9361-b3c148cb0848",
        "colab": {
          "base_uri": "https://localhost:8080/"
        }
      },
      "execution_count": 12,
      "outputs": [
        {
          "output_type": "execute_result",
          "data": {
            "text/plain": [
              "numpy.ndarray"
            ]
          },
          "metadata": {},
          "execution_count": 12
        }
      ]
    },
    {
      "cell_type": "code",
      "source": [
        "#para obtener el tipo de los valores guardados en el archivo.\n",
        "a.dtype # se observa que son enteros."
      ],
      "metadata": {
        "id": "2qVI-jCucMgg",
        "outputId": "1ae003af-3de5-4105-85bf-7120cffb3216",
        "colab": {
          "base_uri": "https://localhost:8080/"
        }
      },
      "execution_count": 13,
      "outputs": [
        {
          "output_type": "execute_result",
          "data": {
            "text/plain": [
              "dtype('int64')"
            ]
          },
          "metadata": {},
          "execution_count": 13
        }
      ]
    },
    {
      "cell_type": "code",
      "source": [],
      "metadata": {
        "id": "1J-VcSCTciIV"
      },
      "execution_count": null,
      "outputs": []
    }
  ]
}