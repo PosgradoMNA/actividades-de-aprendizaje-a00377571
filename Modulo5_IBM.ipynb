{
  "nbformat": 4,
  "nbformat_minor": 0,
  "metadata": {
    "colab": {
      "name": "assignment01.ipynb",
      "provenance": [],
      "include_colab_link": true
    },
    "kernelspec": {
      "name": "python3",
      "display_name": "Python 3"
    },
    "language_info": {
      "name": "python"
    }
  },
  "cells": [
    {
      "cell_type": "markdown",
      "metadata": {
        "id": "view-in-github",
        "colab_type": "text"
      },
      "source": [
        "<a href=\"https://colab.research.google.com/github/PosgradoMNA/actividades-de-aprendizaje-a00377571/blob/main/Modulo5_IBM.ipynb\" target=\"_parent\"><img src=\"https://colab.research.google.com/assets/colab-badge.svg\" alt=\"Open In Colab\"/></a>"
      ]
    },
    {
      "cell_type": "code",
      "execution_count": null,
      "metadata": {
        "id": "LzUSMM79NR9P",
        "outputId": "0e6cb421-1096-426a-b31a-f61d059def81",
        "colab": {
          "base_uri": "https://localhost:8080/"
        }
      },
      "outputs": [
        {
          "output_type": "stream",
          "name": "stdout",
          "text": [
            "assignment01 for GitJobish03 and edited in git, and 18\n"
          ]
        }
      ],
      "source": [
        "print('assignment01 for GitJobish03 and edited in git, and 18')"
      ]
    },
    {
      "cell_type": "markdown",
      "source": [
        "MARCO ANTONIO ARELLANO HERNÁNDEZ.\n",
        "A00377571 \n",
        "\n",
        "\n",
        "\n",
        "\n",
        "\n",
        "##            **Arreglos Numpy y API's**\n",
        "\n",
        "\n",
        "\n",
        "\n",
        "\n",
        "\n",
        "\n",
        "\n",
        "\n",
        "**MODULO 5**\n"
      ],
      "metadata": {
        "id": "oWUaYDYPGFHx"
      }
    },
    {
      "cell_type": "markdown",
      "source": [
        "# **Laboratorio de Arreglos Numpy de una dimensión.**\n",
        "\n",
        "Objetivos:\n",
        "Importar y usar la libreria \"numpy\" y hacer operaciones con numpy de 1D una dimensión.\n"
      ],
      "metadata": {
        "id": "rr29d50JVnu5"
      }
    },
    {
      "cell_type": "code",
      "source": [
        "#Crear una lista de python.\n",
        "a=[\"0\",1,\"two\",\"3\",4] \n",
        "#podemos accesar a los elementos con los indices y corchetes.\n",
        "print(a[0])\n",
        "print(a[1])\n",
        "print(a[2])\n",
        "print(a[3])\n",
        "print(a[4])\n",
        "\n",
        "#"
      ],
      "metadata": {
        "id": "mxM_WppZPMFx",
        "colab": {
          "base_uri": "https://localhost:8080/"
        },
        "outputId": "0cea38aa-cfba-4cc0-f927-1493c1c71c43"
      },
      "execution_count": 4,
      "outputs": [
        {
          "output_type": "stream",
          "name": "stdout",
          "text": [
            "0\n",
            "1\n",
            "two\n",
            "3\n",
            "4\n"
          ]
        }
      ]
    },
    {
      "cell_type": "markdown",
      "source": [
        "¿Qué es un numpy?\n",
        "Es una librería usada para trabajar con arreglos, algebra linear, transformada de furier y matrices. Un arreglo numpy, es similar a una lista, pero con soporte para python numérico y es un de código abierto. El objeto arreglo en Numpy es llamada \"nDarray\" y provee un gran cantidad de funciones de soporte para trabajar con arreglos \"ndarray\" muy facil.\n",
        "\n",
        "Los arreglos son frecuentemente usados en ciencia de datos, donde la velocidad y recursos son muy importantes.\n",
        "\n",
        "Normalmente la libreria numpy es importada con el alias \"np\".\n",
        "\n"
      ],
      "metadata": {
        "id": "5q9Zog2EXRkJ"
      }
    },
    {
      "cell_type": "code",
      "source": [
        "#Importanto la librería numpy.\n",
        "import numpy as np\n"
      ],
      "metadata": {
        "id": "TsOyHyq5W4s_"
      },
      "execution_count": 5,
      "outputs": []
    },
    {
      "cell_type": "code",
      "source": [
        "# entonces enviamos a un arreglo numpy la lista \"a\".\n",
        "\n",
        "a= np.array([0,1,2,3])\n",
        "print(a) #todos los arreglos numpy deben tener el mismo tipo de elementos.\n"
      ],
      "metadata": {
        "colab": {
          "base_uri": "https://localhost:8080/"
        },
        "id": "D7TnyWu5aYXw",
        "outputId": "45bc674c-38eb-4acb-bc94-64831e217239"
      },
      "execution_count": 7,
      "outputs": [
        {
          "output_type": "stream",
          "name": "stdout",
          "text": [
            "[0 1 2 3]\n"
          ]
        }
      ]
    },
    {
      "cell_type": "code",
      "source": [
        "#así como la lista todos los elementos pueden ser\n",
        "#accesados por el indice en el corchete.\n",
        "a[3]"
      ],
      "metadata": {
        "colab": {
          "base_uri": "https://localhost:8080/"
        },
        "id": "ifDKQstKawLV",
        "outputId": "4f10cfdb-83d0-4e0f-946e-a219124ead5d"
      },
      "execution_count": 9,
      "outputs": [
        {
          "output_type": "execute_result",
          "data": {
            "text/plain": [
              "3"
            ]
          },
          "metadata": {},
          "execution_count": 9
        }
      ]
    },
    {
      "cell_type": "code",
      "source": [
        "# el arreglo es guardado bajo una versión de atributo.\n",
        "print(np.__version__) # esta versión servirá para "
      ],
      "metadata": {
        "colab": {
          "base_uri": "https://localhost:8080/"
        },
        "id": "O0baQtlYbWki",
        "outputId": "88ecee81-926c-4acf-fe23-7a31dfaa8644"
      },
      "execution_count": 10,
      "outputs": [
        {
          "output_type": "stream",
          "name": "stdout",
          "text": [
            "1.21.6\n"
          ]
        }
      ]
    },
    {
      "cell_type": "code",
      "source": [
        "#TYPE. obtener el tipo de archivo en el nparray\n",
        "type(a)"
      ],
      "metadata": {
        "colab": {
          "base_uri": "https://localhost:8080/"
        },
        "id": "dnacNS_kbv_-",
        "outputId": "2d0d3a70-157e-4585-9361-b3c148cb0848"
      },
      "execution_count": 12,
      "outputs": [
        {
          "output_type": "execute_result",
          "data": {
            "text/plain": [
              "numpy.ndarray"
            ]
          },
          "metadata": {},
          "execution_count": 12
        }
      ]
    },
    {
      "cell_type": "code",
      "source": [
        "#para obtener el tipo de los valores guardados en el archivo.\n",
        "a.dtype # se observa que son enteros."
      ],
      "metadata": {
        "colab": {
          "base_uri": "https://localhost:8080/"
        },
        "id": "2qVI-jCucMgg",
        "outputId": "1ae003af-3de5-4105-85bf-7120cffb3216"
      },
      "execution_count": 13,
      "outputs": [
        {
          "output_type": "execute_result",
          "data": {
            "text/plain": [
              "dtype('int64')"
            ]
          },
          "metadata": {},
          "execution_count": 13
        }
      ]
    },
    {
      "cell_type": "code",
      "source": [
        "#para la siguiente lista obtener el tipo de arreglo y tipo de datos guardados en el arreglo.\n",
        "b=np.array([3.1,11.02,6.2,213.2,5.2])\n"
      ],
      "metadata": {
        "id": "1J-VcSCTciIV"
      },
      "execution_count": 14,
      "outputs": []
    },
    {
      "cell_type": "code",
      "source": [
        "type(b)"
      ],
      "metadata": {
        "colab": {
          "base_uri": "https://localhost:8080/"
        },
        "id": "gKaOjwRedruy",
        "outputId": "733a9e76-45cf-4b02-c5cc-76e62e1232a6"
      },
      "execution_count": 15,
      "outputs": [
        {
          "output_type": "execute_result",
          "data": {
            "text/plain": [
              "numpy.ndarray"
            ]
          },
          "metadata": {},
          "execution_count": 15
        }
      ]
    },
    {
      "cell_type": "code",
      "source": [
        "b.dtype"
      ],
      "metadata": {
        "colab": {
          "base_uri": "https://localhost:8080/"
        },
        "id": "q5j2J6R4du34",
        "outputId": "300142d5-5715-48f9-d650-0d0521aeae58"
      },
      "execution_count": 16,
      "outputs": [
        {
          "output_type": "execute_result",
          "data": {
            "text/plain": [
              "dtype('float64')"
            ]
          },
          "metadata": {},
          "execution_count": 16
        }
      ]
    },
    {
      "cell_type": "markdown",
      "source": [
        "Asignar un valor al arreglo numpy."
      ],
      "metadata": {
        "id": "oMBJziQSd3d8"
      }
    },
    {
      "cell_type": "code",
      "source": [
        "# arreglo numpy\n",
        "c=([20,1,2,3,4])"
      ],
      "metadata": {
        "id": "tM-mG8P9dxc5"
      },
      "execution_count": 17,
      "outputs": []
    },
    {
      "cell_type": "code",
      "source": [
        "c\n"
      ],
      "metadata": {
        "colab": {
          "base_uri": "https://localhost:8080/"
        },
        "id": "nvM63qDieDks",
        "outputId": "c8ab0e1f-9d12-40d4-dbaa-abb334ad9151"
      },
      "execution_count": 18,
      "outputs": [
        {
          "output_type": "execute_result",
          "data": {
            "text/plain": [
              "[20, 1, 2, 3, 4]"
            ]
          },
          "metadata": {},
          "execution_count": 18
        }
      ]
    },
    {
      "cell_type": "code",
      "source": [
        "# cambia el valor de 20 a 100\n",
        "c[0]=100"
      ],
      "metadata": {
        "id": "GHiN7NAUeK7J"
      },
      "execution_count": 19,
      "outputs": []
    },
    {
      "cell_type": "code",
      "source": [
        "c"
      ],
      "metadata": {
        "colab": {
          "base_uri": "https://localhost:8080/"
        },
        "id": "sZswjagzeSmn",
        "outputId": "f7c0d345-e2ce-4132-e88a-fcf7dc0bdab5"
      },
      "execution_count": 20,
      "outputs": [
        {
          "output_type": "execute_result",
          "data": {
            "text/plain": [
              "[100, 1, 2, 3, 4]"
            ]
          },
          "metadata": {},
          "execution_count": 20
        }
      ]
    },
    {
      "cell_type": "markdown",
      "source": [
        "# **Slicing;** significa tomar los elementos de un índice dado y asignarlos a otro numpy array en otro indice.\n"
      ],
      "metadata": {
        "id": "3MXT5rBzl5gN"
      }
    },
    {
      "cell_type": "code",
      "source": [
        "c"
      ],
      "metadata": {
        "colab": {
          "base_uri": "https://localhost:8080/"
        },
        "id": "lk0tua5ZeT1e",
        "outputId": "123e54e1-6b4e-4e2a-f87c-fda9f4584eea"
      },
      "execution_count": 21,
      "outputs": [
        {
          "output_type": "execute_result",
          "data": {
            "text/plain": [
              "[100, 1, 2, 3, 4]"
            ]
          },
          "metadata": {},
          "execution_count": 21
        }
      ]
    },
    {
      "cell_type": "code",
      "source": [
        "d=c[1:4]"
      ],
      "metadata": {
        "id": "8HJrla4EmpbD"
      },
      "execution_count": 22,
      "outputs": []
    },
    {
      "cell_type": "code",
      "source": [
        "d"
      ],
      "metadata": {
        "id": "y-1DWT6DmwmO",
        "outputId": "684a4af3-ba52-4ef6-9cb2-cfdb784fa4e0",
        "colab": {
          "base_uri": "https://localhost:8080/"
        }
      },
      "execution_count": 23,
      "outputs": [
        {
          "output_type": "execute_result",
          "data": {
            "text/plain": [
              "[1, 2, 3]"
            ]
          },
          "metadata": {},
          "execution_count": 23
        }
      ]
    },
    {
      "cell_type": "code",
      "source": [
        "#fija el valor del 4to y 5to elemento en 300 y 400.\n",
        "c[3:5]=300,400\n",
        "c"
      ],
      "metadata": {
        "id": "YXrWKCkOmxH-",
        "outputId": "fb4c828f-226a-411b-f8b2-588aaefcd55a",
        "colab": {
          "base_uri": "https://localhost:8080/"
        }
      },
      "execution_count": 25,
      "outputs": [
        {
          "output_type": "execute_result",
          "data": {
            "text/plain": [
              "[100, 1, 2, 300, 400]"
            ]
          },
          "metadata": {},
          "execution_count": 25
        }
      ]
    },
    {
      "cell_type": "code",
      "source": [
        "# STEPS Slicing, podemos definir pasos a cortar [start:end:step]\n",
        "arr=np.array([1,2,3,4,5,6,7])\n",
        "print(arr[1:5:2])"
      ],
      "metadata": {
        "id": "gtSxkKmjnDCa",
        "outputId": "9d739324-b9c3-476d-be65-b6dece03f28d",
        "colab": {
          "base_uri": "https://localhost:8080/"
        }
      },
      "execution_count": 26,
      "outputs": [
        {
          "output_type": "stream",
          "name": "stdout",
          "text": [
            "[2 4]\n"
          ]
        }
      ]
    },
    {
      "cell_type": "code",
      "source": [
        "#si no escribe inicio se considera 0.\n",
        "arr[:4]\n"
      ],
      "metadata": {
        "id": "Spa9egKOoNEh",
        "outputId": "8fa7c5b9-5897-49fc-f84a-39af0a92845c",
        "colab": {
          "base_uri": "https://localhost:8080/"
        }
      },
      "execution_count": 31,
      "outputs": [
        {
          "output_type": "execute_result",
          "data": {
            "text/plain": [
              "array([1, 2, 3, 4])"
            ]
          },
          "metadata": {},
          "execution_count": 31
        }
      ]
    },
    {
      "cell_type": "code",
      "source": [
        "#si no escribes final se considera todos los demas.\n",
        "arr[4:]\n"
      ],
      "metadata": {
        "id": "MxHpPD2-ntYr",
        "outputId": "a3b65e50-1188-4041-c599-b79ee5778491",
        "colab": {
          "base_uri": "https://localhost:8080/"
        }
      },
      "execution_count": 32,
      "outputs": [
        {
          "output_type": "execute_result",
          "data": {
            "text/plain": [
              "array([5, 6, 7])"
            ]
          },
          "metadata": {},
          "execution_count": 32
        }
      ]
    },
    {
      "cell_type": "code",
      "source": [
        "#si no se da paso se considera 1.\n",
        "arr[1:5:]"
      ],
      "metadata": {
        "id": "WsBX_09Podru",
        "outputId": "3b66b528-c760-4e89-c036-d242cb5405b5",
        "colab": {
          "base_uri": "https://localhost:8080/"
        }
      },
      "execution_count": 33,
      "outputs": [
        {
          "output_type": "execute_result",
          "data": {
            "text/plain": [
              "array([2, 3, 4, 5])"
            ]
          },
          "metadata": {},
          "execution_count": 33
        }
      ]
    },
    {
      "cell_type": "code",
      "source": [],
      "metadata": {
        "id": "UvkZZGPko3kL"
      },
      "execution_count": null,
      "outputs": []
    }
  ]
}