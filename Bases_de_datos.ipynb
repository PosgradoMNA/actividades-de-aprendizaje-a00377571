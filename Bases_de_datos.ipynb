{
  "nbformat": 4,
  "nbformat_minor": 0,
  "metadata": {
    "colab": {
      "name": "assignment01.ipynb",
      "provenance": [],
      "include_colab_link": true
    },
    "kernelspec": {
      "name": "python3",
      "display_name": "Python 3"
    },
    "language_info": {
      "name": "python"
    }
  },
  "cells": [
    {
      "cell_type": "markdown",
      "metadata": {
        "id": "view-in-github",
        "colab_type": "text"
      },
      "source": [
        "<a href=\"https://colab.research.google.com/github/PosgradoMNA/actividades-de-aprendizaje-a00377571/blob/main/Bases_de_datos.ipynb\" target=\"_parent\"><img src=\"https://colab.research.google.com/assets/colab-badge.svg\" alt=\"Open In Colab\"/></a>"
      ]
    },
    {
      "cell_type": "code",
      "execution_count": null,
      "metadata": {
        "id": "LzUSMM79NR9P",
        "outputId": "0e6cb421-1096-426a-b31a-f61d059def81",
        "colab": {
          "base_uri": "https://localhost:8080/"
        }
      },
      "outputs": [
        {
          "output_type": "stream",
          "name": "stdout",
          "text": [
            "assignment01 for GitJobish03 and edited in git, and 18\n"
          ]
        }
      ],
      "source": [
        "print('assignment01 for GitJobish03 and edited in git, and 18')"
      ]
    },
    {
      "cell_type": "markdown",
      "source": [
        "**SEMANA 3- Actividad 1.**\n",
        "\n",
        "                    **\"Fundamentos de bases de datos** \n",
        "                        **\"Selección y limpieza\"**\n",
        "                       **\"Preparación de datos.\"**\n",
        "\n",
        "\n",
        "Alumno: **MARCO ANTONIO ARELLANO HERNÁNDEZ.**\n",
        "\n",
        "Matrícula: **A00377571**\n",
        "\n",
        "Profesor: **Dr. Jobish Vallikavungal Devassia**\n",
        "\n",
        "Matería: **Ciencia y analítica de datos.**\n",
        "\n",
        "Fecha: **04 de octubre 2022.**\n",
        "\n",
        "\n",
        "Desarrollo:\n",
        "\n",
        " 1.- Fundamentos bases de datos:\n",
        "\n",
        " \n",
        "\n",
        "\n",
        "\n"
      ],
      "metadata": {
        "id": "oWUaYDYPGFHx"
      }
    },
    {
      "cell_type": "code",
      "source": [],
      "metadata": {
        "id": "mxM_WppZPMFx"
      },
      "execution_count": null,
      "outputs": []
    }
  ]
}