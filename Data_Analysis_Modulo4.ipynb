{
  "nbformat": 4,
  "nbformat_minor": 0,
  "metadata": {
    "colab": {
      "name": "assignment01.ipynb",
      "provenance": [],
      "include_colab_link": true
    },
    "kernelspec": {
      "name": "python3",
      "display_name": "Python 3"
    },
    "language_info": {
      "name": "python"
    }
  },
  "cells": [
    {
      "cell_type": "markdown",
      "metadata": {
        "id": "view-in-github",
        "colab_type": "text"
      },
      "source": [
        "<a href=\"https://colab.research.google.com/github/PosgradoMNA/actividades-de-aprendizaje-a00377571/blob/main/Data_Analysis_Modulo4.ipynb\" target=\"_parent\"><img src=\"https://colab.research.google.com/assets/colab-badge.svg\" alt=\"Open In Colab\"/></a>"
      ]
    },
    {
      "cell_type": "code",
      "execution_count": 1,
      "metadata": {
        "id": "LzUSMM79NR9P",
        "outputId": "d3877878-41f2-406b-e626-d3e9647d0af0",
        "colab": {
          "base_uri": "https://localhost:8080/"
        }
      },
      "outputs": [
        {
          "output_type": "stream",
          "name": "stdout",
          "text": [
            "assignment01 for GitJobish03 and edited in git, and 18\n"
          ]
        }
      ],
      "source": [
        "print('assignment01 for GitJobish03 and edited in git, and 18')"
      ]
    },
    {
      "cell_type": "markdown",
      "source": [
        "MARCO ANTONIO ARELLANO HERNÁNDEZ.\n",
        "A00377571\n",
        "\n",
        "## **Desarrollo de modelos de predicción.**\n",
        "\n",
        "==**=============MODULO 4===============**\n",
        "\n",
        "#    \"Análisis de datos con Python.\"\n",
        "\n",
        "El objetivo de éste modulo es desarrollar modelos de predicción.\n",
        "Para el caso del conjunto de datos que estamos desarrollando, deseamos estimar el valor de venta de un automovil en base a datos históricos usando variables y características. \n",
        "\n",
        "El resultado será un estimado de lo que debería ser el costo en referencia a sus características.\n",
        "\n",
        "-Deacuerdo a la practica, deseamos responder algunas preguntas:\n",
        "  \n",
        "  1.- Ésta el vendedor ofrecienciendo un valor justo por auto?\n",
        "  \n",
        "  2.- Saber si: ¿coloqué un calor justa a mi auto?\n",
        "\n",
        "\n",
        "En **Análisis de datos** utilizamos el dasarrollo de modelos para ayudarnos a predecir futuras observaciones de los datos que tenemos.\n",
        "\n",
        "Un modelo nos ayuda a entender la precisa relación entre diferentes variables y cómo éstas variables son usadas para predecir el resultado.\n",
        " "
      ],
      "metadata": {
        "id": "oWUaYDYPGFHx"
      }
    },
    {
      "cell_type": "code",
      "source": [
        "import pandas as pd\n",
        "import numpy as np\n",
        "import matplotlib.pyplot as plt\n"
      ],
      "metadata": {
        "id": "mxM_WppZPMFx"
      },
      "execution_count": 2,
      "outputs": []
    },
    {
      "cell_type": "code",
      "source": [
        "path = 'https://cf-courses-data.s3.us.cloud-object-storage.appdomain.cloud/IBMDeveloperSkillsNetwork-DA0101EN-SkillsNetwork/labs/Data%20files/automobileEDA.csv'\n"
      ],
      "metadata": {
        "id": "xl06qR-xpw1O"
      },
      "execution_count": 3,
      "outputs": []
    },
    {
      "cell_type": "code",
      "source": [
        "df = pd.read_csv(path)\n",
        "df.head()"
      ],
      "metadata": {
        "colab": {
          "base_uri": "https://localhost:8080/",
          "height": 386
        },
        "id": "sQgBpL7WpwpQ",
        "outputId": "3133fc4b-c89e-477a-e0a7-4eecc689e7c7"
      },
      "execution_count": 4,
      "outputs": [
        {
          "output_type": "execute_result",
          "data": {
            "text/plain": [
              "   symboling  normalized-losses         make aspiration num-of-doors  \\\n",
              "0          3                122  alfa-romero        std          two   \n",
              "1          3                122  alfa-romero        std          two   \n",
              "2          1                122  alfa-romero        std          two   \n",
              "3          2                164         audi        std         four   \n",
              "4          2                164         audi        std         four   \n",
              "\n",
              "    body-style drive-wheels engine-location  wheel-base    length  ...  \\\n",
              "0  convertible          rwd           front        88.6  0.811148  ...   \n",
              "1  convertible          rwd           front        88.6  0.811148  ...   \n",
              "2    hatchback          rwd           front        94.5  0.822681  ...   \n",
              "3        sedan          fwd           front        99.8  0.848630  ...   \n",
              "4        sedan          4wd           front        99.4  0.848630  ...   \n",
              "\n",
              "   compression-ratio  horsepower  peak-rpm city-mpg highway-mpg    price  \\\n",
              "0                9.0       111.0    5000.0       21          27  13495.0   \n",
              "1                9.0       111.0    5000.0       21          27  16500.0   \n",
              "2                9.0       154.0    5000.0       19          26  16500.0   \n",
              "3               10.0       102.0    5500.0       24          30  13950.0   \n",
              "4                8.0       115.0    5500.0       18          22  17450.0   \n",
              "\n",
              "  city-L/100km  horsepower-binned  diesel  gas  \n",
              "0    11.190476             Medium       0    1  \n",
              "1    11.190476             Medium       0    1  \n",
              "2    12.368421             Medium       0    1  \n",
              "3     9.791667             Medium       0    1  \n",
              "4    13.055556             Medium       0    1  \n",
              "\n",
              "[5 rows x 29 columns]"
            ],
            "text/html": [
              "\n",
              "  <div id=\"df-e015f4b7-e806-42d7-9e36-9b921e5357f7\">\n",
              "    <div class=\"colab-df-container\">\n",
              "      <div>\n",
              "<style scoped>\n",
              "    .dataframe tbody tr th:only-of-type {\n",
              "        vertical-align: middle;\n",
              "    }\n",
              "\n",
              "    .dataframe tbody tr th {\n",
              "        vertical-align: top;\n",
              "    }\n",
              "\n",
              "    .dataframe thead th {\n",
              "        text-align: right;\n",
              "    }\n",
              "</style>\n",
              "<table border=\"1\" class=\"dataframe\">\n",
              "  <thead>\n",
              "    <tr style=\"text-align: right;\">\n",
              "      <th></th>\n",
              "      <th>symboling</th>\n",
              "      <th>normalized-losses</th>\n",
              "      <th>make</th>\n",
              "      <th>aspiration</th>\n",
              "      <th>num-of-doors</th>\n",
              "      <th>body-style</th>\n",
              "      <th>drive-wheels</th>\n",
              "      <th>engine-location</th>\n",
              "      <th>wheel-base</th>\n",
              "      <th>length</th>\n",
              "      <th>...</th>\n",
              "      <th>compression-ratio</th>\n",
              "      <th>horsepower</th>\n",
              "      <th>peak-rpm</th>\n",
              "      <th>city-mpg</th>\n",
              "      <th>highway-mpg</th>\n",
              "      <th>price</th>\n",
              "      <th>city-L/100km</th>\n",
              "      <th>horsepower-binned</th>\n",
              "      <th>diesel</th>\n",
              "      <th>gas</th>\n",
              "    </tr>\n",
              "  </thead>\n",
              "  <tbody>\n",
              "    <tr>\n",
              "      <th>0</th>\n",
              "      <td>3</td>\n",
              "      <td>122</td>\n",
              "      <td>alfa-romero</td>\n",
              "      <td>std</td>\n",
              "      <td>two</td>\n",
              "      <td>convertible</td>\n",
              "      <td>rwd</td>\n",
              "      <td>front</td>\n",
              "      <td>88.6</td>\n",
              "      <td>0.811148</td>\n",
              "      <td>...</td>\n",
              "      <td>9.0</td>\n",
              "      <td>111.0</td>\n",
              "      <td>5000.0</td>\n",
              "      <td>21</td>\n",
              "      <td>27</td>\n",
              "      <td>13495.0</td>\n",
              "      <td>11.190476</td>\n",
              "      <td>Medium</td>\n",
              "      <td>0</td>\n",
              "      <td>1</td>\n",
              "    </tr>\n",
              "    <tr>\n",
              "      <th>1</th>\n",
              "      <td>3</td>\n",
              "      <td>122</td>\n",
              "      <td>alfa-romero</td>\n",
              "      <td>std</td>\n",
              "      <td>two</td>\n",
              "      <td>convertible</td>\n",
              "      <td>rwd</td>\n",
              "      <td>front</td>\n",
              "      <td>88.6</td>\n",
              "      <td>0.811148</td>\n",
              "      <td>...</td>\n",
              "      <td>9.0</td>\n",
              "      <td>111.0</td>\n",
              "      <td>5000.0</td>\n",
              "      <td>21</td>\n",
              "      <td>27</td>\n",
              "      <td>16500.0</td>\n",
              "      <td>11.190476</td>\n",
              "      <td>Medium</td>\n",
              "      <td>0</td>\n",
              "      <td>1</td>\n",
              "    </tr>\n",
              "    <tr>\n",
              "      <th>2</th>\n",
              "      <td>1</td>\n",
              "      <td>122</td>\n",
              "      <td>alfa-romero</td>\n",
              "      <td>std</td>\n",
              "      <td>two</td>\n",
              "      <td>hatchback</td>\n",
              "      <td>rwd</td>\n",
              "      <td>front</td>\n",
              "      <td>94.5</td>\n",
              "      <td>0.822681</td>\n",
              "      <td>...</td>\n",
              "      <td>9.0</td>\n",
              "      <td>154.0</td>\n",
              "      <td>5000.0</td>\n",
              "      <td>19</td>\n",
              "      <td>26</td>\n",
              "      <td>16500.0</td>\n",
              "      <td>12.368421</td>\n",
              "      <td>Medium</td>\n",
              "      <td>0</td>\n",
              "      <td>1</td>\n",
              "    </tr>\n",
              "    <tr>\n",
              "      <th>3</th>\n",
              "      <td>2</td>\n",
              "      <td>164</td>\n",
              "      <td>audi</td>\n",
              "      <td>std</td>\n",
              "      <td>four</td>\n",
              "      <td>sedan</td>\n",
              "      <td>fwd</td>\n",
              "      <td>front</td>\n",
              "      <td>99.8</td>\n",
              "      <td>0.848630</td>\n",
              "      <td>...</td>\n",
              "      <td>10.0</td>\n",
              "      <td>102.0</td>\n",
              "      <td>5500.0</td>\n",
              "      <td>24</td>\n",
              "      <td>30</td>\n",
              "      <td>13950.0</td>\n",
              "      <td>9.791667</td>\n",
              "      <td>Medium</td>\n",
              "      <td>0</td>\n",
              "      <td>1</td>\n",
              "    </tr>\n",
              "    <tr>\n",
              "      <th>4</th>\n",
              "      <td>2</td>\n",
              "      <td>164</td>\n",
              "      <td>audi</td>\n",
              "      <td>std</td>\n",
              "      <td>four</td>\n",
              "      <td>sedan</td>\n",
              "      <td>4wd</td>\n",
              "      <td>front</td>\n",
              "      <td>99.4</td>\n",
              "      <td>0.848630</td>\n",
              "      <td>...</td>\n",
              "      <td>8.0</td>\n",
              "      <td>115.0</td>\n",
              "      <td>5500.0</td>\n",
              "      <td>18</td>\n",
              "      <td>22</td>\n",
              "      <td>17450.0</td>\n",
              "      <td>13.055556</td>\n",
              "      <td>Medium</td>\n",
              "      <td>0</td>\n",
              "      <td>1</td>\n",
              "    </tr>\n",
              "  </tbody>\n",
              "</table>\n",
              "<p>5 rows × 29 columns</p>\n",
              "</div>\n",
              "      <button class=\"colab-df-convert\" onclick=\"convertToInteractive('df-e015f4b7-e806-42d7-9e36-9b921e5357f7')\"\n",
              "              title=\"Convert this dataframe to an interactive table.\"\n",
              "              style=\"display:none;\">\n",
              "        \n",
              "  <svg xmlns=\"http://www.w3.org/2000/svg\" height=\"24px\"viewBox=\"0 0 24 24\"\n",
              "       width=\"24px\">\n",
              "    <path d=\"M0 0h24v24H0V0z\" fill=\"none\"/>\n",
              "    <path d=\"M18.56 5.44l.94 2.06.94-2.06 2.06-.94-2.06-.94-.94-2.06-.94 2.06-2.06.94zm-11 1L8.5 8.5l.94-2.06 2.06-.94-2.06-.94L8.5 2.5l-.94 2.06-2.06.94zm10 10l.94 2.06.94-2.06 2.06-.94-2.06-.94-.94-2.06-.94 2.06-2.06.94z\"/><path d=\"M17.41 7.96l-1.37-1.37c-.4-.4-.92-.59-1.43-.59-.52 0-1.04.2-1.43.59L10.3 9.45l-7.72 7.72c-.78.78-.78 2.05 0 2.83L4 21.41c.39.39.9.59 1.41.59.51 0 1.02-.2 1.41-.59l7.78-7.78 2.81-2.81c.8-.78.8-2.07 0-2.86zM5.41 20L4 18.59l7.72-7.72 1.47 1.35L5.41 20z\"/>\n",
              "  </svg>\n",
              "      </button>\n",
              "      \n",
              "  <style>\n",
              "    .colab-df-container {\n",
              "      display:flex;\n",
              "      flex-wrap:wrap;\n",
              "      gap: 12px;\n",
              "    }\n",
              "\n",
              "    .colab-df-convert {\n",
              "      background-color: #E8F0FE;\n",
              "      border: none;\n",
              "      border-radius: 50%;\n",
              "      cursor: pointer;\n",
              "      display: none;\n",
              "      fill: #1967D2;\n",
              "      height: 32px;\n",
              "      padding: 0 0 0 0;\n",
              "      width: 32px;\n",
              "    }\n",
              "\n",
              "    .colab-df-convert:hover {\n",
              "      background-color: #E2EBFA;\n",
              "      box-shadow: 0px 1px 2px rgba(60, 64, 67, 0.3), 0px 1px 3px 1px rgba(60, 64, 67, 0.15);\n",
              "      fill: #174EA6;\n",
              "    }\n",
              "\n",
              "    [theme=dark] .colab-df-convert {\n",
              "      background-color: #3B4455;\n",
              "      fill: #D2E3FC;\n",
              "    }\n",
              "\n",
              "    [theme=dark] .colab-df-convert:hover {\n",
              "      background-color: #434B5C;\n",
              "      box-shadow: 0px 1px 3px 1px rgba(0, 0, 0, 0.15);\n",
              "      filter: drop-shadow(0px 1px 2px rgba(0, 0, 0, 0.3));\n",
              "      fill: #FFFFFF;\n",
              "    }\n",
              "  </style>\n",
              "\n",
              "      <script>\n",
              "        const buttonEl =\n",
              "          document.querySelector('#df-e015f4b7-e806-42d7-9e36-9b921e5357f7 button.colab-df-convert');\n",
              "        buttonEl.style.display =\n",
              "          google.colab.kernel.accessAllowed ? 'block' : 'none';\n",
              "\n",
              "        async function convertToInteractive(key) {\n",
              "          const element = document.querySelector('#df-e015f4b7-e806-42d7-9e36-9b921e5357f7');\n",
              "          const dataTable =\n",
              "            await google.colab.kernel.invokeFunction('convertToInteractive',\n",
              "                                                     [key], {});\n",
              "          if (!dataTable) return;\n",
              "\n",
              "          const docLinkHtml = 'Like what you see? Visit the ' +\n",
              "            '<a target=\"_blank\" href=https://colab.research.google.com/notebooks/data_table.ipynb>data table notebook</a>'\n",
              "            + ' to learn more about interactive tables.';\n",
              "          element.innerHTML = '';\n",
              "          dataTable['output_type'] = 'display_data';\n",
              "          await google.colab.output.renderOutput(dataTable, element);\n",
              "          const docLink = document.createElement('div');\n",
              "          docLink.innerHTML = docLinkHtml;\n",
              "          element.appendChild(docLink);\n",
              "        }\n",
              "      </script>\n",
              "    </div>\n",
              "  </div>\n",
              "  "
            ]
          },
          "metadata": {},
          "execution_count": 4
        }
      ]
    },
    {
      "cell_type": "markdown",
      "source": [
        "#El conjunto de datos anteriores ya se encuentra limpio y normalizado.\n"
      ],
      "metadata": {
        "id": "MHv3-o6wqK-m"
      }
    },
    {
      "cell_type": "markdown",
      "source": [
        "#**1.- Regresión lineal y múltiple regresión lineal.**\n",
        "\n",
        "\n",
        "Uno de los ejemplos de modelos más usados y sencillos es el de **regresión lineal**.\n",
        "\n",
        "Es un método que nos ayuda a entender la relación entre dos variables.\n",
        "\n",
        "\n",
        "*   El predictor / varible independiente(X).\n",
        "*   La respuesta / variable dependiente (la que deseamos predecir)(Y)\n",
        "\n",
        "El resultado de la regresión lineal es una función lineal que predice la respuesta( la variable dependiente), como una función de una variable predictor(variable independiente).\n",
        "\n",
        " Y= Variable de Repuesta.\n",
        " \n",
        " X= Variables Predictoras.\n",
        "\n",
        " La función lineal está dada de la siguiente manera:\n",
        "\n",
        "      Y=a+bX\n",
        "\n"
      ],
      "metadata": {
        "id": "jxGM3TscqWuW"
      }
    },
    {
      "cell_type": "code",
      "source": [
        "#llamado de la librería que tienen cargados modelos predictivos.\n",
        "\n",
        "from sklearn.linear_model import LinearRegression"
      ],
      "metadata": {
        "id": "EMXOAeEBqC37"
      },
      "execution_count": 5,
      "outputs": []
    },
    {
      "cell_type": "code",
      "source": [
        "# creación del objeto\n",
        "lm = LinearRegression()\n",
        "lm"
      ],
      "metadata": {
        "colab": {
          "base_uri": "https://localhost:8080/"
        },
        "id": "IgGj0RwxsrzL",
        "outputId": "67e0f584-75c5-46e2-b297-3464f5eef410"
      },
      "execution_count": 6,
      "outputs": [
        {
          "output_type": "execute_result",
          "data": {
            "text/plain": [
              "LinearRegression()"
            ]
          },
          "metadata": {},
          "execution_count": 6
        }
      ]
    },
    {
      "cell_type": "markdown",
      "source": [
        "En el siguiente ejemplo veremos como el atributo \"Millas por galon en carretera\" o 'highwaty-mpg' podría ayudarnos a predecir el precio del auto.\n",
        "\n"
      ],
      "metadata": {
        "id": "dX1ZSJwruaDP"
      }
    },
    {
      "cell_type": "code",
      "source": [
        "X = df[['highway-mpg']]\n",
        "print(X)\n",
        "Y = df['price']\n",
        "print(Y)"
      ],
      "metadata": {
        "colab": {
          "base_uri": "https://localhost:8080/"
        },
        "id": "7edEpSHqs5dN",
        "outputId": "72e613e9-4203-44bf-8d7c-fb4f2cca633b"
      },
      "execution_count": 7,
      "outputs": [
        {
          "output_type": "stream",
          "name": "stdout",
          "text": [
            "     highway-mpg\n",
            "0             27\n",
            "1             27\n",
            "2             26\n",
            "3             30\n",
            "4             22\n",
            "..           ...\n",
            "196           28\n",
            "197           25\n",
            "198           23\n",
            "199           27\n",
            "200           25\n",
            "\n",
            "[201 rows x 1 columns]\n",
            "0      13495.0\n",
            "1      16500.0\n",
            "2      16500.0\n",
            "3      13950.0\n",
            "4      17450.0\n",
            "        ...   \n",
            "196    16845.0\n",
            "197    19045.0\n",
            "198    21485.0\n",
            "199    22470.0\n",
            "200    22625.0\n",
            "Name: price, Length: 201, dtype: float64\n"
          ]
        }
      ]
    },
    {
      "cell_type": "markdown",
      "source": [
        "Ajusto el modelo usando 'higway-mpg'"
      ],
      "metadata": {
        "id": "LNL0xUBHu07H"
      }
    },
    {
      "cell_type": "code",
      "source": [
        "lm.fit(X,Y)"
      ],
      "metadata": {
        "colab": {
          "base_uri": "https://localhost:8080/"
        },
        "id": "e6XCbPCEs7gW",
        "outputId": "d3f71579-325a-4f95-ab46-ee61927c339f"
      },
      "execution_count": 8,
      "outputs": [
        {
          "output_type": "execute_result",
          "data": {
            "text/plain": [
              "LinearRegression()"
            ]
          },
          "metadata": {},
          "execution_count": 8
        }
      ]
    },
    {
      "cell_type": "markdown",
      "source": [
        "# Ahora se muestra la predición o salida, con 'Yhat':"
      ],
      "metadata": {
        "id": "V4QwZXjyvhot"
      }
    },
    {
      "cell_type": "code",
      "source": [
        "Yhat=lm.predict(X)\n",
        "Yhat[0:5]"
      ],
      "metadata": {
        "colab": {
          "base_uri": "https://localhost:8080/"
        },
        "id": "msnkEV3lu_cI",
        "outputId": "460af33a-c438-4611-e993-6898cb8f300c"
      },
      "execution_count": 9,
      "outputs": [
        {
          "output_type": "execute_result",
          "data": {
            "text/plain": [
              "array([16236.50464347, 16236.50464347, 17058.23802179, 13771.3045085 ,\n",
              "       20345.17153508])"
            ]
          },
          "metadata": {},
          "execution_count": 9
        }
      ]
    },
    {
      "cell_type": "markdown",
      "source": [
        "# #¿Cuál es el valor que intercepta es decir el valor de (a) la formula lineal?"
      ],
      "metadata": {
        "id": "xff3PxiTwDje"
      }
    },
    {
      "cell_type": "code",
      "source": [
        "lm.intercept_"
      ],
      "metadata": {
        "colab": {
          "base_uri": "https://localhost:8080/"
        },
        "id": "emeNMft0vwD0",
        "outputId": "dd788c70-5048-4821-d9b5-a77e3379581e"
      },
      "execution_count": 10,
      "outputs": [
        {
          "output_type": "execute_result",
          "data": {
            "text/plain": [
              "38423.3058581574"
            ]
          },
          "metadata": {},
          "execution_count": 10
        }
      ]
    },
    {
      "cell_type": "markdown",
      "source": [
        "#¿Cuál es el valor del a pendiente, es decir el valor de (b) la formula lineal?"
      ],
      "metadata": {
        "id": "cOhPYQ1dwUdk"
      }
    },
    {
      "cell_type": "code",
      "source": [
        "lm.coef_"
      ],
      "metadata": {
        "colab": {
          "base_uri": "https://localhost:8080/"
        },
        "id": "WNu0tUkawPgs",
        "outputId": "aa865082-3dfa-4561-ca6b-22e914b014ea"
      },
      "execution_count": 11,
      "outputs": [
        {
          "output_type": "execute_result",
          "data": {
            "text/plain": [
              "array([-821.73337832])"
            ]
          },
          "metadata": {},
          "execution_count": 11
        }
      ]
    },
    {
      "cell_type": "markdown",
      "source": [
        "#¿Cuál es el modelo lineal estimado que obtenemos?\n",
        "\n",
        "Como vimos anteriormente:\n",
        "  \n",
        "       \n",
        "        Yhat = a+bX\n",
        "\n",
        "\n",
        "Llenando los valores en la formula tenemos.\n",
        "\n",
        "       \n",
        "       Yhat= 38423.3058581574 + (-821.73337832 * higway-mpg )\n",
        "\n",
        "\n"
      ],
      "metadata": {
        "id": "3yD8pkJbw3Vr"
      }
    },
    {
      "cell_type": "markdown",
      "source": [
        "# Ahora crear un objeto de regresión lineal llamado lm1 para el atributo 'engine-size' variable independiente/predictora y 'price' como variable respuesta."
      ],
      "metadata": {
        "id": "8G2xJk5Bx_Ia"
      }
    },
    {
      "cell_type": "code",
      "source": [
        "lm1 = LinearRegression()\n",
        "lm1\n",
        "lm1.fit(df[['engine-size']], df[['price']])\n",
        "lm1\n"
      ],
      "metadata": {
        "colab": {
          "base_uri": "https://localhost:8080/"
        },
        "id": "AFzslAHxwiow",
        "outputId": "1f246430-7837-4d80-ef24-4f499be5c0d5"
      },
      "execution_count": 12,
      "outputs": [
        {
          "output_type": "execute_result",
          "data": {
            "text/plain": [
              "LinearRegression()"
            ]
          },
          "metadata": {},
          "execution_count": 12
        }
      ]
    },
    {
      "cell_type": "markdown",
      "source": [
        "Encuentra la pendiente(b) y variable que intercepta(a)."
      ],
      "metadata": {
        "id": "gxnOlW3ByiZP"
      }
    },
    {
      "cell_type": "code",
      "source": [
        "lm1.intercept_"
      ],
      "metadata": {
        "colab": {
          "base_uri": "https://localhost:8080/"
        },
        "id": "XN4D4wldydd8",
        "outputId": "e2159fce-01b8-4293-e1ce-10148295cf16"
      },
      "execution_count": 13,
      "outputs": [
        {
          "output_type": "execute_result",
          "data": {
            "text/plain": [
              "array([-7963.33890628])"
            ]
          },
          "metadata": {},
          "execution_count": 13
        }
      ]
    },
    {
      "cell_type": "code",
      "source": [
        "lm1.coef_"
      ],
      "metadata": {
        "colab": {
          "base_uri": "https://localhost:8080/"
        },
        "id": "emtoTVUly0GB",
        "outputId": "5c16e6e4-b9a2-471e-d769-06ac5cb64550"
      },
      "execution_count": 14,
      "outputs": [
        {
          "output_type": "execute_result",
          "data": {
            "text/plain": [
              "array([[166.86001569]])"
            ]
          },
          "metadata": {},
          "execution_count": 14
        }
      ]
    },
    {
      "cell_type": "markdown",
      "source": [
        "#¿cual es la ecuación de la linea de predicción?\n",
        "\n",
        "Como vimos anteriormente:\n",
        "  \n",
        "       \n",
        "        Yhat = a+bX\n",
        "\n",
        "\n",
        "Llenando los valores en la formula tenemos.\n",
        "\n",
        "       \n",
        "       Yhat= -7963.33890628 + (166.86001569 * engine-size )\n",
        "\n"
      ],
      "metadata": {
        "id": "0oJZv-6GzMq4"
      }
    },
    {
      "cell_type": "code",
      "source": [
        "Yhat=-7963.34 + 166.86*X\n",
        "\n",
        "Price=-7963.34 + 166.86*df['engine-size']"
      ],
      "metadata": {
        "id": "MiB5TTYszL5L"
      },
      "execution_count": 15,
      "outputs": []
    },
    {
      "cell_type": "markdown",
      "source": [
        "#**2.- Evaluación visual del modelo de predicción de \"Regresión Lineal\".**\n",
        "\n",
        "Ahora que tenemos diferentes modelos, ¿Cómo podemos evaluarlos y escoger el mejor de ellos?\n",
        "\n",
        "Una camino es usando la visualización.\n",
        "\n"
      ],
      "metadata": {
        "id": "cgyWaJ0t0Vth"
      }
    },
    {
      "cell_type": "code",
      "source": [
        "from ast import increment_lineno\n",
        "# importar la librerías y paquetes de seaborn.\n",
        "import seaborn as sns\n",
        "%matplotlib inline"
      ],
      "metadata": {
        "id": "M0bIkxBTy2rZ"
      },
      "execution_count": 16,
      "outputs": []
    },
    {
      "cell_type": "markdown",
      "source": [
        "#Gráfica de regresión.\n",
        "\n",
        "Cuando tenemos una regresión simple, un excelente camino para visualizar el ajuste de nuestro modelo es realizando una gráfica de regresión."
      ],
      "metadata": {
        "id": "BXZrHUpg1Z60"
      }
    },
    {
      "cell_type": "code",
      "source": [
        "width = 12\n",
        "height = 10\n",
        "plt.figure(figsize=(width, height))\n",
        "sns.regplot(x=\"highway-mpg\", y=\"price\", data=df)\n",
        "plt.ylim(0,)"
      ],
      "metadata": {
        "colab": {
          "base_uri": "https://localhost:8080/",
          "height": 623
        },
        "id": "CRVuP4Dw1Unz",
        "outputId": "45e44b85-4fde-4d0b-8d73-d1e103abf8a4"
      },
      "execution_count": 17,
      "outputs": [
        {
          "output_type": "execute_result",
          "data": {
            "text/plain": [
              "(0.0, 48172.59594622758)"
            ]
          },
          "metadata": {},
          "execution_count": 17
        },
        {
          "output_type": "display_data",
          "data": {
            "text/plain": [
              "<Figure size 864x720 with 1 Axes>"
            ],
            "image/png": "[encoded data removed]"
          },
          "metadata": {
            "needs_background": "light"
          }
        }
      ]
    },
    {
      "cell_type": "markdown",
      "source": [
        "# Podemos obervar que la correlación aquí es negativa para éste modelo."
      ],
      "metadata": {
        "id": "cuyxvYij2HFH"
      }
    },
    {
      "cell_type": "code",
      "source": [
        "# comparemos con el la varibale independiente \"peak-rpm\"\n",
        "plt.figure(figsize=(width, height))\n",
        "sns.regplot(x=\"peak-rpm\", y=\"price\", data=df)\n",
        "plt.ylim(0,)"
      ],
      "metadata": {
        "colab": {
          "base_uri": "https://localhost:8080/",
          "height": 623
        },
        "id": "Kt9dNdQL2BnJ",
        "outputId": "cea328f3-6caa-401d-b468-3365d35816a2"
      },
      "execution_count": 18,
      "outputs": [
        {
          "output_type": "execute_result",
          "data": {
            "text/plain": [
              "(0.0, 47414.1)"
            ]
          },
          "metadata": {},
          "execution_count": 18
        },
        {
          "output_type": "display_data",
          "data": {
            "text/plain": [
              "<Figure size 864x720 with 1 Axes>"
            ],
            "image/png": "[encoded data removed]"
          },
          "metadata": {
            "needs_background": "light"
          }
        }
      ]
    },
    {
      "cell_type": "markdown",
      "source": [
        "#Los datos de la columna 'peak-rpm' tienen poca relacion con el precio, tiene mayor correlación la de 'higway-mpg'.\n",
        "\n",
        "Para observarlo en numeros se muestra la correlación de ambas con el precio utilizando la función corr()"
      ],
      "metadata": {
        "id": "qdNNOahD2wpd"
      }
    },
    {
      "cell_type": "code",
      "source": [
        "df[[\"peak-rpm\",\"highway-mpg\",\"price\"]].corr()"
      ],
      "metadata": {
        "id": "j_lGbbD52uze",
        "outputId": "2cc846aa-8171-4319-93b1-a8c2d26d8c63",
        "colab": {
          "base_uri": "https://localhost:8080/",
          "height": 143
        }
      },
      "execution_count": 19,
      "outputs": [
        {
          "output_type": "execute_result",
          "data": {
            "text/plain": [
              "             peak-rpm  highway-mpg     price\n",
              "peak-rpm     1.000000    -0.058598 -0.101616\n",
              "highway-mpg -0.058598     1.000000 -0.704692\n",
              "price       -0.101616    -0.704692  1.000000"
            ],
            "text/html": [
              "\n",
              "  <div id=\"df-725453c2-ad3f-4d6f-a287-81ec0986146b\">\n",
              "    <div class=\"colab-df-container\">\n",
              "      <div>\n",
              "<style scoped>\n",
              "    .dataframe tbody tr th:only-of-type {\n",
              "        vertical-align: middle;\n",
              "    }\n",
              "\n",
              "    .dataframe tbody tr th {\n",
              "        vertical-align: top;\n",
              "    }\n",
              "\n",
              "    .dataframe thead th {\n",
              "        text-align: right;\n",
              "    }\n",
              "</style>\n",
              "<table border=\"1\" class=\"dataframe\">\n",
              "  <thead>\n",
              "    <tr style=\"text-align: right;\">\n",
              "      <th></th>\n",
              "      <th>peak-rpm</th>\n",
              "      <th>highway-mpg</th>\n",
              "      <th>price</th>\n",
              "    </tr>\n",
              "  </thead>\n",
              "  <tbody>\n",
              "    <tr>\n",
              "      <th>peak-rpm</th>\n",
              "      <td>1.000000</td>\n",
              "      <td>-0.058598</td>\n",
              "      <td>-0.101616</td>\n",
              "    </tr>\n",
              "    <tr>\n",
              "      <th>highway-mpg</th>\n",
              "      <td>-0.058598</td>\n",
              "      <td>1.000000</td>\n",
              "      <td>-0.704692</td>\n",
              "    </tr>\n",
              "    <tr>\n",
              "      <th>price</th>\n",
              "      <td>-0.101616</td>\n",
              "      <td>-0.704692</td>\n",
              "      <td>1.000000</td>\n",
              "    </tr>\n",
              "  </tbody>\n",
              "</table>\n",
              "</div>\n",
              "      <button class=\"colab-df-convert\" onclick=\"convertToInteractive('df-725453c2-ad3f-4d6f-a287-81ec0986146b')\"\n",
              "              title=\"Convert this dataframe to an interactive table.\"\n",
              "              style=\"display:none;\">\n",
              "        \n",
              "  <svg xmlns=\"http://www.w3.org/2000/svg\" height=\"24px\"viewBox=\"0 0 24 24\"\n",
              "       width=\"24px\">\n",
              "    <path d=\"M0 0h24v24H0V0z\" fill=\"none\"/>\n",
              "    <path d=\"M18.56 5.44l.94 2.06.94-2.06 2.06-.94-2.06-.94-.94-2.06-.94 2.06-2.06.94zm-11 1L8.5 8.5l.94-2.06 2.06-.94-2.06-.94L8.5 2.5l-.94 2.06-2.06.94zm10 10l.94 2.06.94-2.06 2.06-.94-2.06-.94-.94-2.06-.94 2.06-2.06.94z\"/><path d=\"M17.41 7.96l-1.37-1.37c-.4-.4-.92-.59-1.43-.59-.52 0-1.04.2-1.43.59L10.3 9.45l-7.72 7.72c-.78.78-.78 2.05 0 2.83L4 21.41c.39.39.9.59 1.41.59.51 0 1.02-.2 1.41-.59l7.78-7.78 2.81-2.81c.8-.78.8-2.07 0-2.86zM5.41 20L4 18.59l7.72-7.72 1.47 1.35L5.41 20z\"/>\n",
              "  </svg>\n",
              "      </button>\n",
              "      \n",
              "  <style>\n",
              "    .colab-df-container {\n",
              "      display:flex;\n",
              "      flex-wrap:wrap;\n",
              "      gap: 12px;\n",
              "    }\n",
              "\n",
              "    .colab-df-convert {\n",
              "      background-color: #E8F0FE;\n",
              "      border: none;\n",
              "      border-radius: 50%;\n",
              "      cursor: pointer;\n",
              "      display: none;\n",
              "      fill: #1967D2;\n",
              "      height: 32px;\n",
              "      padding: 0 0 0 0;\n",
              "      width: 32px;\n",
              "    }\n",
              "\n",
              "    .colab-df-convert:hover {\n",
              "      background-color: #E2EBFA;\n",
              "      box-shadow: 0px 1px 2px rgba(60, 64, 67, 0.3), 0px 1px 3px 1px rgba(60, 64, 67, 0.15);\n",
              "      fill: #174EA6;\n",
              "    }\n",
              "\n",
              "    [theme=dark] .colab-df-convert {\n",
              "      background-color: #3B4455;\n",
              "      fill: #D2E3FC;\n",
              "    }\n",
              "\n",
              "    [theme=dark] .colab-df-convert:hover {\n",
              "      background-color: #434B5C;\n",
              "      box-shadow: 0px 1px 3px 1px rgba(0, 0, 0, 0.15);\n",
              "      filter: drop-shadow(0px 1px 2px rgba(0, 0, 0, 0.3));\n",
              "      fill: #FFFFFF;\n",
              "    }\n",
              "  </style>\n",
              "\n",
              "      <script>\n",
              "        const buttonEl =\n",
              "          document.querySelector('#df-725453c2-ad3f-4d6f-a287-81ec0986146b button.colab-df-convert');\n",
              "        buttonEl.style.display =\n",
              "          google.colab.kernel.accessAllowed ? 'block' : 'none';\n",
              "\n",
              "        async function convertToInteractive(key) {\n",
              "          const element = document.querySelector('#df-725453c2-ad3f-4d6f-a287-81ec0986146b');\n",
              "          const dataTable =\n",
              "            await google.colab.kernel.invokeFunction('convertToInteractive',\n",
              "                                                     [key], {});\n",
              "          if (!dataTable) return;\n",
              "\n",
              "          const docLinkHtml = 'Like what you see? Visit the ' +\n",
              "            '<a target=\"_blank\" href=https://colab.research.google.com/notebooks/data_table.ipynb>data table notebook</a>'\n",
              "            + ' to learn more about interactive tables.';\n",
              "          element.innerHTML = '';\n",
              "          dataTable['output_type'] = 'display_data';\n",
              "          await google.colab.output.renderOutput(dataTable, element);\n",
              "          const docLink = document.createElement('div');\n",
              "          docLink.innerHTML = docLinkHtml;\n",
              "          element.appendChild(docLink);\n",
              "        }\n",
              "      </script>\n",
              "    </div>\n",
              "  </div>\n",
              "  "
            ]
          },
          "metadata": {},
          "execution_count": 19
        }
      ]
    },
    {
      "cell_type": "markdown",
      "source": [
        "#**\"Se concluye que higway-mpg (millas por galon en carretera), tiene un valor alto de correlación: -0.70 con el precio\"**"
      ],
      "metadata": {
        "id": "0HFmi8wK3vgV"
      }
    },
    {
      "cell_type": "markdown",
      "source": [
        "# **Grafica de valor residual.**\n",
        "\n",
        "\n",
        "Es un buen metodo para visualizar la varianza de los datos.\n",
        "Si los datos están en su mayoría dispersos por el eje x, quiere decir que está bien ajustado el modelo.\n"
      ],
      "metadata": {
        "id": "cRcm43Zw4qJF"
      }
    },
    {
      "cell_type": "code",
      "source": [
        "width = 12\n",
        "height = 10\n",
        "plt.figure(figsize=(width, height))\n",
        "sns.residplot(x=df['highway-mpg'],y=df['price'])\n",
        "plt.show()"
      ],
      "metadata": {
        "id": "PWmsQoEL3t8W",
        "outputId": "a82af192-1535-43ad-fb22-456bc27b1035",
        "colab": {
          "base_uri": "https://localhost:8080/",
          "height": 606
        }
      },
      "execution_count": 20,
      "outputs": [
        {
          "output_type": "display_data",
          "data": {
            "text/plain": [
              "<Figure size 864x720 with 1 Axes>"
            ],
            "image/png": "[encoded data removed]"
          },
          "metadata": {
            "needs_background": "light"
          }
        }
      ]
    },
    {
      "cell_type": "markdown",
      "source": [
        "#**3.- REGRESIÓN LINEAL MÚLTIPLE.**\n",
        "\n",
        "¿Qué hacemos si deseamos predecir el precio del carro utilizando más de una variable?\n",
        "\n",
        " R. Utilizamos \"regresión lineal múltiple\".\n",
        "\n",
        " Éste método es similar a regresión lineal, pero se usa para explicar la relación entre una variable de respuesta(variable dependiente Y ) continua y dos o mas variables predictoras ( variable independiente X). \n",
        "\n",
        " La mayoría de los modelos de regresión en el mundo reale son de multiples variables predictoras, a continuación se ilustra el modelo múltiple:\n",
        "\n",
        "\n",
        " Y:Response Variable\n",
        " \n",
        " X_1:Predictor Variable 1\n",
        " \n",
        " X_2:Predictor Variable 2\n",
        " \n",
        " X_3:Predictor Variable 3\n",
        " \n",
        " X_4:Predictor Variable 4\n",
        "\n",
        "       a:intercept\n",
        "\n",
        "b_1:coefficients of Variable 1\n",
        "\n",
        "b_2:coefficients of Variable 2\n",
        "\n",
        "b_3:coefficients of Variable 3\n",
        "\n",
        "b_4:coefficients of Variable 4\n",
        "\n",
        "\n",
        "La ecuación está dada por:\n",
        "\n",
        "    Yhat= a + b_1X_1 + b_2X_2 + b_3X_3 + b_4X_4\n",
        "\n",
        "De las secciones anterioes, sabemos que hay otros buenos predictores para el precio del auto como son:\n",
        "\n",
        "- Horse-Power.\n",
        "\n",
        "- Curb-weight.\n",
        "\n",
        "- Engine-Size.\n",
        "\n",
        "- Higway-mpg.\n",
        "\n",
        "A continuación vamos a desarrollar el modelo usando éstas variables como variables predictoras.\n"
      ],
      "metadata": {
        "id": "PvNmDYtuA2g2"
      }
    },
    {
      "cell_type": "code",
      "source": [
        "#definimos una varible Z que engloble las 4 variables predictoras:\n",
        "Z=df[['horsepower', 'curb-weight', 'engine-size', 'highway-mpg']]"
      ],
      "metadata": {
        "id": "e0ij29-44x2w"
      },
      "execution_count": 21,
      "outputs": []
    },
    {
      "cell_type": "code",
      "source": [
        "#ajustar al modelo lineal, utilizando las varibles antes mecionadas.\n",
        "lm.fit(Z,df['price']) "
      ],
      "metadata": {
        "id": "H2kHSCXlLqHQ",
        "outputId": "d994176f-b9e7-4964-f186-e0de38f80fb4",
        "colab": {
          "base_uri": "https://localhost:8080/"
        }
      },
      "execution_count": 23,
      "outputs": [
        {
          "output_type": "execute_result",
          "data": {
            "text/plain": [
              "LinearRegression()"
            ]
          },
          "metadata": {},
          "execution_count": 23
        }
      ]
    },
    {
      "cell_type": "code",
      "source": [
        "#una vez ajustado y creado el modelo\n",
        "#obtener el valor de la variable que intercepta (a).\n",
        "lm.intercept_"
      ],
      "metadata": {
        "id": "-3tdAGzNL_BS",
        "outputId": "aa1a09ad-cec9-489d-ffca-129a42e72f32",
        "colab": {
          "base_uri": "https://localhost:8080/"
        }
      },
      "execution_count": 24,
      "outputs": [
        {
          "output_type": "execute_result",
          "data": {
            "text/plain": [
              "-15806.62462632922"
            ]
          },
          "metadata": {},
          "execution_count": 24
        }
      ]
    },
    {
      "cell_type": "code",
      "source": [
        "#obtener los coeficientes de las variables (b1,b2,b3,b4)\n",
        "lm.coef_"
      ],
      "metadata": {
        "id": "eHTeR_ByMXKr",
        "outputId": "afe2affc-18c3-4042-b6e4-7bf83d0d057f",
        "colab": {
          "base_uri": "https://localhost:8080/"
        }
      },
      "execution_count": 26,
      "outputs": [
        {
          "output_type": "execute_result",
          "data": {
            "text/plain": [
              "array([53.49574423,  4.70770099, 81.53026382, 36.05748882])"
            ]
          },
          "metadata": {},
          "execution_count": 26
        }
      ]
    },
    {
      "cell_type": "code",
      "source": [
        "#¿cuál es el modelo lineal  final estimado que podemos obtener?\n",
        "# Yhat= a + b_1X_1 + b_2X_2 + b_3X_3 + b_4X_4\n"
      ],
      "metadata": {
        "id": "9ji1OCRjMfkj"
      },
      "execution_count": null,
      "outputs": []
    },
    {
      "cell_type": "markdown",
      "source": [
        "¿cúal es la función lineal que tenemos para éste ejemplo?\n",
        "\n",
        "    Yhat= a + b_1X_1 + b_2X_2 + b_3X_3 + b_4X_4\n",
        "\n",
        "**Price** = -15678.742628061467 + 52.65851272 x **horsepower** + 4.69878948 x **curb-weight** + 81.95906216 x **engine-size** + 33.58258185 x **highway-mpg**"
      ],
      "metadata": {
        "id": "FDXe2aQlQMCv"
      }
    },
    {
      "cell_type": "markdown",
      "source": [
        "Ejemplo 2 .\n",
        "Crear un modelo lm2 donde la variable respuesta-independiente es 'price' y las variables predictoras son: \"normalized-losses\" y \"highway-mpg\"."
      ],
      "metadata": {
        "id": "Pq24uAkHQo2n"
      }
    },
    {
      "cell_type": "code",
      "source": [
        "lm2=LinearRegression()\n",
        "lm2.fit(df[['normalized-losses' , 'highway-mpg']],df['price'])"
      ],
      "metadata": {
        "id": "idWwjkXMQgzc",
        "outputId": "ccfcf195-3c1a-462e-ce53-0e9cb50c5205",
        "colab": {
          "base_uri": "https://localhost:8080/"
        }
      },
      "execution_count": 34,
      "outputs": [
        {
          "output_type": "execute_result",
          "data": {
            "text/plain": [
              "LinearRegression()"
            ]
          },
          "metadata": {},
          "execution_count": 34
        }
      ]
    },
    {
      "cell_type": "code",
      "source": [
        "lm2.intercept_ #El valor de la variable a-intercepción"
      ],
      "metadata": {
        "id": "a72ZNDP-RVTl",
        "outputId": "7f212858-4181-4795-ec60-244703365a3d",
        "colab": {
          "base_uri": "https://localhost:8080/"
        }
      },
      "execution_count": 35,
      "outputs": [
        {
          "output_type": "execute_result",
          "data": {
            "text/plain": [
              "38201.31327245728"
            ]
          },
          "metadata": {},
          "execution_count": 35
        }
      ]
    },
    {
      "cell_type": "code",
      "source": [
        "#valor de las coeficientes o inclinación.\n",
        "lm2.coef_"
      ],
      "metadata": {
        "id": "vMw6FV9mSG-C",
        "outputId": "64a76452-481c-4587-8296-4678d500e23b",
        "colab": {
          "base_uri": "https://localhost:8080/"
        }
      },
      "execution_count": 36,
      "outputs": [
        {
          "output_type": "execute_result",
          "data": {
            "text/plain": [
              "array([   1.49789586, -820.45434016])"
            ]
          },
          "metadata": {},
          "execution_count": 36
        }
      ]
    },
    {
      "cell_type": "markdown",
      "source": [
        "La función lineal final queda así:\n",
        "\n",
        "  Yhat= 38201.31327245728 + ((1.49789586* **normalized-losses**)+ (-820.45434016* **Higway-mpg**))"
      ],
      "metadata": {
        "id": "1WSV4wZ_SXiJ"
      }
    },
    {
      "cell_type": "markdown",
      "source": [
        "# Evaluación de modelo de regresión lineal múltiple.\n",
        "\n",
        "¿Cómo visualizar un modelo de regresión multiple?\n",
        "Es un poco más complicado porque no puedes visualizarlo con gráficas de regresión y residual.\n",
        "\n",
        "Una forma de ver el ajuste del modelo es mirando **la gráfica de distribución**. Podemos ver la distribución de los valores ajustados que resueltan del modelo y la comparación de los valores actuales.\n",
        "\n",
        "Primero se realiza una predicción:\n"
      ],
      "metadata": {
        "id": "KjJ2T_4dTSdN"
      }
    },
    {
      "cell_type": "code",
      "source": [
        "Yhat=lm.predict(Z)"
      ],
      "metadata": {
        "id": "rwwdmXusSUO2"
      },
      "execution_count": 38,
      "outputs": []
    },
    {
      "cell_type": "markdown",
      "source": [
        "A continuación se grafícan los valores:\n"
      ],
      "metadata": {
        "id": "ZuNlOnzfU10V"
      }
    },
    {
      "cell_type": "code",
      "source": [
        "plt.figure(figsize =(width,height))\n",
        "ax1= sns.distplot(df['price'],hist=False,color='r',label='Valor Actual') \n",
        "sns.distplot(Yhat,hist=False,color='b',label='Valores Ajustados', ax=ax1)\n",
        "\n",
        "plt.title('Valor actual y ajustado para precio')\n",
        "plt.xlabel('Precio (en dolares)')\n",
        "plt.ylabel('Cantidad de carros')\n",
        "plt.show()\n",
        "plt.close()"
      ],
      "metadata": {
        "id": "XdqxXU1YUqKG",
        "outputId": "c8f735af-c2f4-475d-c6b1-2d6b8eef6a2a",
        "colab": {
          "base_uri": "https://localhost:8080/",
          "height": 710
        }
      },
      "execution_count": 50,
      "outputs": [
        {
          "output_type": "stream",
          "name": "stderr",
          "text": [
            "/usr/local/lib/python3.7/dist-packages/seaborn/distributions.py:2619: FutureWarning: `distplot` is a deprecated function and will be removed in a future version. Please adapt your code to use either `displot` (a figure-level function with similar flexibility) or `kdeplot` (an axes-level function for kernel density plots).\n",
            "  warnings.warn(msg, FutureWarning)\n",
            "/usr/local/lib/python3.7/dist-packages/seaborn/distributions.py:2619: FutureWarning: `distplot` is a deprecated function and will be removed in a future version. Please adapt your code to use either `displot` (a figure-level function with similar flexibility) or `kdeplot` (an axes-level function for kernel density plots).\n",
            "  warnings.warn(msg, FutureWarning)\n"
          ]
        },
        {
          "output_type": "display_data",
          "data": {
            "text/plain": [
              "<Figure size 864x720 with 1 Axes>"
            ],
            "image/png": "[encoded data removed]"
          },
          "metadata": {
            "needs_background": "light"
          }
        }
      ]
    },
    {
      "cell_type": "markdown",
      "source": [
        "# Se concluye que los valores ajustados por el modelo está cercanos a los valores actuales, con excepción de algunos partes fuera de la gráfica, sin embargo hay posibilidades de mejorar."
      ],
      "metadata": {
        "id": "rMUDxDHKXMaO"
      }
    },
    {
      "cell_type": "code",
      "source": [],
      "metadata": {
        "id": "cGf2fmo-V_QH"
      },
      "execution_count": null,
      "outputs": []
    }
  ]
}