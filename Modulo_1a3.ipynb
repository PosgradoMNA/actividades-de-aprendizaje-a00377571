{
  "nbformat": 4,
  "nbformat_minor": 0,
  "metadata": {
    "colab": {
      "name": "assignment01.ipynb",
      "provenance": [],
      "include_colab_link": true
    },
    "kernelspec": {
      "name": "python3",
      "display_name": "Python 3"
    },
    "language_info": {
      "name": "python"
    }
  },
  "cells": [
    {
      "cell_type": "markdown",
      "metadata": {
        "id": "view-in-github",
        "colab_type": "text"
      },
      "source": [
        "<a href=\"https://colab.research.google.com/github/PosgradoMNA/actividades-de-aprendizaje-a00377571/blob/main/Modulo_1a3.ipynb\" target=\"_parent\"><img src=\"https://colab.research.google.com/assets/colab-badge.svg\" alt=\"Open In Colab\"/></a>"
      ]
    },
    {
      "cell_type": "code",
      "execution_count": null,
      "metadata": {
        "id": "LzUSMM79NR9P",
        "outputId": "0e6cb421-1096-426a-b31a-f61d059def81",
        "colab": {
          "base_uri": "https://localhost:8080/"
        }
      },
      "outputs": [
        {
          "output_type": "stream",
          "name": "stdout",
          "text": [
            "assignment01 for GitJobish03 and edited in git, and 18\n"
          ]
        }
      ],
      "source": [
        "print('assignment01 for GitJobish03 and edited in git, and 18')"
      ]
    },
    {
      "cell_type": "code",
      "source": [
        "#print Hello Python 101\n",
        "print(\"Hello Python 101\")"
      ],
      "metadata": {
        "id": "mxM_WppZPMFx",
        "colab": {
          "base_uri": "https://localhost:8080/"
        },
        "outputId": "c0a54676-40ec-4e4f-d1ee-3e81c2ddab2d"
      },
      "execution_count": null,
      "outputs": [
        {
          "output_type": "stream",
          "name": "stdout",
          "text": [
            "Hello Python 101\n"
          ]
        }
      ]
    },
    {
      "cell_type": "markdown",
      "source": [
        "hands on lab: Encontrar el resultado de print(\"Hello\\nWorld! \")"
      ],
      "metadata": {
        "id": "t9cjPvtogWQq"
      }
    },
    {
      "cell_type": "code",
      "source": [
        "print(\"Hello\\nWorld! \")\n"
      ],
      "metadata": {
        "colab": {
          "base_uri": "https://localhost:8080/"
        },
        "id": "FOy7vV5whiGg",
        "outputId": "f4f57b46-ff73-4d00-f4f8-15a03ed89657"
      },
      "execution_count": null,
      "outputs": [
        {
          "output_type": "stream",
          "name": "stdout",
          "text": [
            "Hello\n",
            "World! \n"
          ]
        }
      ]
    },
    {
      "cell_type": "markdown",
      "source": [
        "¿Cuál es la salida de la ejecuión de la siguiente sentencia: # print('Hello world!')?"
      ],
      "metadata": {
        "id": "RcdY_B5UiJph"
      }
    },
    {
      "cell_type": "code",
      "source": [
        "#print('Hello world!')\n"
      ],
      "metadata": {
        "id": "UMBuJa-7j1iM"
      },
      "execution_count": null,
      "outputs": []
    },
    {
      "cell_type": "markdown",
      "source": [
        "What is the type of the following: int(1.0)?"
      ],
      "metadata": {
        "id": "Bn8WeixEncH2"
      }
    },
    {
      "cell_type": "code",
      "source": [
        "\n",
        "int(1.0)\n"
      ],
      "metadata": {
        "colab": {
          "base_uri": "https://localhost:8080/"
        },
        "id": "oLUM0VSYnmgL",
        "outputId": "dc92ff6a-02e6-4609-fd37-03bfe46a566b"
      },
      "execution_count": null,
      "outputs": [
        {
          "output_type": "execute_result",
          "data": {
            "text/plain": [
              "1"
            ]
          },
          "metadata": {},
          "execution_count": 9
        }
      ]
    },
    {
      "cell_type": "markdown",
      "source": [
        "Enter the code to convert the number 1 to boolean "
      ],
      "metadata": {
        "id": "Us_7eEgwo4e_"
      }
    },
    {
      "cell_type": "markdown",
      "source": [],
      "metadata": {
        "id": "HjXMJMfzpFA8"
      }
    },
    {
      "cell_type": "code",
      "source": [
        "bool(1)"
      ],
      "metadata": {
        "colab": {
          "base_uri": "https://localhost:8080/"
        },
        "id": "6wKRKGLapJ9a",
        "outputId": "be0b8a5b-80b7-4921-d5ec-d17fe510d0c9"
      },
      "execution_count": null,
      "outputs": [
        {
          "output_type": "execute_result",
          "data": {
            "text/plain": [
              "True"
            ]
          },
          "metadata": {},
          "execution_count": 10
        }
      ]
    },
    {
      "cell_type": "markdown",
      "source": [],
      "metadata": {
        "id": "LfwBvOR_pFRw"
      }
    },
    {
      "cell_type": "code",
      "source": [
        "bool(\"1\")"
      ],
      "metadata": {
        "colab": {
          "base_uri": "https://localhost:8080/"
        },
        "id": "zcZz8kUVpXtB",
        "outputId": "246b3386-649b-4697-e7b6-691b6234f03c"
      },
      "execution_count": null,
      "outputs": [
        {
          "output_type": "execute_result",
          "data": {
            "text/plain": [
              "True"
            ]
          },
          "metadata": {},
          "execution_count": 11
        }
      ]
    },
    {
      "cell_type": "code",
      "source": [
        "#Revisaremos la versión de Python.\n",
        "import sys\n",
        "print(sys.version)\n"
      ],
      "metadata": {
        "colab": {
          "base_uri": "https://localhost:8080/"
        },
        "id": "EAOuut-xwkaO",
        "outputId": "294167d0-0534-4587-d31d-9040537f73ef"
      },
      "execution_count": null,
      "outputs": [
        {
          "output_type": "stream",
          "name": "stdout",
          "text": [
            "3.7.14 (default, Sep  8 2022, 00:06:44) \n",
            "[GCC 7.5.0]\n"
          ]
        }
      ]
    },
    {
      "cell_type": "code",
      "source": [
        "#Practicando comentarios en Python.\n",
        "print('Hello, Python!') #ésto imprimirá Hello Python\n",
        "#print('hi')"
      ],
      "metadata": {
        "colab": {
          "base_uri": "https://localhost:8080/"
        },
        "id": "t08kDWRJywQM",
        "outputId": "4b7d12a0-b4a6-4861-879f-01db6a242b3b"
      },
      "execution_count": null,
      "outputs": [
        {
          "output_type": "stream",
          "name": "stdout",
          "text": [
            "Hello, Python!\n"
          ]
        }
      ]
    },
    {
      "cell_type": "markdown",
      "source": [
        "Errores en Python, aquí se muestran dos tipos de errores frecuentes: Error de nombre y error de sintaxis.\n",
        "Error de nombre: \n",
        "      Corrrecto-- print('Hello World') \n",
        "      Incorrecto- frint('Hello world') error en la F.\n",
        "      Error de sintaxis:\n",
        "      Correcto--- print('Hello world')\n",
        "      Incorrecto- print('Hello world) error falt un operador '."
      ],
      "metadata": {
        "id": "6GRLAF4U5wai"
      }
    },
    {
      "cell_type": "code",
      "source": [
        "#error en nombre de función.\n",
        "frint('Hello world')\n"
      ],
      "metadata": {
        "colab": {
          "base_uri": "https://localhost:8080/",
          "height": 184
        },
        "id": "1guA_Ff76u4p",
        "outputId": "93ce9948-f8e9-485d-caff-dd246c5918b6"
      },
      "execution_count": null,
      "outputs": [
        {
          "output_type": "error",
          "ename": "NameError",
          "evalue": "ignored",
          "traceback": [
            "\u001b[0;31m---------------------------------------------------------------------------\u001b[0m",
            "\u001b[0;31mNameError\u001b[0m                                 Traceback (most recent call last)",
            "\u001b[0;32m<ipython-input-14-fe89d90c8cb2>\u001b[0m in \u001b[0;36m<module>\u001b[0;34m\u001b[0m\n\u001b[1;32m      1\u001b[0m \u001b[0;31m#error en nombre de función.\u001b[0m\u001b[0;34m\u001b[0m\u001b[0;34m\u001b[0m\u001b[0;34m\u001b[0m\u001b[0m\n\u001b[0;32m----> 2\u001b[0;31m \u001b[0mfrint\u001b[0m\u001b[0;34m(\u001b[0m\u001b[0;34m'Hello world'\u001b[0m\u001b[0;34m)\u001b[0m\u001b[0;34m\u001b[0m\u001b[0;34m\u001b[0m\u001b[0m\n\u001b[0m",
            "\u001b[0;31mNameError\u001b[0m: name 'frint' is not defined"
          ]
        }
      ]
    },
    {
      "cell_type": "code",
      "source": [
        "#error de sintaxis\n",
        "print('Hello world)\n"
      ],
      "metadata": {
        "colab": {
          "base_uri": "https://localhost:8080/",
          "height": 131
        },
        "id": "QftfAOuL7QHS",
        "outputId": "d32b8dfa-3ccc-4a34-a7ed-fff34954e249"
      },
      "execution_count": null,
      "outputs": [
        {
          "output_type": "error",
          "ename": "SyntaxError",
          "evalue": "ignored",
          "traceback": [
            "\u001b[0;36m  File \u001b[0;32m\"<ipython-input-15-c1b9b904d785>\"\u001b[0;36m, line \u001b[0;32m2\u001b[0m\n\u001b[0;31m    print('Hello world)\u001b[0m\n\u001b[0m                       ^\u001b[0m\n\u001b[0;31mSyntaxError\u001b[0m\u001b[0;31m:\u001b[0m EOL while scanning string literal\n"
          ]
        }
      ]
    },
    {
      "cell_type": "code",
      "source": [],
      "metadata": {
        "id": "7Xld7-W8-bn0"
      },
      "execution_count": null,
      "outputs": []
    },
    {
      "cell_type": "markdown",
      "source": [
        "Python es un lenguaje interpretativo, interpreta linea por linea cuando se ejecuta y detiene la ejecución cuando encuentra un error."
      ],
      "metadata": {
        "id": "f1HqB_uNBjzq"
      }
    },
    {
      "cell_type": "code",
      "source": [
        "#print string and error to see the running order\n",
        "print(\"This will printed\")\n",
        "frint(\"This will cause an error\")\n",
        "print(\"This will not be printed\")"
      ],
      "metadata": {
        "colab": {
          "base_uri": "https://localhost:8080/",
          "height": 236
        },
        "id": "pBVGN8jYBhKf",
        "outputId": "f2355e78-2a9c-42b7-f4c5-25331646a9c9"
      },
      "execution_count": null,
      "outputs": [
        {
          "output_type": "stream",
          "name": "stdout",
          "text": [
            "This will printed\n"
          ]
        },
        {
          "output_type": "error",
          "ename": "NameError",
          "evalue": "ignored",
          "traceback": [
            "\u001b[0;31m---------------------------------------------------------------------------\u001b[0m",
            "\u001b[0;31mNameError\u001b[0m                                 Traceback (most recent call last)",
            "\u001b[0;32m<ipython-input-17-4de140089f88>\u001b[0m in \u001b[0;36m<module>\u001b[0;34m\u001b[0m\n\u001b[1;32m      1\u001b[0m \u001b[0;31m#print string and error to see the running order\u001b[0m\u001b[0;34m\u001b[0m\u001b[0;34m\u001b[0m\u001b[0;34m\u001b[0m\u001b[0m\n\u001b[1;32m      2\u001b[0m \u001b[0mprint\u001b[0m\u001b[0;34m(\u001b[0m\u001b[0;34m\"This will printed\"\u001b[0m\u001b[0;34m)\u001b[0m\u001b[0;34m\u001b[0m\u001b[0;34m\u001b[0m\u001b[0m\n\u001b[0;32m----> 3\u001b[0;31m \u001b[0mfrint\u001b[0m\u001b[0;34m(\u001b[0m\u001b[0;34m\"This will cause an error\"\u001b[0m\u001b[0;34m)\u001b[0m\u001b[0;34m\u001b[0m\u001b[0;34m\u001b[0m\u001b[0m\n\u001b[0m\u001b[1;32m      4\u001b[0m \u001b[0mprint\u001b[0m\u001b[0;34m(\u001b[0m\u001b[0;34m\"This will not be printed\"\u001b[0m\u001b[0;34m)\u001b[0m\u001b[0;34m\u001b[0m\u001b[0;34m\u001b[0m\u001b[0m\n",
            "\u001b[0;31mNameError\u001b[0m: name 'frint' is not defined"
          ]
        }
      ]
    },
    {
      "cell_type": "markdown",
      "source": [
        "=========================== Tipos de objetos en Python =============="
      ],
      "metadata": {
        "id": "St7-gwtPEP_v"
      }
    },
    {
      "cell_type": "code",
      "source": [
        "#Integer\n",
        "11\n",
        "\n",
        "#Float\n",
        "2.45\n",
        "\n",
        "#string\n",
        "'Hello, Python 101'\n"
      ],
      "metadata": {
        "colab": {
          "base_uri": "https://localhost:8080/",
          "height": 35
        },
        "id": "LdJys5HAFa_a",
        "outputId": "0091b339-a127-48e6-f1be-cddecb69504f"
      },
      "execution_count": null,
      "outputs": [
        {
          "output_type": "execute_result",
          "data": {
            "text/plain": [
              "'Hello, Python 101'"
            ],
            "application/vnd.google.colaboratory.intrinsic+json": {
              "type": "string"
            }
          },
          "metadata": {},
          "execution_count": 20
        }
      ]
    },
    {
      "cell_type": "markdown",
      "source": [
        "===================== Función TYPE=============\n",
        "Regresa el tipo de dato."
      ],
      "metadata": {
        "id": "cDcFo2aDGUQb"
      }
    },
    {
      "cell_type": "code",
      "source": [
        "#int\n",
        "type(12)"
      ],
      "metadata": {
        "colab": {
          "base_uri": "https://localhost:8080/"
        },
        "id": "K4bdxerXGdT0",
        "outputId": "e235711f-4a08-4d80-f2f8-b7e553e3de3e"
      },
      "execution_count": null,
      "outputs": [
        {
          "output_type": "execute_result",
          "data": {
            "text/plain": [
              "int"
            ]
          },
          "metadata": {},
          "execution_count": 21
        }
      ]
    },
    {
      "cell_type": "code",
      "source": [
        "#float\n",
        "type(1.0)"
      ],
      "metadata": {
        "colab": {
          "base_uri": "https://localhost:8080/"
        },
        "id": "ZUt7B7hhGiwK",
        "outputId": "cb86666e-3dd5-4fa2-cb1b-bccef7feeb55"
      },
      "execution_count": null,
      "outputs": [
        {
          "output_type": "execute_result",
          "data": {
            "text/plain": [
              "float"
            ]
          },
          "metadata": {},
          "execution_count": 22
        }
      ]
    },
    {
      "cell_type": "code",
      "source": [
        "#string\n",
        "type('hello world')"
      ],
      "metadata": {
        "colab": {
          "base_uri": "https://localhost:8080/"
        },
        "id": "pYPC2c_gGpVP",
        "outputId": "11a1b2be-e34c-4212-e4d1-b0338a5e2315"
      },
      "execution_count": null,
      "outputs": [
        {
          "output_type": "execute_result",
          "data": {
            "text/plain": [
              "str"
            ]
          },
          "metadata": {},
          "execution_count": 24
        }
      ]
    },
    {
      "cell_type": "markdown",
      "source": [
        "Los enteros(integer) pueden ser positivos o negativos.\n",
        "  -4-3-2-1 0 1 2 3 4 \n"
      ],
      "metadata": {
        "id": "x_brEPgiG2rv"
      }
    },
    {
      "cell_type": "code",
      "source": [
        "type(-1)"
      ],
      "metadata": {
        "colab": {
          "base_uri": "https://localhost:8080/"
        },
        "id": "cyYfU2DoHchF",
        "outputId": "263b3e30-5105-4d5b-f126-715220c55e18"
      },
      "execution_count": null,
      "outputs": [
        {
          "output_type": "execute_result",
          "data": {
            "text/plain": [
              "int"
            ]
          },
          "metadata": {},
          "execution_count": 27
        }
      ]
    },
    {
      "cell_type": "markdown",
      "source": [
        "==============Flotantes- Float================\n",
        "Representan los números reales pero tambien los decimales. Existen algunas limitaciones cuand las maquians representan los número reales, se debe consultar las espesificaciones de los flotantes con sys() para validar valores maximos y minimos que se pueden representar."
      ],
      "metadata": {
        "id": "EKT94IV6H55J"
      }
    },
    {
      "cell_type": "code",
      "source": [
        "#Tipo de datos flotantes.\n",
        "type(1.0)"
      ],
      "metadata": {
        "colab": {
          "base_uri": "https://localhost:8080/"
        },
        "id": "gVi65zzAI0bd",
        "outputId": "14e36d99-24ec-45dd-a5ec-cb38de07a6f4"
      },
      "execution_count": null,
      "outputs": [
        {
          "output_type": "execute_result",
          "data": {
            "text/plain": [
              "float"
            ]
          },
          "metadata": {},
          "execution_count": 28
        }
      ]
    },
    {
      "cell_type": "code",
      "source": [
        "type(0.5)"
      ],
      "metadata": {
        "colab": {
          "base_uri": "https://localhost:8080/"
        },
        "id": "B2E5h1SRJVeD",
        "outputId": "d22bccb7-3101-4351-eadf-a153f7fdcc9c"
      },
      "execution_count": null,
      "outputs": [
        {
          "output_type": "execute_result",
          "data": {
            "text/plain": [
              "float"
            ]
          },
          "metadata": {},
          "execution_count": 29
        }
      ]
    },
    {
      "cell_type": "code",
      "source": [
        "type(5.5)"
      ],
      "metadata": {
        "colab": {
          "base_uri": "https://localhost:8080/"
        },
        "id": "B6RJuR1dJb11",
        "outputId": "8677493c-a771-4738-e397-b7a0543197e7"
      },
      "execution_count": null,
      "outputs": [
        {
          "output_type": "execute_result",
          "data": {
            "text/plain": [
              "float"
            ]
          },
          "metadata": {},
          "execution_count": 30
        }
      ]
    },
    {
      "cell_type": "code",
      "source": [
        "sys.float_info #muestra las caracteristicas de los objetos flotantes"
      ],
      "metadata": {
        "colab": {
          "base_uri": "https://localhost:8080/"
        },
        "id": "VdawssxZJf7o",
        "outputId": "56dc55ac-7b9c-4770-eb6b-8ceda2fc9b90"
      },
      "execution_count": null,
      "outputs": [
        {
          "output_type": "execute_result",
          "data": {
            "text/plain": [
              "sys.float_info(max=1.7976931348623157e+308, max_exp=1024, max_10_exp=308, min=2.2250738585072014e-308, min_exp=-1021, min_10_exp=-307, dig=15, mant_dig=53, epsilon=2.220446049250313e-16, radix=2, rounds=1)"
            ]
          },
          "metadata": {},
          "execution_count": 31
        }
      ]
    },
    {
      "cell_type": "markdown",
      "source": [
        "++++++++Convirtiendo un tipo de objeto en otro tipo de objeto++++++++"
      ],
      "metadata": {
        "id": "5Luz4_7SKPJ7"
      }
    },
    {
      "cell_type": "code",
      "source": [
        "#Convierta o \"cast\" de integer a float. Convierte y muestra el tipo de dato convertido.\n",
        "float(2)\n",
        "type(float(2))"
      ],
      "metadata": {
        "colab": {
          "base_uri": "https://localhost:8080/"
        },
        "id": "ibRozTaUKb1Z",
        "outputId": "5cb17c1e-6bfb-4171-f7b5-222ef29ca827"
      },
      "execution_count": null,
      "outputs": [
        {
          "output_type": "execute_result",
          "data": {
            "text/plain": [
              "float"
            ]
          },
          "metadata": {},
          "execution_count": 32
        }
      ]
    },
    {
      "cell_type": "code",
      "source": [
        "# Float to integer, Puede perderse información.  \n",
        "int(1.1) # se oberva la perdida del valor decimal."
      ],
      "metadata": {
        "colab": {
          "base_uri": "https://localhost:8080/"
        },
        "id": "pDbNzOyRK3Zq",
        "outputId": "5ed5e0db-8649-4d98-9955-0f72dfb4b5d9"
      },
      "execution_count": null,
      "outputs": [
        {
          "output_type": "execute_result",
          "data": {
            "text/plain": [
              "1"
            ]
          },
          "metadata": {},
          "execution_count": 33
        }
      ]
    },
    {
      "cell_type": "code",
      "source": [
        "#string to integer\n",
        "int(1)"
      ],
      "metadata": {
        "colab": {
          "base_uri": "https://localhost:8080/"
        },
        "id": "rnluzmS0LQYH",
        "outputId": "a54f4b5b-6939-45cf-d7ab-e8bf70ce4733"
      },
      "execution_count": null,
      "outputs": [
        {
          "output_type": "execute_result",
          "data": {
            "text/plain": [
              "1"
            ]
          },
          "metadata": {},
          "execution_count": 34
        }
      ]
    },
    {
      "cell_type": "code",
      "source": [
        "#String to entero que tiene caracteres no se puede.\n",
        "int('1 o 2 personas')"
      ],
      "metadata": {
        "colab": {
          "base_uri": "https://localhost:8080/",
          "height": 184
        },
        "id": "w0ouW5uyLi60",
        "outputId": "f26791c4-5afd-42cc-e501-2b7dc87ae64a"
      },
      "execution_count": null,
      "outputs": [
        {
          "output_type": "error",
          "ename": "ValueError",
          "evalue": "ignored",
          "traceback": [
            "\u001b[0;31m---------------------------------------------------------------------------\u001b[0m",
            "\u001b[0;31mValueError\u001b[0m                                Traceback (most recent call last)",
            "\u001b[0;32m<ipython-input-35-124b44af1e41>\u001b[0m in \u001b[0;36m<module>\u001b[0;34m\u001b[0m\n\u001b[1;32m      1\u001b[0m \u001b[0;31m#String to entero que tiene caracteres no se puede.\u001b[0m\u001b[0;34m\u001b[0m\u001b[0;34m\u001b[0m\u001b[0;34m\u001b[0m\u001b[0m\n\u001b[0;32m----> 2\u001b[0;31m \u001b[0mint\u001b[0m\u001b[0;34m(\u001b[0m\u001b[0;34m'1 o 2 personas'\u001b[0m\u001b[0;34m)\u001b[0m\u001b[0;34m\u001b[0m\u001b[0;34m\u001b[0m\u001b[0m\n\u001b[0m",
            "\u001b[0;31mValueError\u001b[0m: invalid literal for int() with base 10: '1 o 2 personas'"
          ]
        }
      ]
    },
    {
      "cell_type": "markdown",
      "source": [],
      "metadata": {
        "id": "jx2LEP9jL6Hl"
      }
    },
    {
      "cell_type": "code",
      "source": [
        "#string to float que contienen valores flotantes.\n",
        "float(\"1.4\")"
      ],
      "metadata": {
        "colab": {
          "base_uri": "https://localhost:8080/"
        },
        "id": "2dr56Cg1L6sS",
        "outputId": "d9135ec3-a2d4-4014-ae27-4cb4116dc0ae"
      },
      "execution_count": null,
      "outputs": [
        {
          "output_type": "execute_result",
          "data": {
            "text/plain": [
              "1.4"
            ]
          },
          "metadata": {},
          "execution_count": 36
        }
      ]
    },
    {
      "cell_type": "code",
      "source": [
        "#convirtiendo números a cadenas.\n",
        "str(1)"
      ],
      "metadata": {
        "colab": {
          "base_uri": "https://localhost:8080/",
          "height": 35
        },
        "id": "gjDg6VHcMTfm",
        "outputId": "39ee7bba-9313-4cd8-e7ef-1f2ea2fd8c52"
      },
      "execution_count": null,
      "outputs": [
        {
          "output_type": "execute_result",
          "data": {
            "text/plain": [
              "'1'"
            ],
            "application/vnd.google.colaboratory.intrinsic+json": {
              "type": "string"
            }
          },
          "metadata": {},
          "execution_count": 37
        }
      ]
    },
    {
      "cell_type": "code",
      "source": [
        "str(3.5)"
      ],
      "metadata": {
        "colab": {
          "base_uri": "https://localhost:8080/",
          "height": 35
        },
        "id": "pRhV6p12MeBY",
        "outputId": "3b328685-3747-40b7-8d52-99f7140ff094"
      },
      "execution_count": null,
      "outputs": [
        {
          "output_type": "execute_result",
          "data": {
            "text/plain": [
              "'3.5'"
            ],
            "application/vnd.google.colaboratory.intrinsic+json": {
              "type": "string"
            }
          },
          "metadata": {},
          "execution_count": 39
        }
      ]
    },
    {
      "cell_type": "code",
      "source": [
        "str(1.5)\n",
        "type(str(1.5))"
      ],
      "metadata": {
        "colab": {
          "base_uri": "https://localhost:8080/"
        },
        "id": "xX1WRZlLMeIr",
        "outputId": "9cb74fb4-690b-4e9b-ba73-7d9c6fd669b9"
      },
      "execution_count": null,
      "outputs": [
        {
          "output_type": "execute_result",
          "data": {
            "text/plain": [
              "str"
            ]
          },
          "metadata": {},
          "execution_count": 42
        }
      ]
    },
    {
      "cell_type": "markdown",
      "source": [
        "======Expresiones Booleanas Falso o verdadero=========\n",
        "True=1 False=0"
      ],
      "metadata": {
        "id": "HTRxfs_PODhA"
      }
    },
    {
      "cell_type": "code",
      "source": [
        "False"
      ],
      "metadata": {
        "id": "8BXCQyD9ON-t",
        "outputId": "3b30d3bc-8c8f-4bd9-bd0d-c4af0ca01fed",
        "colab": {
          "base_uri": "https://localhost:8080/"
        }
      },
      "execution_count": null,
      "outputs": [
        {
          "output_type": "execute_result",
          "data": {
            "text/plain": [
              "False"
            ]
          },
          "metadata": {},
          "execution_count": 44
        }
      ]
    },
    {
      "cell_type": "code",
      "source": [
        "True"
      ],
      "metadata": {
        "id": "ndw2_jieOUH0",
        "outputId": "94121258-acc8-41ce-c747-8bbeba54a344",
        "colab": {
          "base_uri": "https://localhost:8080/"
        }
      },
      "execution_count": null,
      "outputs": [
        {
          "output_type": "execute_result",
          "data": {
            "text/plain": [
              "True"
            ]
          },
          "metadata": {},
          "execution_count": 45
        }
      ]
    },
    {
      "cell_type": "code",
      "source": [
        "type(True)"
      ],
      "metadata": {
        "id": "9JinkNwzOWGI",
        "outputId": "98f8017b-34b2-48a6-8930-c399e6a5811f",
        "colab": {
          "base_uri": "https://localhost:8080/"
        }
      },
      "execution_count": null,
      "outputs": [
        {
          "output_type": "execute_result",
          "data": {
            "text/plain": [
              "bool"
            ]
          },
          "metadata": {},
          "execution_count": 47
        }
      ]
    },
    {
      "cell_type": "code",
      "source": [
        "type(False)"
      ],
      "metadata": {
        "id": "sYNoU3-kOe4O",
        "outputId": "c18712f0-4298-42ca-9069-36825f63dd05",
        "colab": {
          "base_uri": "https://localhost:8080/"
        }
      },
      "execution_count": null,
      "outputs": [
        {
          "output_type": "execute_result",
          "data": {
            "text/plain": [
              "bool"
            ]
          },
          "metadata": {},
          "execution_count": 48
        }
      ]
    },
    {
      "cell_type": "code",
      "source": [
        "#convirtiendo bool a intero\n",
        "int(True)"
      ],
      "metadata": {
        "id": "tX-UhgRZOhfO",
        "outputId": "f2c7c80b-1cb9-4cd9-bb30-4a5a174ae605",
        "colab": {
          "base_uri": "https://localhost:8080/"
        }
      },
      "execution_count": null,
      "outputs": [
        {
          "output_type": "execute_result",
          "data": {
            "text/plain": [
              "1"
            ]
          },
          "metadata": {},
          "execution_count": 49
        }
      ]
    },
    {
      "cell_type": "code",
      "source": [
        "int(False)"
      ],
      "metadata": {
        "id": "Xo66TP4_Ov4k",
        "outputId": "6e054a21-b706-4431-eff7-47435406b152",
        "colab": {
          "base_uri": "https://localhost:8080/"
        }
      },
      "execution_count": null,
      "outputs": [
        {
          "output_type": "execute_result",
          "data": {
            "text/plain": [
              "0"
            ]
          },
          "metadata": {},
          "execution_count": 50
        }
      ]
    },
    {
      "cell_type": "code",
      "source": [
        "#convirtiendo intero a bool\n",
        "bool(1)"
      ],
      "metadata": {
        "id": "ZRbjdD0wOyrM",
        "outputId": "27019143-9cac-40cb-b370-9df420830da6",
        "colab": {
          "base_uri": "https://localhost:8080/"
        }
      },
      "execution_count": null,
      "outputs": [
        {
          "output_type": "execute_result",
          "data": {
            "text/plain": [
              "True"
            ]
          },
          "metadata": {},
          "execution_count": 51
        }
      ]
    },
    {
      "cell_type": "code",
      "source": [
        "bool(0)"
      ],
      "metadata": {
        "id": "OEupjhXCO4Yk",
        "outputId": "f15aa451-c7fb-4715-b644-9d8a09ad84d9",
        "colab": {
          "base_uri": "https://localhost:8080/"
        }
      },
      "execution_count": null,
      "outputs": [
        {
          "output_type": "execute_result",
          "data": {
            "text/plain": [
              "False"
            ]
          },
          "metadata": {},
          "execution_count": 52
        }
      ]
    },
    {
      "cell_type": "markdown",
      "source": [
        "=====tipos de datos en divisiones===="
      ],
      "metadata": {
        "id": "g6qzRHUcO6rZ"
      }
    },
    {
      "cell_type": "code",
      "source": [
        "type(6/2)"
      ],
      "metadata": {
        "id": "vhmv14vbPmxG",
        "outputId": "e2e444d4-4005-4f2e-ea2f-810810cff84a",
        "colab": {
          "base_uri": "https://localhost:8080/"
        }
      },
      "execution_count": null,
      "outputs": [
        {
          "output_type": "execute_result",
          "data": {
            "text/plain": [
              "float"
            ]
          },
          "metadata": {},
          "execution_count": 53
        }
      ]
    },
    {
      "cell_type": "code",
      "source": [
        "type(6//2) # con doble diagonal se obtiene el valor entero de la división"
      ],
      "metadata": {
        "id": "N1a97amoPqat",
        "outputId": "94ea7ce9-03e7-4c06-dcaa-501decd76bba",
        "colab": {
          "base_uri": "https://localhost:8080/"
        }
      },
      "execution_count": null,
      "outputs": [
        {
          "output_type": "execute_result",
          "data": {
            "text/plain": [
              "int"
            ]
          },
          "metadata": {},
          "execution_count": 54
        }
      ]
    },
    {
      "cell_type": "markdown",
      "source": [
        "## Operadores Matemáticos, expresiones y variables.=================="
      ],
      "metadata": {
        "id": "Aqy256SaPy9r"
      }
    },
    {
      "cell_type": "code",
      "source": [],
      "metadata": {
        "id": "yRKCG4hYQA34"
      },
      "execution_count": null,
      "outputs": []
    },
    {
      "cell_type": "markdown",
      "source": [
        "Las expresiones:  \n",
        "En Python pueden incluir operaciones con matemáticas básicas, sobre datos compatibles como enteros y flotantes.\n",
        "Operaciones: \n",
        "+ Sumas\n",
        "- Restas.\n",
        "* Multiplicaciones.\n",
        "* Divisiones.\n",
        "## Sección nueva"
      ],
      "metadata": {
        "id": "lCBT5OtEkj0D"
      }
    },
    {
      "cell_type": "code",
      "source": [
        "43+60+16+41\n"
      ],
      "metadata": {
        "colab": {
          "base_uri": "https://localhost:8080/"
        },
        "id": "9mfTHVJwlMLW",
        "outputId": "a2d2ac7f-ce6e-4206-e6ae-0329852cdfb0"
      },
      "execution_count": null,
      "outputs": [
        {
          "output_type": "execute_result",
          "data": {
            "text/plain": [
              "160"
            ]
          },
          "metadata": {},
          "execution_count": 1
        }
      ]
    },
    {
      "cell_type": "code",
      "source": [
        "50-60"
      ],
      "metadata": {
        "colab": {
          "base_uri": "https://localhost:8080/"
        },
        "id": "R0L1LEMelk7L",
        "outputId": "aef476e7-fc44-453b-83e8-9b8c73e013c4"
      },
      "execution_count": null,
      "outputs": [
        {
          "output_type": "execute_result",
          "data": {
            "text/plain": [
              "-10"
            ]
          },
          "metadata": {},
          "execution_count": 2
        }
      ]
    },
    {
      "cell_type": "code",
      "source": [
        "5*5\n"
      ],
      "metadata": {
        "colab": {
          "base_uri": "https://localhost:8080/"
        },
        "id": "e6Im5udslrYk",
        "outputId": "bed7caaf-237b-40e5-8d6c-3ab96ccdb237"
      },
      "execution_count": null,
      "outputs": [
        {
          "output_type": "execute_result",
          "data": {
            "text/plain": [
              "25"
            ]
          },
          "metadata": {},
          "execution_count": 3
        }
      ]
    },
    {
      "cell_type": "code",
      "source": [
        "25/5"
      ],
      "metadata": {
        "colab": {
          "base_uri": "https://localhost:8080/"
        },
        "id": "N5EGaaiJluAq",
        "outputId": "2eb8bef7-3b4c-4079-de0d-b2ed3c9c018e"
      },
      "execution_count": null,
      "outputs": [
        {
          "output_type": "execute_result",
          "data": {
            "text/plain": [
              "5.0"
            ]
          },
          "metadata": {},
          "execution_count": 5
        }
      ]
    },
    {
      "cell_type": "code",
      "source": [
        "25/6\n"
      ],
      "metadata": {
        "colab": {
          "base_uri": "https://localhost:8080/"
        },
        "id": "guNGADrUmE5_",
        "outputId": "31c7e2f1-343e-493a-de0f-bb88ac517f1d"
      },
      "execution_count": null,
      "outputs": [
        {
          "output_type": "execute_result",
          "data": {
            "text/plain": [
              "4.166666666666667"
            ]
          },
          "metadata": {},
          "execution_count": 6
        }
      ]
    },
    {
      "cell_type": "code",
      "source": [
        "#Puede usar doble // diagonal para obtener un resultado entero aun cuando tiene decimales.\n",
        "25//6\n"
      ],
      "metadata": {
        "colab": {
          "base_uri": "https://localhost:8080/"
        },
        "id": "ko1GQZzlmNt6",
        "outputId": "c6d52b13-d715-411d-f4e8-3bd4a7e6bd9d"
      },
      "execution_count": null,
      "outputs": [
        {
          "output_type": "execute_result",
          "data": {
            "text/plain": [
              "4"
            ]
          },
          "metadata": {},
          "execution_count": 7
        }
      ]
    },
    {
      "cell_type": "markdown",
      "source": [
        "Convenciones matemáticas:\n",
        " * Se evalúan primero ()\n",
        " * Despues Multiplicaciones * y Divisiones /\n",
        " * Sumas +  y restas - . \n"
      ],
      "metadata": {
        "id": "VB3K8DO0m_8s"
      }
    },
    {
      "cell_type": "code",
      "source": [
        "160/60\n",
        "# evalúa ¿cuantas horas hay en 160 minutos"
      ],
      "metadata": {
        "colab": {
          "base_uri": "https://localhost:8080/"
        },
        "id": "K2C7Vw1YnccR",
        "outputId": "54393567-eb1d-47c6-db0c-cec7a6ac4269"
      },
      "execution_count": null,
      "outputs": [
        {
          "output_type": "execute_result",
          "data": {
            "text/plain": [
              "2.6666666666666665"
            ]
          },
          "metadata": {},
          "execution_count": 8
        }
      ]
    },
    {
      "cell_type": "code",
      "source": [
        "#Evalúa las conveciones de prioridad\n",
        "30+2*60"
      ],
      "metadata": {
        "colab": {
          "base_uri": "https://localhost:8080/"
        },
        "id": "_pnUq-8Fnm-x",
        "outputId": "305e2ce9-bdb1-411d-ed9f-38d5d90119df"
      },
      "execution_count": null,
      "outputs": [
        {
          "output_type": "execute_result",
          "data": {
            "text/plain": [
              "150"
            ]
          },
          "metadata": {},
          "execution_count": 10
        }
      ]
    },
    {
      "cell_type": "code",
      "source": [
        "(30+2)*60"
      ],
      "metadata": {
        "colab": {
          "base_uri": "https://localhost:8080/"
        },
        "id": "Cnv-NW44n6Lh",
        "outputId": "1652ff61-7374-4809-8bb4-0a60744e5624"
      },
      "execution_count": null,
      "outputs": [
        {
          "output_type": "execute_result",
          "data": {
            "text/plain": [
              "1920"
            ]
          },
          "metadata": {},
          "execution_count": 11
        }
      ]
    },
    {
      "cell_type": "markdown",
      "source": [
        "# Variables.\n",
        "# Podemos ocupar variables, que son letras o expresiones alfabeticas para guardar valores de operaciones."
      ],
      "metadata": {
        "id": "J3TO4I6qoWG3"
      }
    },
    {
      "cell_type": "code",
      "source": [
        "x=43+60+16+41\n",
        "x\n",
        "#podemos usar las variables para hacer operaciones y guardar en otras variables.\n",
        "y=x/60\n",
        "y\n"
      ],
      "metadata": {
        "colab": {
          "base_uri": "https://localhost:8080/"
        },
        "id": "n_B3HsfzoYED",
        "outputId": "1412116b-1401-4ada-fa3c-7440a1f9b340"
      },
      "execution_count": null,
      "outputs": [
        {
          "output_type": "execute_result",
          "data": {
            "text/plain": [
              "2.6666666666666665"
            ]
          },
          "metadata": {},
          "execution_count": 14
        }
      ]
    },
    {
      "cell_type": "markdown",
      "source": [
        "variables significativas. \n",
        "Son variables con nombres que significan algo en nuestro codigo, sirven para dar claridad al codigo de la función que realiza."
      ],
      "metadata": {
        "id": "nD7oITKepQe-"
      }
    },
    {
      "cell_type": "code",
      "source": [
        "total_min=43+42+57 #total albunes en minutos.\n",
        "total_min"
      ],
      "metadata": {
        "colab": {
          "base_uri": "https://localhost:8080/"
        },
        "id": "fjYxPBL4pb0k",
        "outputId": "5289c08b-24bf-4818-e21d-4a109caf059a"
      },
      "execution_count": null,
      "outputs": [
        {
          "output_type": "execute_result",
          "data": {
            "text/plain": [
              "142"
            ]
          },
          "metadata": {},
          "execution_count": 16
        }
      ]
    },
    {
      "cell_type": "code",
      "source": [
        "total_hrs=total_min/60\n",
        "total_hrs"
      ],
      "metadata": {
        "colab": {
          "base_uri": "https://localhost:8080/"
        },
        "id": "V73E2BP3p6kY",
        "outputId": "e3492f70-b0d0-4cb0-ce34-9120fb2c799a"
      },
      "execution_count": null,
      "outputs": [
        {
          "output_type": "execute_result",
          "data": {
            "text/plain": [
              "2.3666666666666667"
            ]
          },
          "metadata": {},
          "execution_count": 17
        }
      ]
    },
    {
      "cell_type": "markdown",
      "source": [
        "O se puede hacer todo en una expresión.\n"
      ],
      "metadata": {
        "id": "BmN-evOlqCxj"
      }
    },
    {
      "cell_type": "code",
      "source": [
        "total_hrs=(43+42+57)/60\n",
        "total_hrs"
      ],
      "metadata": {
        "colab": {
          "base_uri": "https://localhost:8080/"
        },
        "id": "IDM4PVLxqSSq",
        "outputId": "1c305d9b-95bd-4679-e248-13c8fe3ea3a6"
      },
      "execution_count": null,
      "outputs": [
        {
          "output_type": "execute_result",
          "data": {
            "text/plain": [
              "2.3666666666666667"
            ]
          },
          "metadata": {},
          "execution_count": 19
        }
      ]
    },
    {
      "cell_type": "markdown",
      "source": [
        "Expresiones y variables en Python.\n",
        "Realiza las siguientes operaciones con variables y mostrar el resultado.\n"
      ],
      "metadata": {
        "id": "IiQmSItarEAy"
      }
    },
    {
      "cell_type": "code",
      "source": [
        "x=3+2*2\n",
        "x\n",
        "y=(3+2)*2\n",
        "y\n",
        "z=x+y\n",
        "z"
      ],
      "metadata": {
        "colab": {
          "base_uri": "https://localhost:8080/"
        },
        "id": "K3Umfj-0rQDV",
        "outputId": "9b160620-c2ae-4227-b1b2-e2e2fc703cca"
      },
      "execution_count": null,
      "outputs": [
        {
          "output_type": "execute_result",
          "data": {
            "text/plain": [
              "17"
            ]
          },
          "metadata": {},
          "execution_count": 23
        }
      ]
    },
    {
      "cell_type": "code",
      "source": [],
      "metadata": {
        "id": "cP5sbA2pwiZy"
      },
      "execution_count": null,
      "outputs": []
    },
    {
      "cell_type": "markdown",
      "source": [
        "# **Laboratorio de Operacioes con cadenas**"
      ],
      "metadata": {
        "id": "XNdkFZ1nwdYD"
      }
    },
    {
      "cell_type": "code",
      "source": [
        "name='Lizz'\n",
        "print(name[0:2])"
      ],
      "metadata": {
        "id": "D-0YU1JJwnRx",
        "outputId": "eaa03e08-6ca1-4a47-f789-0c5b8a0e0c96",
        "colab": {
          "base_uri": "https://localhost:8080/"
        }
      },
      "execution_count": null,
      "outputs": [
        {
          "output_type": "stream",
          "name": "stdout",
          "text": [
            "Li\n"
          ]
        }
      ]
    },
    {
      "cell_type": "code",
      "source": [
        "var='0123456'\n",
        "print(var[::2])"
      ],
      "metadata": {
        "id": "qqFV0Ogn1DUr",
        "outputId": "6aeed7a4-d37f-41ff-953c-03b9cb42ad00",
        "colab": {
          "base_uri": "https://localhost:8080/"
        }
      },
      "execution_count": null,
      "outputs": [
        {
          "output_type": "stream",
          "name": "stdout",
          "text": [
            "0246\n"
          ]
        }
      ]
    },
    {
      "cell_type": "code",
      "source": [
        "'1'+'2'"
      ],
      "metadata": {
        "id": "10wRZTa_1Jlc",
        "outputId": "0850bbf6-5a78-484b-e9c0-3966951d7fef",
        "colab": {
          "base_uri": "https://localhost:8080/",
          "height": 35
        }
      },
      "execution_count": null,
      "outputs": [
        {
          "output_type": "execute_result",
          "data": {
            "text/plain": [
              "'12'"
            ],
            "application/vnd.google.colaboratory.intrinsic+json": {
              "type": "string"
            }
          },
          "metadata": {},
          "execution_count": 27
        }
      ]
    },
    {
      "cell_type": "code",
      "source": [
        "myvar='Hello'\n",
        "myvar.upper()"
      ],
      "metadata": {
        "id": "Z9z8OUWy1ih3",
        "outputId": "5e742737-57e1-4179-e56a-1d98aaa6a8dc",
        "colab": {
          "base_uri": "https://localhost:8080/",
          "height": 35
        }
      },
      "execution_count": null,
      "outputs": [
        {
          "output_type": "execute_result",
          "data": {
            "text/plain": [
              "'HELLO'"
            ],
            "application/vnd.google.colaboratory.intrinsic+json": {
              "type": "string"
            }
          },
          "metadata": {},
          "execution_count": 30
        }
      ]
    },
    {
      "cell_type": "markdown",
      "source": [
        "# ==========================================================================** MODULO 2 **=================================================\n",
        "EXTRUCTURAS DE DATOS EN PYTHON\n",
        "\n",
        "--Lists and tuples."
      ],
      "metadata": {
        "id": "hauR1WPj2DrV"
      }
    },
    {
      "cell_type": "code",
      "source": [
        "B=['a','b','c']\n",
        "B[1:]"
      ],
      "metadata": {
        "id": "-kZtfN1e2sFF",
        "colab": {
          "base_uri": "https://localhost:8080/"
        },
        "outputId": "d8409016-299b-4555-a622-e386f498b01e"
      },
      "execution_count": 3,
      "outputs": [
        {
          "output_type": "execute_result",
          "data": {
            "text/plain": [
              "['b', 'c']"
            ]
          },
          "metadata": {},
          "execution_count": 3
        }
      ]
    },
    {
      "cell_type": "code",
      "source": [
        "# TUPLES\n",
        "#Creando nuestro primer tuples, que son tipos de datos inalterables.\n",
        "tuple1=('disco',10,1.2)\n",
        "tuple1"
      ],
      "metadata": {
        "id": "ZWI3GHyJ2Ueo",
        "colab": {
          "base_uri": "https://localhost:8080/"
        },
        "outputId": "6ff15b85-38be-40fe-e844-61c3a7718d75"
      },
      "execution_count": 4,
      "outputs": [
        {
          "output_type": "execute_result",
          "data": {
            "text/plain": [
              "('disco', 10, 1.2)"
            ]
          },
          "metadata": {},
          "execution_count": 4
        }
      ]
    },
    {
      "cell_type": "markdown",
      "source": [
        "conocer el tipo de dato."
      ],
      "metadata": {
        "id": "-5XOvhcgxQeO"
      }
    },
    {
      "cell_type": "code",
      "source": [
        "type(tuple1)"
      ],
      "metadata": {
        "colab": {
          "base_uri": "https://localhost:8080/"
        },
        "id": "jq40SCAbxpRq",
        "outputId": "45dc3152-4201-49cb-c9a6-ed4599e8ab08"
      },
      "execution_count": 5,
      "outputs": [
        {
          "output_type": "execute_result",
          "data": {
            "text/plain": [
              "tuple"
            ]
          },
          "metadata": {},
          "execution_count": 5
        }
      ]
    },
    {
      "cell_type": "code",
      "source": [
        "#Direccionamiento por índice, se utiliza el nombre de datos  y posición entre corchetes[0]\n",
        "print(tuple1[0])\n",
        "print(tuple1[1])\n",
        "print(tuple1[2])"
      ],
      "metadata": {
        "colab": {
          "base_uri": "https://localhost:8080/"
        },
        "id": "STHm2kEZx2lx",
        "outputId": "6b90a440-c735-4115-aae3-450cc92201c4"
      },
      "execution_count": 6,
      "outputs": [
        {
          "output_type": "stream",
          "name": "stdout",
          "text": [
            "disco\n",
            "10\n",
            "1.2\n"
          ]
        }
      ]
    },
    {
      "cell_type": "code",
      "source": [
        "print(type(tuple1[0]))\n",
        "print(type(tuple1[1]))\n",
        "print(type(tuple1[2]))\n"
      ],
      "metadata": {
        "colab": {
          "base_uri": "https://localhost:8080/"
        },
        "id": "EoJP3pzkzCcw",
        "outputId": "3f78018e-bcd1-4043-ceab-3bc3b8dab1a9"
      },
      "execution_count": 8,
      "outputs": [
        {
          "output_type": "stream",
          "name": "stdout",
          "text": [
            "<class 'str'>\n",
            "<class 'int'>\n",
            "<class 'float'>\n"
          ]
        }
      ]
    },
    {
      "cell_type": "code",
      "source": [
        "#@title Texto de título predeterminado\n",
        "#utilizando los índices \"negativos (-1,-2-3...)\"de posición \n",
        "print(type(tuple1[-3]))\n",
        "print(type(tuple1[-2]))\n",
        "print(type(tuple1[-1]))"
      ],
      "metadata": {
        "colab": {
          "base_uri": "https://localhost:8080/"
        },
        "id": "HZyidtcJzmHC",
        "outputId": "00d22078-3798-4511-8248-e433f004bef3"
      },
      "execution_count": 9,
      "outputs": [
        {
          "output_type": "stream",
          "name": "stdout",
          "text": [
            "<class 'str'>\n",
            "<class 'int'>\n",
            "<class 'float'>\n"
          ]
        }
      ]
    },
    {
      "cell_type": "code",
      "source": [
        "#Los indices negativos(-1) \n",
        "print(tuple1[-3])\n",
        "print(tuple1[-2])\n",
        "print(tuple1[-1])"
      ],
      "metadata": {
        "colab": {
          "base_uri": "https://localhost:8080/"
        },
        "id": "frgHfcSD0rVG",
        "outputId": "2c2a38df-be11-4c02-d8e6-1fcce923727a"
      },
      "execution_count": 11,
      "outputs": [
        {
          "output_type": "stream",
          "name": "stdout",
          "text": [
            "disco\n",
            "10\n",
            "1.2\n"
          ]
        }
      ]
    },
    {
      "cell_type": "markdown",
      "source": [
        "CONCATENAR TUPLES\n",
        "Se pueden concatenar tuples utilizando el signo +"
      ],
      "metadata": {
        "id": "NV_LPUvN1Mgj"
      }
    },
    {
      "cell_type": "code",
      "source": [
        "tuple2=tuple1+('hard rock',10)\n",
        "tuple2"
      ],
      "metadata": {
        "colab": {
          "base_uri": "https://localhost:8080/"
        },
        "id": "ko7Ph0B31Wny",
        "outputId": "15509746-77fb-43fe-ed9e-f01762724df3"
      },
      "execution_count": 12,
      "outputs": [
        {
          "output_type": "execute_result",
          "data": {
            "text/plain": [
              "('disco', 10, 1.2, 'hard rock', 10)"
            ]
          },
          "metadata": {},
          "execution_count": 12
        }
      ]
    },
    {
      "cell_type": "code",
      "source": [
        "#primero obtener la longitud del tuple\n",
        "len(tuple2)\n",
        "print(tuple2[0:3])\n",
        "print(tuple2[3:5])\n",
        "print(len(tuple2))"
      ],
      "metadata": {
        "colab": {
          "base_uri": "https://localhost:8080/"
        },
        "id": "mKoc_vNA1oe0",
        "outputId": "59937ea5-a602-488f-c634-f900baa18e49"
      },
      "execution_count": 15,
      "outputs": [
        {
          "output_type": "stream",
          "name": "stdout",
          "text": [
            "('disco', 10, 1.2)\n",
            "('hard rock', 10)\n",
            "5\n"
          ]
        }
      ]
    },
    {
      "cell_type": "markdown",
      "source": [
        "Ordenamiento de tuples."
      ],
      "metadata": {
        "id": "23c0QUruXFfY"
      }
    },
    {
      "cell_type": "code",
      "source": [
        "# Sorting, utilizando esta función ordena los valores del tuple.\n",
        "Ratings=(0,9,6,5,10,8,9,6,2)\n",
        "#ordena y guarda en un nuevo tuple\n",
        "RatingsSorted=sorted(Ratings)\n",
        "RatingsSorted\n"
      ],
      "metadata": {
        "colab": {
          "base_uri": "https://localhost:8080/"
        },
        "id": "2etdaGQS2lGL",
        "outputId": "4dd09e74-b61b-487b-9710-77516c27099c"
      },
      "execution_count": 3,
      "outputs": [
        {
          "output_type": "execute_result",
          "data": {
            "text/plain": [
              "[0, 2, 5, 6, 6, 8, 9, 9, 10]"
            ]
          },
          "metadata": {},
          "execution_count": 3
        }
      ]
    },
    {
      "cell_type": "markdown",
      "source": [
        "Tuple anidado o NESTED Tuple.*texto en cursiva*"
      ],
      "metadata": {
        "id": "w_UObQurYJAE"
      }
    },
    {
      "cell_type": "code",
      "source": [
        "nestedT=(1,2,('pop','rock'),(3,4),('disco',(1,2)))\n",
        "nestedT"
      ],
      "metadata": {
        "colab": {
          "base_uri": "https://localhost:8080/"
        },
        "id": "T7UMzN9KYMHt",
        "outputId": "6e961ac3-c64e-4ad9-94f1-5abdd04f40e9"
      },
      "execution_count": 19,
      "outputs": [
        {
          "output_type": "execute_result",
          "data": {
            "text/plain": [
              "(1, 2, ('pop', 'rock'), (3, 4), ('disco', (1, 2)))"
            ]
          },
          "metadata": {},
          "execution_count": 19
        }
      ]
    },
    {
      "cell_type": "code",
      "source": [
        "print(\"Elemento 0 de Tuple\",[nestedT[0]])\n",
        "print(\"Elemento 1 de Tuple\",[nestedT[1]])\n",
        "print(\"Elemento 2 de Tuple\",[nestedT[2]])\n",
        "print(\"Elemento 3 de Tuple\",[nestedT[3]])\n",
        "print(\"Elemento 4 de Tuple\",[nestedT[4]])\n"
      ],
      "metadata": {
        "colab": {
          "base_uri": "https://localhost:8080/"
        },
        "id": "YHeNxZAgbSib",
        "outputId": "428100c3-f047-46f1-ed92-e56ba2971e10"
      },
      "execution_count": 20,
      "outputs": [
        {
          "output_type": "stream",
          "name": "stdout",
          "text": [
            "Elemento 0 de Tuple [1]\n",
            "Elemento 1 de Tuple [2]\n",
            "Elemento 2 de Tuple [('pop', 'rock')]\n",
            "Elemento 3 de Tuple [(3, 4)]\n",
            "Elemento 4 de Tuple [('disco', (1, 2))]\n"
          ]
        }
      ]
    },
    {
      "cell_type": "code",
      "source": [
        "print(\"Elemento 2, 0 de tuple:\",nestedT[2][0])\n",
        "print(\"Elemento 2, 1 de tuple:\",nestedT[2][1])\n",
        "print(\"Elemento 3, 0 de tuple:\",nestedT[3][0])\n",
        "print(\"Elemento 3, 1 de tuple:\",nestedT[3][1])"
      ],
      "metadata": {
        "colab": {
          "base_uri": "https://localhost:8080/"
        },
        "id": "2FKiCJXud4CI",
        "outputId": "f664d0d5-32a5-4bb3-9cd9-bece4b8a678e"
      },
      "execution_count": 21,
      "outputs": [
        {
          "output_type": "stream",
          "name": "stdout",
          "text": [
            "Elemento 2, 0 de tuple: pop\n",
            "Elemento 2, 1 de tuple: rock\n",
            "Elemento 3, 0 de tuple: 3\n",
            "Elemento 3, 1 de tuple: 4\n"
          ]
        }
      ]
    },
    {
      "cell_type": "code",
      "source": [
        "#podemos recuperar el valor de un elemento de cadenas dentro de un tuple, por medio de un 3er indice.\n",
        "nestedT[2][1][0]\n"
      ],
      "metadata": {
        "colab": {
          "base_uri": "https://localhost:8080/",
          "height": 35
        },
        "id": "LCXIEgdGhzKU",
        "outputId": "69c1ec13-4f65-46ce-f35d-d22caef4e2c7"
      },
      "execution_count": 24,
      "outputs": [
        {
          "output_type": "execute_result",
          "data": {
            "text/plain": [
              "'r'"
            ],
            "application/vnd.google.colaboratory.intrinsic+json": {
              "type": "string"
            }
          },
          "metadata": {},
          "execution_count": 24
        }
      ]
    },
    {
      "cell_type": "code",
      "source": [
        "nestedT[2][1][1]"
      ],
      "metadata": {
        "colab": {
          "base_uri": "https://localhost:8080/",
          "height": 35
        },
        "id": "fNwe7IQtkNCE",
        "outputId": "bf465d88-aab9-4536-9329-34cd76a05d44"
      },
      "execution_count": 25,
      "outputs": [
        {
          "output_type": "execute_result",
          "data": {
            "text/plain": [
              "'o'"
            ],
            "application/vnd.google.colaboratory.intrinsic+json": {
              "type": "string"
            }
          },
          "metadata": {},
          "execution_count": 25
        }
      ]
    },
    {
      "cell_type": "code",
      "source": [
        "nestedT[4][1][0]"
      ],
      "metadata": {
        "colab": {
          "base_uri": "https://localhost:8080/"
        },
        "id": "tcuG0brykg-F",
        "outputId": "9b98ed9e-65dc-47d9-ce59-45c6e5c2aa6c"
      },
      "execution_count": 26,
      "outputs": [
        {
          "output_type": "execute_result",
          "data": {
            "text/plain": [
              "1"
            ]
          },
          "metadata": {},
          "execution_count": 26
        }
      ]
    },
    {
      "cell_type": "code",
      "source": [
        "nestedT[4][1][1]"
      ],
      "metadata": {
        "colab": {
          "base_uri": "https://localhost:8080/"
        },
        "id": "BzD3nY7RkszD",
        "outputId": "bbc3a28f-1c33-4ee0-ed2c-9477c6eac230"
      },
      "execution_count": 27,
      "outputs": [
        {
          "output_type": "execute_result",
          "data": {
            "text/plain": [
              "2"
            ]
          },
          "metadata": {},
          "execution_count": 27
        }
      ]
    },
    {
      "cell_type": "code",
      "source": [],
      "metadata": {
        "id": "Z9EHGeyhkw5R"
      },
      "execution_count": null,
      "outputs": []
    },
    {
      "cell_type": "markdown",
      "source": [
        "# **Quiz sobre tema de Tuples+++++++++++++++++++++**\n"
      ],
      "metadata": {
        "id": "GAYdLzfGnib5"
      }
    },
    {
      "cell_type": "code",
      "source": [
        "genres_tuple = (\"pop\",\"rock\",\"soul\",\"hard rock\",\"soft rock\",\"R&B\",\"progressive rock\",\"dsco\")\n",
        "genres_tuple\n"
      ],
      "metadata": {
        "id": "BCxV1uc-nxr1",
        "outputId": "7e14fbf8-814c-42e3-fc90-e55936dd330b",
        "colab": {
          "base_uri": "https://localhost:8080/"
        }
      },
      "execution_count": 33,
      "outputs": [
        {
          "output_type": "execute_result",
          "data": {
            "text/plain": [
              "('pop',\n",
              " 'rock',\n",
              " 'soul',\n",
              " 'hard rock',\n",
              " 'soft rock',\n",
              " 'R&B',\n",
              " 'progressive rock',\n",
              " 'dsco')"
            ]
          },
          "metadata": {},
          "execution_count": 33
        }
      ]
    },
    {
      "cell_type": "code",
      "source": [
        "len(genres_tuple) #obtener la longitud del tuple"
      ],
      "metadata": {
        "id": "FT14XsVcvUyA",
        "outputId": "fae6de9e-6eab-4f1a-837a-0a416e458499",
        "colab": {
          "base_uri": "https://localhost:8080/"
        }
      },
      "execution_count": 37,
      "outputs": [
        {
          "output_type": "execute_result",
          "data": {
            "text/plain": [
              "8"
            ]
          },
          "metadata": {},
          "execution_count": 37
        }
      ]
    },
    {
      "cell_type": "code",
      "source": [
        "# obtener el elemento número 3 del tuple\n",
        "genres_tuple[3]"
      ],
      "metadata": {
        "id": "JHBvk3Grvzjw",
        "outputId": "7f242a09-8d4e-4f7d-cb8a-0f0d9d4f418a",
        "colab": {
          "base_uri": "https://localhost:8080/",
          "height": 35
        }
      },
      "execution_count": 38,
      "outputs": [
        {
          "output_type": "execute_result",
          "data": {
            "text/plain": [
              "'hard rock'"
            ],
            "application/vnd.google.colaboratory.intrinsic+json": {
              "type": "string"
            }
          },
          "metadata": {},
          "execution_count": 38
        }
      ]
    },
    {
      "cell_type": "code",
      "source": [
        "#obtener el elemento 3, 4 y 5(recordar que se pone una posición mas de las esperada)\n",
        "print(genres_tuple[3:6])"
      ],
      "metadata": {
        "id": "yi3tov-IwKep",
        "outputId": "d7796b2a-6708-4cef-e32b-a1c99194c73d",
        "colab": {
          "base_uri": "https://localhost:8080/"
        }
      },
      "execution_count": 42,
      "outputs": [
        {
          "output_type": "stream",
          "name": "stdout",
          "text": [
            "('hard rock', 'soft rock', 'R&B')\n"
          ]
        }
      ]
    },
    {
      "cell_type": "code",
      "source": [
        "#obtener los primeros 2 elementos del tuple\n",
        "genres_tuple[0:2]"
      ],
      "metadata": {
        "id": "FdK0xd3HxQ9s",
        "outputId": "91bac50e-5f12-424e-c0e0-51d27424f214",
        "colab": {
          "base_uri": "https://localhost:8080/"
        }
      },
      "execution_count": 44,
      "outputs": [
        {
          "output_type": "execute_result",
          "data": {
            "text/plain": [
              "('pop', 'rock')"
            ]
          },
          "metadata": {},
          "execution_count": 44
        }
      ]
    },
    {
      "cell_type": "code",
      "source": [
        "#encuentra el índice del elemento disco.\n",
        "genres_tuple.index ('disco')"
      ],
      "metadata": {
        "id": "h-lVR9yGx30s",
        "outputId": "a19f84a9-a7ac-4786-fef4-394fc8937fb4",
        "colab": {
          "base_uri": "https://localhost:8080/",
          "height": 184
        }
      },
      "execution_count": 46,
      "outputs": [
        {
          "output_type": "error",
          "ename": "ValueError",
          "evalue": "ignored",
          "traceback": [
            "\u001b[0;31m---------------------------------------------------------------------------\u001b[0m",
            "\u001b[0;31mValueError\u001b[0m                                Traceback (most recent call last)",
            "\u001b[0;32m<ipython-input-46-f35976055345>\u001b[0m in \u001b[0;36m<module>\u001b[0;34m\u001b[0m\n\u001b[1;32m      1\u001b[0m \u001b[0;31m#encuentra el índice del elemento disco.\u001b[0m\u001b[0;34m\u001b[0m\u001b[0;34m\u001b[0m\u001b[0;34m\u001b[0m\u001b[0m\n\u001b[0;32m----> 2\u001b[0;31m \u001b[0mgenres_tuple\u001b[0m\u001b[0;34m.\u001b[0m\u001b[0mindex\u001b[0m \u001b[0;34m(\u001b[0m\u001b[0;34m'disco'\u001b[0m\u001b[0;34m)\u001b[0m\u001b[0;34m\u001b[0m\u001b[0;34m\u001b[0m\u001b[0m\n\u001b[0m",
            "\u001b[0;31mValueError\u001b[0m: tuple.index(x): x not in tuple"
          ]
        }
      ]
    },
    {
      "cell_type": "code",
      "source": [],
      "metadata": {
        "id": "nlTionjQy_-j"
      },
      "execution_count": null,
      "outputs": []
    }
  ]
}