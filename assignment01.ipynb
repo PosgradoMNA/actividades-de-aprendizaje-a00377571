{
  "nbformat": 4,
  "nbformat_minor": 0,
  "metadata": {
    "colab": {
      "name": "assignment01.ipynb",
      "provenance": [],
      "include_colab_link": true
    },
    "kernelspec": {
      "name": "python3",
      "display_name": "Python 3"
    },
    "language_info": {
      "name": "python"
    }
  },
  "cells": [
    {
      "cell_type": "markdown",
      "metadata": {
        "id": "view-in-github",
        "colab_type": "text"
      },
      "source": [
        "<a href=\"https://colab.research.google.com/github/PosgradoMNA/actividades-de-aprendizaje-a00377571/blob/main/assignment01.ipynb\" target=\"_parent\"><img src=\"https://colab.research.google.com/assets/colab-badge.svg\" alt=\"Open In Colab\"/></a>"
      ]
    },
    {
      "cell_type": "code",
      "execution_count": null,
      "metadata": {
        "id": "LzUSMM79NR9P",
        "outputId": "0e6cb421-1096-426a-b31a-f61d059def81",
        "colab": {
          "base_uri": "https://localhost:8080/"
        }
      },
      "outputs": [
        {
          "output_type": "stream",
          "name": "stdout",
          "text": [
            "assignment01 for GitJobish03 and edited in git, and 18\n"
          ]
        }
      ],
      "source": [
        "print('assignment01 for GitJobish03 and edited in git, and 18')"
      ]
    },
    {
      "cell_type": "code",
      "source": [
        "#print Hello Python 101\n",
        "print(\"Hello Python 101\")"
      ],
      "metadata": {
        "id": "mxM_WppZPMFx",
        "colab": {
          "base_uri": "https://localhost:8080/"
        },
        "outputId": "c0a54676-40ec-4e4f-d1ee-3e81c2ddab2d"
      },
      "execution_count": 1,
      "outputs": [
        {
          "output_type": "stream",
          "name": "stdout",
          "text": [
            "Hello Python 101\n"
          ]
        }
      ]
    },
    {
      "cell_type": "markdown",
      "source": [
        "hands on lab: Encontrar el resultado de print(\"Hello\\nWorld! \")"
      ],
      "metadata": {
        "id": "t9cjPvtogWQq"
      }
    },
    {
      "cell_type": "code",
      "source": [
        "print(\"Hello\\nWorld! \")\n"
      ],
      "metadata": {
        "colab": {
          "base_uri": "https://localhost:8080/"
        },
        "id": "FOy7vV5whiGg",
        "outputId": "f4f57b46-ff73-4d00-f4f8-15a03ed89657"
      },
      "execution_count": 2,
      "outputs": [
        {
          "output_type": "stream",
          "name": "stdout",
          "text": [
            "Hello\n",
            "World! \n"
          ]
        }
      ]
    },
    {
      "cell_type": "markdown",
      "source": [
        "¿Cuál es la salida de la ejecuión de la siguiente sentencia: # print('Hello world!')?"
      ],
      "metadata": {
        "id": "RcdY_B5UiJph"
      }
    },
    {
      "cell_type": "code",
      "source": [
        "#print('Hello world!')\n"
      ],
      "metadata": {
        "id": "UMBuJa-7j1iM"
      },
      "execution_count": 3,
      "outputs": []
    },
    {
      "cell_type": "markdown",
      "source": [
        "What is the type of the following: int(1.0)?"
      ],
      "metadata": {
        "id": "Bn8WeixEncH2"
      }
    },
    {
      "cell_type": "code",
      "source": [
        "\n",
        "int(1.0)\n"
      ],
      "metadata": {
        "id": "oLUM0VSYnmgL",
        "outputId": "dc92ff6a-02e6-4609-fd37-03bfe46a566b",
        "colab": {
          "base_uri": "https://localhost:8080/"
        }
      },
      "execution_count": 9,
      "outputs": [
        {
          "output_type": "execute_result",
          "data": {
            "text/plain": [
              "1"
            ]
          },
          "metadata": {},
          "execution_count": 9
        }
      ]
    },
    {
      "cell_type": "markdown",
      "source": [
        "Enter the code to convert the number 1 to boolean "
      ],
      "metadata": {
        "id": "Us_7eEgwo4e_"
      }
    },
    {
      "cell_type": "markdown",
      "source": [],
      "metadata": {
        "id": "HjXMJMfzpFA8"
      }
    },
    {
      "cell_type": "code",
      "source": [
        "bool(1)"
      ],
      "metadata": {
        "id": "6wKRKGLapJ9a",
        "outputId": "be0b8a5b-80b7-4921-d5ec-d17fe510d0c9",
        "colab": {
          "base_uri": "https://localhost:8080/"
        }
      },
      "execution_count": 10,
      "outputs": [
        {
          "output_type": "execute_result",
          "data": {
            "text/plain": [
              "True"
            ]
          },
          "metadata": {},
          "execution_count": 10
        }
      ]
    },
    {
      "cell_type": "markdown",
      "source": [],
      "metadata": {
        "id": "LfwBvOR_pFRw"
      }
    },
    {
      "cell_type": "code",
      "source": [
        "bool(\"1\")"
      ],
      "metadata": {
        "id": "zcZz8kUVpXtB",
        "outputId": "246b3386-649b-4697-e7b6-691b6234f03c",
        "colab": {
          "base_uri": "https://localhost:8080/"
        }
      },
      "execution_count": 11,
      "outputs": [
        {
          "output_type": "execute_result",
          "data": {
            "text/plain": [
              "True"
            ]
          },
          "metadata": {},
          "execution_count": 11
        }
      ]
    },
    {
      "cell_type": "code",
      "source": [
        "#Revisaremos la versión de Python.\n",
        "import sys\n",
        "print(sys.version)\n"
      ],
      "metadata": {
        "id": "EAOuut-xwkaO",
        "outputId": "294167d0-0534-4587-d31d-9040537f73ef",
        "colab": {
          "base_uri": "https://localhost:8080/"
        }
      },
      "execution_count": 12,
      "outputs": [
        {
          "output_type": "stream",
          "name": "stdout",
          "text": [
            "3.7.14 (default, Sep  8 2022, 00:06:44) \n",
            "[GCC 7.5.0]\n"
          ]
        }
      ]
    },
    {
      "cell_type": "code",
      "source": [
        "#Practicando comentarios en Python.\n",
        "print('Hello, Python!') #ésto imprimirá Hello Python\n",
        "#print('hi')"
      ],
      "metadata": {
        "id": "t08kDWRJywQM",
        "outputId": "4b7d12a0-b4a6-4861-879f-01db6a242b3b",
        "colab": {
          "base_uri": "https://localhost:8080/"
        }
      },
      "execution_count": 13,
      "outputs": [
        {
          "output_type": "stream",
          "name": "stdout",
          "text": [
            "Hello, Python!\n"
          ]
        }
      ]
    },
    {
      "cell_type": "markdown",
      "source": [
        "Errores en Python, aquí se muestran dos tipos de errores frecuentes: Error de nombre y error de sintaxis.\n",
        "Error de nombre: \n",
        "      Corrrecto-- print('Hello World') \n",
        "      Incorrecto- frint('Hello world') error en la F.\n",
        "      Error de sintaxis:\n",
        "      Correcto--- print('Hello world')\n",
        "      Incorrecto- print('Hello world) error falt un operador '."
      ],
      "metadata": {
        "id": "6GRLAF4U5wai"
      }
    },
    {
      "cell_type": "code",
      "source": [
        "#error en nombre de función.\n",
        "frint('Hello world')\n"
      ],
      "metadata": {
        "id": "1guA_Ff76u4p",
        "outputId": "93ce9948-f8e9-485d-caff-dd246c5918b6",
        "colab": {
          "base_uri": "https://localhost:8080/",
          "height": 184
        }
      },
      "execution_count": 14,
      "outputs": [
        {
          "output_type": "error",
          "ename": "NameError",
          "evalue": "ignored",
          "traceback": [
            "\u001b[0;31m---------------------------------------------------------------------------\u001b[0m",
            "\u001b[0;31mNameError\u001b[0m                                 Traceback (most recent call last)",
            "\u001b[0;32m<ipython-input-14-fe89d90c8cb2>\u001b[0m in \u001b[0;36m<module>\u001b[0;34m\u001b[0m\n\u001b[1;32m      1\u001b[0m \u001b[0;31m#error en nombre de función.\u001b[0m\u001b[0;34m\u001b[0m\u001b[0;34m\u001b[0m\u001b[0;34m\u001b[0m\u001b[0m\n\u001b[0;32m----> 2\u001b[0;31m \u001b[0mfrint\u001b[0m\u001b[0;34m(\u001b[0m\u001b[0;34m'Hello world'\u001b[0m\u001b[0;34m)\u001b[0m\u001b[0;34m\u001b[0m\u001b[0;34m\u001b[0m\u001b[0m\n\u001b[0m",
            "\u001b[0;31mNameError\u001b[0m: name 'frint' is not defined"
          ]
        }
      ]
    },
    {
      "cell_type": "code",
      "source": [
        "#error de sintaxis\n",
        "print('Hello world)\n"
      ],
      "metadata": {
        "id": "QftfAOuL7QHS",
        "outputId": "d32b8dfa-3ccc-4a34-a7ed-fff34954e249",
        "colab": {
          "base_uri": "https://localhost:8080/",
          "height": 131
        }
      },
      "execution_count": 15,
      "outputs": [
        {
          "output_type": "error",
          "ename": "SyntaxError",
          "evalue": "ignored",
          "traceback": [
            "\u001b[0;36m  File \u001b[0;32m\"<ipython-input-15-c1b9b904d785>\"\u001b[0;36m, line \u001b[0;32m2\u001b[0m\n\u001b[0;31m    print('Hello world)\u001b[0m\n\u001b[0m                       ^\u001b[0m\n\u001b[0;31mSyntaxError\u001b[0m\u001b[0;31m:\u001b[0m EOL while scanning string literal\n"
          ]
        }
      ]
    }
  ]
}